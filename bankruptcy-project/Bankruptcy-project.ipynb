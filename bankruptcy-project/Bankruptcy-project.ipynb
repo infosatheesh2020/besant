{
 "cells": [
  {
   "cell_type": "markdown",
   "metadata": {},
   "source": [
    "# Bankruptcy Project"
   ]
  },
  {
   "cell_type": "raw",
   "metadata": {},
   "source": [
    "# Data Classification problem \n",
    "# 65 attributes of imput data result in target value (1/0 - yes/no) output for loan approval"
   ]
  },
  {
   "cell_type": "code",
   "execution_count": 1,
   "metadata": {},
   "outputs": [],
   "source": [
    "import pandas as pd\n",
    "import numpy as np"
   ]
  },
  {
   "cell_type": "code",
   "execution_count": 2,
   "metadata": {},
   "outputs": [
    {
     "data": {
      "text/html": [
       "<div>\n",
       "<style scoped>\n",
       "    .dataframe tbody tr th:only-of-type {\n",
       "        vertical-align: middle;\n",
       "    }\n",
       "\n",
       "    .dataframe tbody tr th {\n",
       "        vertical-align: top;\n",
       "    }\n",
       "\n",
       "    .dataframe thead th {\n",
       "        text-align: right;\n",
       "    }\n",
       "</style>\n",
       "<table border=\"1\" class=\"dataframe\">\n",
       "  <thead>\n",
       "    <tr style=\"text-align: right;\">\n",
       "      <th></th>\n",
       "      <th>ID</th>\n",
       "      <th>Attr1</th>\n",
       "      <th>Attr2</th>\n",
       "      <th>Attr3</th>\n",
       "      <th>Attr4</th>\n",
       "      <th>Attr5</th>\n",
       "      <th>Attr6</th>\n",
       "      <th>Attr7</th>\n",
       "      <th>Attr8</th>\n",
       "      <th>Attr9</th>\n",
       "      <th>...</th>\n",
       "      <th>Attr56</th>\n",
       "      <th>Attr57</th>\n",
       "      <th>Attr58</th>\n",
       "      <th>Attr59</th>\n",
       "      <th>Attr60</th>\n",
       "      <th>Attr61</th>\n",
       "      <th>Attr62</th>\n",
       "      <th>Attr63</th>\n",
       "      <th>Attr64</th>\n",
       "      <th>target</th>\n",
       "    </tr>\n",
       "  </thead>\n",
       "  <tbody>\n",
       "    <tr>\n",
       "      <th>count</th>\n",
       "      <td>36553.000000</td>\n",
       "      <td>36545.000000</td>\n",
       "      <td>36545.000000</td>\n",
       "      <td>36545.000000</td>\n",
       "      <td>36442.000000</td>\n",
       "      <td>3.647700e+04</td>\n",
       "      <td>36545.000000</td>\n",
       "      <td>36545.000000</td>\n",
       "      <td>36474.000000</td>\n",
       "      <td>36546.000000</td>\n",
       "      <td>...</td>\n",
       "      <td>3.644000e+04</td>\n",
       "      <td>36546.000000</td>\n",
       "      <td>3.647700e+04</td>\n",
       "      <td>36546.000000</td>\n",
       "      <td>3.472000e+04</td>\n",
       "      <td>36467.000000</td>\n",
       "      <td>3.644000e+04</td>\n",
       "      <td>36442.000000</td>\n",
       "      <td>35859.000000</td>\n",
       "      <td>36553.000000</td>\n",
       "    </tr>\n",
       "    <tr>\n",
       "      <th>mean</th>\n",
       "      <td>18277.000000</td>\n",
       "      <td>0.051461</td>\n",
       "      <td>0.577743</td>\n",
       "      <td>0.127402</td>\n",
       "      <td>6.838949</td>\n",
       "      <td>-4.823320e+02</td>\n",
       "      <td>-0.030899</td>\n",
       "      <td>0.115142</td>\n",
       "      <td>12.906786</td>\n",
       "      <td>2.674919</td>\n",
       "      <td>...</td>\n",
       "      <td>-3.114462e+01</td>\n",
       "      <td>-0.017852</td>\n",
       "      <td>3.495525e+01</td>\n",
       "      <td>1.480542</td>\n",
       "      <td>4.820583e+02</td>\n",
       "      <td>17.681064</td>\n",
       "      <td>1.783960e+03</td>\n",
       "      <td>9.416529</td>\n",
       "      <td>77.345570</td>\n",
       "      <td>0.048286</td>\n",
       "    </tr>\n",
       "    <tr>\n",
       "      <th>std</th>\n",
       "      <td>10552.086531</td>\n",
       "      <td>1.670725</td>\n",
       "      <td>5.438081</td>\n",
       "      <td>4.917424</td>\n",
       "      <td>321.804895</td>\n",
       "      <td>6.617408e+04</td>\n",
       "      <td>6.518182</td>\n",
       "      <td>5.628794</td>\n",
       "      <td>520.063823</td>\n",
       "      <td>64.903626</td>\n",
       "      <td>...</td>\n",
       "      <td>5.806271e+03</td>\n",
       "      <td>14.507844</td>\n",
       "      <td>5.812797e+03</td>\n",
       "      <td>132.743470</td>\n",
       "      <td>3.509410e+04</td>\n",
       "      <td>600.955679</td>\n",
       "      <td>1.512356e+05</td>\n",
       "      <td>131.812478</td>\n",
       "      <td>2560.625896</td>\n",
       "      <td>0.214373</td>\n",
       "    </tr>\n",
       "    <tr>\n",
       "      <th>min</th>\n",
       "      <td>1.000000</td>\n",
       "      <td>-256.890000</td>\n",
       "      <td>-430.870000</td>\n",
       "      <td>-479.960000</td>\n",
       "      <td>-0.045319</td>\n",
       "      <td>-1.190300e+07</td>\n",
       "      <td>-508.410000</td>\n",
       "      <td>-517.480000</td>\n",
       "      <td>-141.410000</td>\n",
       "      <td>-3.496000</td>\n",
       "      <td>...</td>\n",
       "      <td>-1.108300e+06</td>\n",
       "      <td>-1667.300000</td>\n",
       "      <td>-1.986900e+02</td>\n",
       "      <td>-327.970000</td>\n",
       "      <td>-1.244000e+01</td>\n",
       "      <td>-12.656000</td>\n",
       "      <td>-1.496500e+04</td>\n",
       "      <td>-0.367890</td>\n",
       "      <td>-3.726500</td>\n",
       "      <td>0.000000</td>\n",
       "    </tr>\n",
       "    <tr>\n",
       "      <th>25%</th>\n",
       "      <td>9139.000000</td>\n",
       "      <td>0.003342</td>\n",
       "      <td>0.269610</td>\n",
       "      <td>0.022121</td>\n",
       "      <td>1.050625</td>\n",
       "      <td>-4.900900e+01</td>\n",
       "      <td>0.000000</td>\n",
       "      <td>0.005693</td>\n",
       "      <td>0.428970</td>\n",
       "      <td>1.018700</td>\n",
       "      <td>...</td>\n",
       "      <td>9.144250e-03</td>\n",
       "      <td>0.014675</td>\n",
       "      <td>8.751900e-01</td>\n",
       "      <td>0.000000</td>\n",
       "      <td>5.524575e+00</td>\n",
       "      <td>4.512200</td>\n",
       "      <td>4.212250e+01</td>\n",
       "      <td>3.098925</td>\n",
       "      <td>2.187150</td>\n",
       "      <td>0.000000</td>\n",
       "    </tr>\n",
       "    <tr>\n",
       "      <th>50%</th>\n",
       "      <td>18277.000000</td>\n",
       "      <td>0.049595</td>\n",
       "      <td>0.472550</td>\n",
       "      <td>0.197470</td>\n",
       "      <td>1.571500</td>\n",
       "      <td>-8.095900e-01</td>\n",
       "      <td>0.000000</td>\n",
       "      <td>0.059546</td>\n",
       "      <td>1.069300</td>\n",
       "      <td>1.199900</td>\n",
       "      <td>...</td>\n",
       "      <td>5.293650e-02</td>\n",
       "      <td>0.120480</td>\n",
       "      <td>9.508600e-01</td>\n",
       "      <td>0.005514</td>\n",
       "      <td>9.753600e+00</td>\n",
       "      <td>6.634200</td>\n",
       "      <td>7.141350e+01</td>\n",
       "      <td>5.078750</td>\n",
       "      <td>4.308900</td>\n",
       "      <td>0.000000</td>\n",
       "    </tr>\n",
       "    <tr>\n",
       "      <th>75%</th>\n",
       "      <td>27415.000000</td>\n",
       "      <td>0.130080</td>\n",
       "      <td>0.689240</td>\n",
       "      <td>0.404840</td>\n",
       "      <td>2.794200</td>\n",
       "      <td>5.104700e+01</td>\n",
       "      <td>0.086872</td>\n",
       "      <td>0.151670</td>\n",
       "      <td>2.606125</td>\n",
       "      <td>2.063000</td>\n",
       "      <td>...</td>\n",
       "      <td>1.294525e-01</td>\n",
       "      <td>0.286285</td>\n",
       "      <td>9.927100e-01</td>\n",
       "      <td>0.234970</td>\n",
       "      <td>2.016175e+01</td>\n",
       "      <td>10.379500</td>\n",
       "      <td>1.171925e+02</td>\n",
       "      <td>8.606525</td>\n",
       "      <td>9.788900</td>\n",
       "      <td>0.000000</td>\n",
       "    </tr>\n",
       "    <tr>\n",
       "      <th>max</th>\n",
       "      <td>36553.000000</td>\n",
       "      <td>94.280000</td>\n",
       "      <td>480.960000</td>\n",
       "      <td>28.336000</td>\n",
       "      <td>53433.000000</td>\n",
       "      <td>1.034100e+06</td>\n",
       "      <td>543.250000</td>\n",
       "      <td>649.230000</td>\n",
       "      <td>53432.000000</td>\n",
       "      <td>9742.300000</td>\n",
       "      <td>...</td>\n",
       "      <td>1.120200e+02</td>\n",
       "      <td>552.640000</td>\n",
       "      <td>1.108300e+06</td>\n",
       "      <td>23853.000000</td>\n",
       "      <td>4.818700e+06</td>\n",
       "      <td>108000.000000</td>\n",
       "      <td>2.501600e+07</td>\n",
       "      <td>23454.000000</td>\n",
       "      <td>294770.000000</td>\n",
       "      <td>1.000000</td>\n",
       "    </tr>\n",
       "  </tbody>\n",
       "</table>\n",
       "<p>8 rows × 66 columns</p>\n",
       "</div>"
      ],
      "text/plain": [
       "                 ID         Attr1         Attr2         Attr3         Attr4  \\\n",
       "count  36553.000000  36545.000000  36545.000000  36545.000000  36442.000000   \n",
       "mean   18277.000000      0.051461      0.577743      0.127402      6.838949   \n",
       "std    10552.086531      1.670725      5.438081      4.917424    321.804895   \n",
       "min        1.000000   -256.890000   -430.870000   -479.960000     -0.045319   \n",
       "25%     9139.000000      0.003342      0.269610      0.022121      1.050625   \n",
       "50%    18277.000000      0.049595      0.472550      0.197470      1.571500   \n",
       "75%    27415.000000      0.130080      0.689240      0.404840      2.794200   \n",
       "max    36553.000000     94.280000    480.960000     28.336000  53433.000000   \n",
       "\n",
       "              Attr5         Attr6         Attr7         Attr8         Attr9  \\\n",
       "count  3.647700e+04  36545.000000  36545.000000  36474.000000  36546.000000   \n",
       "mean  -4.823320e+02     -0.030899      0.115142     12.906786      2.674919   \n",
       "std    6.617408e+04      6.518182      5.628794    520.063823     64.903626   \n",
       "min   -1.190300e+07   -508.410000   -517.480000   -141.410000     -3.496000   \n",
       "25%   -4.900900e+01      0.000000      0.005693      0.428970      1.018700   \n",
       "50%   -8.095900e-01      0.000000      0.059546      1.069300      1.199900   \n",
       "75%    5.104700e+01      0.086872      0.151670      2.606125      2.063000   \n",
       "max    1.034100e+06    543.250000    649.230000  53432.000000   9742.300000   \n",
       "\n",
       "           ...             Attr56        Attr57        Attr58        Attr59  \\\n",
       "count      ...       3.644000e+04  36546.000000  3.647700e+04  36546.000000   \n",
       "mean       ...      -3.114462e+01     -0.017852  3.495525e+01      1.480542   \n",
       "std        ...       5.806271e+03     14.507844  5.812797e+03    132.743470   \n",
       "min        ...      -1.108300e+06  -1667.300000 -1.986900e+02   -327.970000   \n",
       "25%        ...       9.144250e-03      0.014675  8.751900e-01      0.000000   \n",
       "50%        ...       5.293650e-02      0.120480  9.508600e-01      0.005514   \n",
       "75%        ...       1.294525e-01      0.286285  9.927100e-01      0.234970   \n",
       "max        ...       1.120200e+02    552.640000  1.108300e+06  23853.000000   \n",
       "\n",
       "             Attr60         Attr61        Attr62        Attr63         Attr64  \\\n",
       "count  3.472000e+04   36467.000000  3.644000e+04  36442.000000   35859.000000   \n",
       "mean   4.820583e+02      17.681064  1.783960e+03      9.416529      77.345570   \n",
       "std    3.509410e+04     600.955679  1.512356e+05    131.812478    2560.625896   \n",
       "min   -1.244000e+01     -12.656000 -1.496500e+04     -0.367890      -3.726500   \n",
       "25%    5.524575e+00       4.512200  4.212250e+01      3.098925       2.187150   \n",
       "50%    9.753600e+00       6.634200  7.141350e+01      5.078750       4.308900   \n",
       "75%    2.016175e+01      10.379500  1.171925e+02      8.606525       9.788900   \n",
       "max    4.818700e+06  108000.000000  2.501600e+07  23454.000000  294770.000000   \n",
       "\n",
       "             target  \n",
       "count  36553.000000  \n",
       "mean       0.048286  \n",
       "std        0.214373  \n",
       "min        0.000000  \n",
       "25%        0.000000  \n",
       "50%        0.000000  \n",
       "75%        0.000000  \n",
       "max        1.000000  \n",
       "\n",
       "[8 rows x 66 columns]"
      ]
     },
     "execution_count": 2,
     "metadata": {},
     "output_type": "execute_result"
    }
   ],
   "source": [
    "data = pd.read_csv('Bankruptcy_data.csv')\n",
    "data.describe()"
   ]
  },
  {
   "cell_type": "code",
   "execution_count": 4,
   "metadata": {},
   "outputs": [
    {
     "data": {
      "text/html": [
       "<div>\n",
       "<style scoped>\n",
       "    .dataframe tbody tr th:only-of-type {\n",
       "        vertical-align: middle;\n",
       "    }\n",
       "\n",
       "    .dataframe tbody tr th {\n",
       "        vertical-align: top;\n",
       "    }\n",
       "\n",
       "    .dataframe thead th {\n",
       "        text-align: right;\n",
       "    }\n",
       "</style>\n",
       "<table border=\"1\" class=\"dataframe\">\n",
       "  <thead>\n",
       "    <tr style=\"text-align: right;\">\n",
       "      <th></th>\n",
       "      <th>ID</th>\n",
       "      <th>Attr1</th>\n",
       "      <th>Attr2</th>\n",
       "      <th>Attr3</th>\n",
       "      <th>Attr4</th>\n",
       "      <th>Attr5</th>\n",
       "      <th>Attr6</th>\n",
       "      <th>Attr7</th>\n",
       "      <th>Attr8</th>\n",
       "      <th>Attr9</th>\n",
       "      <th>...</th>\n",
       "      <th>Attr56</th>\n",
       "      <th>Attr57</th>\n",
       "      <th>Attr58</th>\n",
       "      <th>Attr59</th>\n",
       "      <th>Attr60</th>\n",
       "      <th>Attr61</th>\n",
       "      <th>Attr62</th>\n",
       "      <th>Attr63</th>\n",
       "      <th>Attr64</th>\n",
       "      <th>target</th>\n",
       "    </tr>\n",
       "  </thead>\n",
       "  <tbody>\n",
       "    <tr>\n",
       "      <th>0</th>\n",
       "      <td>1</td>\n",
       "      <td>0.135370</td>\n",
       "      <td>0.45185</td>\n",
       "      <td>0.31162</td>\n",
       "      <td>2.0469</td>\n",
       "      <td>10.2340</td>\n",
       "      <td>0.16768</td>\n",
       "      <td>0.167630</td>\n",
       "      <td>1.21310</td>\n",
       "      <td>2.25540</td>\n",
       "      <td>...</td>\n",
       "      <td>0.078728</td>\n",
       "      <td>0.24695</td>\n",
       "      <td>0.92586</td>\n",
       "      <td>0.18362</td>\n",
       "      <td>9.0895</td>\n",
       "      <td>8.8342</td>\n",
       "      <td>48.172</td>\n",
       "      <td>7.5770</td>\n",
       "      <td>5.7725</td>\n",
       "      <td>0</td>\n",
       "    </tr>\n",
       "    <tr>\n",
       "      <th>1</th>\n",
       "      <td>2</td>\n",
       "      <td>0.005861</td>\n",
       "      <td>0.39858</td>\n",
       "      <td>0.19768</td>\n",
       "      <td>1.9390</td>\n",
       "      <td>9.5771</td>\n",
       "      <td>0.00000</td>\n",
       "      <td>0.007237</td>\n",
       "      <td>1.50890</td>\n",
       "      <td>0.97880</td>\n",
       "      <td>...</td>\n",
       "      <td>0.269720</td>\n",
       "      <td>0.00000</td>\n",
       "      <td>0.79303</td>\n",
       "      <td>0.31271</td>\n",
       "      <td>6.2213</td>\n",
       "      <td>4.2785</td>\n",
       "      <td>78.499</td>\n",
       "      <td>4.6497</td>\n",
       "      <td>1.6539</td>\n",
       "      <td>0</td>\n",
       "    </tr>\n",
       "    <tr>\n",
       "      <th>2</th>\n",
       "      <td>3</td>\n",
       "      <td>0.110600</td>\n",
       "      <td>0.16117</td>\n",
       "      <td>0.47894</td>\n",
       "      <td>7.5711</td>\n",
       "      <td>263.9000</td>\n",
       "      <td>0.00000</td>\n",
       "      <td>0.138360</td>\n",
       "      <td>5.20450</td>\n",
       "      <td>0.68447</td>\n",
       "      <td>...</td>\n",
       "      <td>0.159870</td>\n",
       "      <td>0.13185</td>\n",
       "      <td>0.80748</td>\n",
       "      <td>0.10234</td>\n",
       "      <td>9.4499</td>\n",
       "      <td>3.3443</td>\n",
       "      <td>38.867</td>\n",
       "      <td>9.3910</td>\n",
       "      <td>1.5272</td>\n",
       "      <td>0</td>\n",
       "    </tr>\n",
       "    <tr>\n",
       "      <th>3</th>\n",
       "      <td>4</td>\n",
       "      <td>0.063911</td>\n",
       "      <td>1.40730</td>\n",
       "      <td>-0.29595</td>\n",
       "      <td>0.5291</td>\n",
       "      <td>-46.2870</td>\n",
       "      <td>-0.71420</td>\n",
       "      <td>0.079071</td>\n",
       "      <td>-0.33076</td>\n",
       "      <td>0.98490</td>\n",
       "      <td>...</td>\n",
       "      <td>-0.015327</td>\n",
       "      <td>-0.13730</td>\n",
       "      <td>1.01530</td>\n",
       "      <td>-1.67320</td>\n",
       "      <td>29.2710</td>\n",
       "      <td>14.1410</td>\n",
       "      <td>73.458</td>\n",
       "      <td>4.9688</td>\n",
       "      <td>4.6785</td>\n",
       "      <td>0</td>\n",
       "    </tr>\n",
       "    <tr>\n",
       "      <th>4</th>\n",
       "      <td>5</td>\n",
       "      <td>0.131680</td>\n",
       "      <td>0.66031</td>\n",
       "      <td>0.44121</td>\n",
       "      <td>2.7098</td>\n",
       "      <td>-23.5960</td>\n",
       "      <td>-0.20007</td>\n",
       "      <td>0.131910</td>\n",
       "      <td>0.51445</td>\n",
       "      <td>2.13570</td>\n",
       "      <td>...</td>\n",
       "      <td>0.110170</td>\n",
       "      <td>0.38764</td>\n",
       "      <td>0.93881</td>\n",
       "      <td>1.18420</td>\n",
       "      <td>4.5462</td>\n",
       "      <td>15.1400</td>\n",
       "      <td>44.101</td>\n",
       "      <td>8.2764</td>\n",
       "      <td>7.1014</td>\n",
       "      <td>0</td>\n",
       "    </tr>\n",
       "  </tbody>\n",
       "</table>\n",
       "<p>5 rows × 66 columns</p>\n",
       "</div>"
      ],
      "text/plain": [
       "   ID     Attr1    Attr2    Attr3   Attr4     Attr5    Attr6     Attr7  \\\n",
       "0   1  0.135370  0.45185  0.31162  2.0469   10.2340  0.16768  0.167630   \n",
       "1   2  0.005861  0.39858  0.19768  1.9390    9.5771  0.00000  0.007237   \n",
       "2   3  0.110600  0.16117  0.47894  7.5711  263.9000  0.00000  0.138360   \n",
       "3   4  0.063911  1.40730 -0.29595  0.5291  -46.2870 -0.71420  0.079071   \n",
       "4   5  0.131680  0.66031  0.44121  2.7098  -23.5960 -0.20007  0.131910   \n",
       "\n",
       "     Attr8    Attr9   ...      Attr56   Attr57   Attr58   Attr59   Attr60  \\\n",
       "0  1.21310  2.25540   ...    0.078728  0.24695  0.92586  0.18362   9.0895   \n",
       "1  1.50890  0.97880   ...    0.269720  0.00000  0.79303  0.31271   6.2213   \n",
       "2  5.20450  0.68447   ...    0.159870  0.13185  0.80748  0.10234   9.4499   \n",
       "3 -0.33076  0.98490   ...   -0.015327 -0.13730  1.01530 -1.67320  29.2710   \n",
       "4  0.51445  2.13570   ...    0.110170  0.38764  0.93881  1.18420   4.5462   \n",
       "\n",
       "    Attr61  Attr62  Attr63  Attr64  target  \n",
       "0   8.8342  48.172  7.5770  5.7725       0  \n",
       "1   4.2785  78.499  4.6497  1.6539       0  \n",
       "2   3.3443  38.867  9.3910  1.5272       0  \n",
       "3  14.1410  73.458  4.9688  4.6785       0  \n",
       "4  15.1400  44.101  8.2764  7.1014       0  \n",
       "\n",
       "[5 rows x 66 columns]"
      ]
     },
     "execution_count": 4,
     "metadata": {},
     "output_type": "execute_result"
    }
   ],
   "source": [
    "data.head()\n",
    "#data.target.value_counts()"
   ]
  },
  {
   "cell_type": "markdown",
   "metadata": {},
   "source": [
    "# To limit number of rows, find important attributes from the total attributes list\n",
    "# Random forest classification can be leveraged to identify top 10 important attributes"
   ]
  },
  {
   "cell_type": "code",
   "execution_count": 16,
   "metadata": {},
   "outputs": [
    {
     "name": "stderr",
     "output_type": "stream",
     "text": [
      "Using Theano backend.\n"
     ]
    }
   ],
   "source": [
    "from sklearn.ensemble import RandomForestClassifier\n",
    "from sklearn.preprocessing import Imputer\n",
    "from fancyimpute import KNN"
   ]
  },
  {
   "cell_type": "markdown",
   "metadata": {},
   "source": [
    "# Apply random forest algorithm"
   ]
  },
  {
   "cell_type": "code",
   "execution_count": 6,
   "metadata": {},
   "outputs": [
    {
     "data": {
      "text/html": [
       "<div>\n",
       "<style scoped>\n",
       "    .dataframe tbody tr th:only-of-type {\n",
       "        vertical-align: middle;\n",
       "    }\n",
       "\n",
       "    .dataframe tbody tr th {\n",
       "        vertical-align: top;\n",
       "    }\n",
       "\n",
       "    .dataframe thead th {\n",
       "        text-align: right;\n",
       "    }\n",
       "</style>\n",
       "<table border=\"1\" class=\"dataframe\">\n",
       "  <thead>\n",
       "    <tr style=\"text-align: right;\">\n",
       "      <th></th>\n",
       "      <th>ID</th>\n",
       "      <th>Attr1</th>\n",
       "      <th>Attr2</th>\n",
       "      <th>Attr3</th>\n",
       "      <th>Attr4</th>\n",
       "      <th>Attr5</th>\n",
       "      <th>Attr6</th>\n",
       "      <th>Attr7</th>\n",
       "      <th>Attr8</th>\n",
       "      <th>Attr9</th>\n",
       "      <th>...</th>\n",
       "      <th>Attr55</th>\n",
       "      <th>Attr56</th>\n",
       "      <th>Attr57</th>\n",
       "      <th>Attr58</th>\n",
       "      <th>Attr59</th>\n",
       "      <th>Attr60</th>\n",
       "      <th>Attr61</th>\n",
       "      <th>Attr62</th>\n",
       "      <th>Attr63</th>\n",
       "      <th>Attr64</th>\n",
       "    </tr>\n",
       "  </thead>\n",
       "  <tbody>\n",
       "    <tr>\n",
       "      <th>0</th>\n",
       "      <td>1</td>\n",
       "      <td>0.135370</td>\n",
       "      <td>0.45185</td>\n",
       "      <td>0.31162</td>\n",
       "      <td>2.0469</td>\n",
       "      <td>10.2340</td>\n",
       "      <td>0.16768</td>\n",
       "      <td>0.167630</td>\n",
       "      <td>1.21310</td>\n",
       "      <td>2.25540</td>\n",
       "      <td>...</td>\n",
       "      <td>1189.700</td>\n",
       "      <td>0.078728</td>\n",
       "      <td>0.24695</td>\n",
       "      <td>0.92586</td>\n",
       "      <td>0.18362</td>\n",
       "      <td>9.0895</td>\n",
       "      <td>8.8342</td>\n",
       "      <td>48.172</td>\n",
       "      <td>7.5770</td>\n",
       "      <td>5.7725</td>\n",
       "    </tr>\n",
       "    <tr>\n",
       "      <th>1</th>\n",
       "      <td>2</td>\n",
       "      <td>0.005861</td>\n",
       "      <td>0.39858</td>\n",
       "      <td>0.19768</td>\n",
       "      <td>1.9390</td>\n",
       "      <td>9.5771</td>\n",
       "      <td>0.00000</td>\n",
       "      <td>0.007237</td>\n",
       "      <td>1.50890</td>\n",
       "      <td>0.97880</td>\n",
       "      <td>...</td>\n",
       "      <td>1.939</td>\n",
       "      <td>0.269720</td>\n",
       "      <td>0.00000</td>\n",
       "      <td>0.79303</td>\n",
       "      <td>0.31271</td>\n",
       "      <td>6.2213</td>\n",
       "      <td>4.2785</td>\n",
       "      <td>78.499</td>\n",
       "      <td>4.6497</td>\n",
       "      <td>1.6539</td>\n",
       "    </tr>\n",
       "    <tr>\n",
       "      <th>2</th>\n",
       "      <td>3</td>\n",
       "      <td>0.110600</td>\n",
       "      <td>0.16117</td>\n",
       "      <td>0.47894</td>\n",
       "      <td>7.5711</td>\n",
       "      <td>263.9000</td>\n",
       "      <td>0.00000</td>\n",
       "      <td>0.138360</td>\n",
       "      <td>5.20450</td>\n",
       "      <td>0.68447</td>\n",
       "      <td>...</td>\n",
       "      <td>6092.300</td>\n",
       "      <td>0.159870</td>\n",
       "      <td>0.13185</td>\n",
       "      <td>0.80748</td>\n",
       "      <td>0.10234</td>\n",
       "      <td>9.4499</td>\n",
       "      <td>3.3443</td>\n",
       "      <td>38.867</td>\n",
       "      <td>9.3910</td>\n",
       "      <td>1.5272</td>\n",
       "    </tr>\n",
       "    <tr>\n",
       "      <th>3</th>\n",
       "      <td>4</td>\n",
       "      <td>0.063911</td>\n",
       "      <td>1.40730</td>\n",
       "      <td>-0.29595</td>\n",
       "      <td>0.5291</td>\n",
       "      <td>-46.2870</td>\n",
       "      <td>-0.71420</td>\n",
       "      <td>0.079071</td>\n",
       "      <td>-0.33076</td>\n",
       "      <td>0.98490</td>\n",
       "      <td>...</td>\n",
       "      <td>-13606.000</td>\n",
       "      <td>-0.015327</td>\n",
       "      <td>-0.13730</td>\n",
       "      <td>1.01530</td>\n",
       "      <td>-1.67320</td>\n",
       "      <td>29.2710</td>\n",
       "      <td>14.1410</td>\n",
       "      <td>73.458</td>\n",
       "      <td>4.9688</td>\n",
       "      <td>4.6785</td>\n",
       "    </tr>\n",
       "    <tr>\n",
       "      <th>4</th>\n",
       "      <td>5</td>\n",
       "      <td>0.131680</td>\n",
       "      <td>0.66031</td>\n",
       "      <td>0.44121</td>\n",
       "      <td>2.7098</td>\n",
       "      <td>-23.5960</td>\n",
       "      <td>-0.20007</td>\n",
       "      <td>0.131910</td>\n",
       "      <td>0.51445</td>\n",
       "      <td>2.13570</td>\n",
       "      <td>...</td>\n",
       "      <td>75.681</td>\n",
       "      <td>0.110170</td>\n",
       "      <td>0.38764</td>\n",
       "      <td>0.93881</td>\n",
       "      <td>1.18420</td>\n",
       "      <td>4.5462</td>\n",
       "      <td>15.1400</td>\n",
       "      <td>44.101</td>\n",
       "      <td>8.2764</td>\n",
       "      <td>7.1014</td>\n",
       "    </tr>\n",
       "  </tbody>\n",
       "</table>\n",
       "<p>5 rows × 65 columns</p>\n",
       "</div>"
      ],
      "text/plain": [
       "   ID     Attr1    Attr2    Attr3   Attr4     Attr5    Attr6     Attr7  \\\n",
       "0   1  0.135370  0.45185  0.31162  2.0469   10.2340  0.16768  0.167630   \n",
       "1   2  0.005861  0.39858  0.19768  1.9390    9.5771  0.00000  0.007237   \n",
       "2   3  0.110600  0.16117  0.47894  7.5711  263.9000  0.00000  0.138360   \n",
       "3   4  0.063911  1.40730 -0.29595  0.5291  -46.2870 -0.71420  0.079071   \n",
       "4   5  0.131680  0.66031  0.44121  2.7098  -23.5960 -0.20007  0.131910   \n",
       "\n",
       "     Attr8    Attr9   ...       Attr55    Attr56   Attr57   Attr58   Attr59  \\\n",
       "0  1.21310  2.25540   ...     1189.700  0.078728  0.24695  0.92586  0.18362   \n",
       "1  1.50890  0.97880   ...        1.939  0.269720  0.00000  0.79303  0.31271   \n",
       "2  5.20450  0.68447   ...     6092.300  0.159870  0.13185  0.80748  0.10234   \n",
       "3 -0.33076  0.98490   ...   -13606.000 -0.015327 -0.13730  1.01530 -1.67320   \n",
       "4  0.51445  2.13570   ...       75.681  0.110170  0.38764  0.93881  1.18420   \n",
       "\n",
       "    Attr60   Attr61  Attr62  Attr63  Attr64  \n",
       "0   9.0895   8.8342  48.172  7.5770  5.7725  \n",
       "1   6.2213   4.2785  78.499  4.6497  1.6539  \n",
       "2   9.4499   3.3443  38.867  9.3910  1.5272  \n",
       "3  29.2710  14.1410  73.458  4.9688  4.6785  \n",
       "4   4.5462  15.1400  44.101  8.2764  7.1014  \n",
       "\n",
       "[5 rows x 65 columns]"
      ]
     },
     "execution_count": 6,
     "metadata": {},
     "output_type": "execute_result"
    }
   ],
   "source": [
    "x = data.iloc[:,:-1]\n",
    "y = data.iloc[:,-1]\n",
    "x.head()"
   ]
  },
  {
   "cell_type": "markdown",
   "metadata": {},
   "source": [
    "# Perform Imputation for missing values"
   ]
  },
  {
   "cell_type": "code",
   "execution_count": 7,
   "metadata": {},
   "outputs": [
    {
     "data": {
      "text/plain": [
       "35187"
      ]
     },
     "execution_count": 7,
     "metadata": {},
     "output_type": "execute_result"
    }
   ],
   "source": [
    "x.isnull().sum().sum()"
   ]
  },
  {
   "cell_type": "code",
   "execution_count": 8,
   "metadata": {},
   "outputs": [
    {
     "data": {
      "text/plain": [
       "0"
      ]
     },
     "execution_count": 8,
     "metadata": {},
     "output_type": "execute_result"
    }
   ],
   "source": [
    "ci = Imputer()\n",
    "x_ci_imputed = pd.DataFrame(ci.fit_transform(x))\n",
    "x_ci_imputed.isnull().sum().sum()"
   ]
  },
  {
   "cell_type": "code",
   "execution_count": 17,
   "metadata": {},
   "outputs": [
    {
     "name": "stdout",
     "output_type": "stream",
     "text": [
      "Imputing row 1/36553 with 1 missing, elapsed time: 1454.561\n",
      "Imputing row 101/36553 with 1 missing, elapsed time: 1455.262\n",
      "Imputing row 201/36553 with 8 missing, elapsed time: 1455.551\n",
      "Imputing row 301/36553 with 3 missing, elapsed time: 1455.910\n",
      "Imputing row 401/36553 with 2 missing, elapsed time: 1456.134\n",
      "Imputing row 501/36553 with 2 missing, elapsed time: 1456.416\n",
      "Imputing row 601/36553 with 2 missing, elapsed time: 1456.658\n",
      "Imputing row 701/36553 with 0 missing, elapsed time: 1456.857\n",
      "Imputing row 801/36553 with 0 missing, elapsed time: 1457.166\n",
      "Imputing row 901/36553 with 0 missing, elapsed time: 1457.444\n",
      "Imputing row 1001/36553 with 0 missing, elapsed time: 1457.822\n",
      "Imputing row 1101/36553 with 1 missing, elapsed time: 1458.288\n",
      "Imputing row 1201/36553 with 1 missing, elapsed time: 1458.726\n",
      "Imputing row 1301/36553 with 0 missing, elapsed time: 1459.004\n",
      "Imputing row 1401/36553 with 0 missing, elapsed time: 1459.390\n",
      "Imputing row 1501/36553 with 0 missing, elapsed time: 1459.711\n",
      "Imputing row 1601/36553 with 0 missing, elapsed time: 1460.046\n",
      "Imputing row 1701/36553 with 5 missing, elapsed time: 1460.445\n",
      "Imputing row 1801/36553 with 2 missing, elapsed time: 1460.885\n",
      "Imputing row 1901/36553 with 1 missing, elapsed time: 1461.188\n",
      "Imputing row 2001/36553 with 2 missing, elapsed time: 1461.587\n",
      "Imputing row 2101/36553 with 1 missing, elapsed time: 1462.025\n",
      "Imputing row 2201/36553 with 1 missing, elapsed time: 1462.422\n",
      "Imputing row 2301/36553 with 1 missing, elapsed time: 1462.895\n",
      "Imputing row 2401/36553 with 0 missing, elapsed time: 1463.448\n",
      "Imputing row 2501/36553 with 1 missing, elapsed time: 1464.057\n",
      "Imputing row 2601/36553 with 0 missing, elapsed time: 1464.597\n",
      "Imputing row 2701/36553 with 1 missing, elapsed time: 1465.007\n",
      "Imputing row 2801/36553 with 1 missing, elapsed time: 1465.340\n",
      "Imputing row 2901/36553 with 0 missing, elapsed time: 1465.534\n",
      "Imputing row 3001/36553 with 1 missing, elapsed time: 1465.801\n",
      "Imputing row 3101/36553 with 2 missing, elapsed time: 1466.081\n",
      "Imputing row 3201/36553 with 1 missing, elapsed time: 1466.491\n",
      "Imputing row 3301/36553 with 1 missing, elapsed time: 1466.869\n",
      "Imputing row 3401/36553 with 1 missing, elapsed time: 1467.258\n",
      "Imputing row 3501/36553 with 1 missing, elapsed time: 1467.734\n",
      "Imputing row 3601/36553 with 1 missing, elapsed time: 1468.247\n",
      "Imputing row 3701/36553 with 1 missing, elapsed time: 1468.930\n",
      "Imputing row 3801/36553 with 1 missing, elapsed time: 1469.241\n",
      "Imputing row 3901/36553 with 0 missing, elapsed time: 1469.516\n",
      "Imputing row 4001/36553 with 1 missing, elapsed time: 1469.834\n",
      "Imputing row 4101/36553 with 0 missing, elapsed time: 1470.138\n",
      "Imputing row 4201/36553 with 3 missing, elapsed time: 1470.396\n",
      "Imputing row 4301/36553 with 2 missing, elapsed time: 1470.774\n",
      "Imputing row 4401/36553 with 0 missing, elapsed time: 1471.077\n",
      "Imputing row 4501/36553 with 1 missing, elapsed time: 1471.317\n",
      "Imputing row 4601/36553 with 0 missing, elapsed time: 1471.630\n",
      "Imputing row 4701/36553 with 1 missing, elapsed time: 1471.941\n",
      "Imputing row 4801/36553 with 1 missing, elapsed time: 1472.281\n",
      "Imputing row 4901/36553 with 1 missing, elapsed time: 1472.569\n",
      "Imputing row 5001/36553 with 4 missing, elapsed time: 1472.894\n",
      "Imputing row 5101/36553 with 0 missing, elapsed time: 1473.242\n",
      "Imputing row 5201/36553 with 0 missing, elapsed time: 1473.630\n",
      "Imputing row 5301/36553 with 0 missing, elapsed time: 1473.800\n",
      "Imputing row 5401/36553 with 0 missing, elapsed time: 1474.013\n",
      "Imputing row 5501/36553 with 4 missing, elapsed time: 1474.279\n",
      "Imputing row 5601/36553 with 0 missing, elapsed time: 1474.570\n",
      "Imputing row 5701/36553 with 1 missing, elapsed time: 1474.779\n",
      "Imputing row 5801/36553 with 0 missing, elapsed time: 1475.126\n",
      "Imputing row 5901/36553 with 0 missing, elapsed time: 1475.556\n",
      "Imputing row 6001/36553 with 0 missing, elapsed time: 1475.962\n",
      "Imputing row 6101/36553 with 0 missing, elapsed time: 1476.298\n",
      "Imputing row 6201/36553 with 0 missing, elapsed time: 1476.631\n",
      "Imputing row 6301/36553 with 0 missing, elapsed time: 1477.047\n",
      "Imputing row 6401/36553 with 0 missing, elapsed time: 1477.325\n",
      "Imputing row 6501/36553 with 0 missing, elapsed time: 1477.587\n",
      "Imputing row 6601/36553 with 1 missing, elapsed time: 1477.864\n",
      "Imputing row 6701/36553 with 0 missing, elapsed time: 1478.125\n",
      "Imputing row 6801/36553 with 0 missing, elapsed time: 1478.387\n",
      "Imputing row 6901/36553 with 0 missing, elapsed time: 1478.704\n",
      "Imputing row 7001/36553 with 0 missing, elapsed time: 1478.916\n",
      "Imputing row 7101/36553 with 1 missing, elapsed time: 1479.096\n",
      "Imputing row 7201/36553 with 1 missing, elapsed time: 1479.350\n",
      "Imputing row 7301/36553 with 1 missing, elapsed time: 1479.786\n",
      "Imputing row 7401/36553 with 0 missing, elapsed time: 1480.174\n",
      "Imputing row 7501/36553 with 2 missing, elapsed time: 1480.509\n",
      "Imputing row 7601/36553 with 0 missing, elapsed time: 1480.786\n",
      "Imputing row 7701/36553 with 0 missing, elapsed time: 1481.065\n",
      "Imputing row 7801/36553 with 0 missing, elapsed time: 1481.438\n",
      "Imputing row 7901/36553 with 2 missing, elapsed time: 1482.014\n",
      "Imputing row 8001/36553 with 0 missing, elapsed time: 1482.372\n",
      "Imputing row 8101/36553 with 0 missing, elapsed time: 1482.773\n",
      "Imputing row 8201/36553 with 28 missing, elapsed time: 1483.149\n",
      "Imputing row 8301/36553 with 2 missing, elapsed time: 1483.573\n",
      "Imputing row 8401/36553 with 0 missing, elapsed time: 1483.933\n",
      "Imputing row 8501/36553 with 0 missing, elapsed time: 1484.233\n",
      "Imputing row 8601/36553 with 0 missing, elapsed time: 1484.525\n",
      "Imputing row 8701/36553 with 0 missing, elapsed time: 1484.916\n",
      "Imputing row 8801/36553 with 6 missing, elapsed time: 1485.240\n",
      "Imputing row 8901/36553 with 1 missing, elapsed time: 1485.562\n",
      "Imputing row 9001/36553 with 1 missing, elapsed time: 1485.937\n",
      "Imputing row 9101/36553 with 0 missing, elapsed time: 1486.346\n",
      "Imputing row 9201/36553 with 0 missing, elapsed time: 1486.649\n",
      "Imputing row 9301/36553 with 1 missing, elapsed time: 1487.035\n",
      "Imputing row 9401/36553 with 2 missing, elapsed time: 1487.371\n",
      "Imputing row 9501/36553 with 2 missing, elapsed time: 1487.619\n",
      "Imputing row 9601/36553 with 6 missing, elapsed time: 1487.909\n",
      "Imputing row 9701/36553 with 0 missing, elapsed time: 1488.335\n",
      "Imputing row 9801/36553 with 1 missing, elapsed time: 1488.662\n",
      "Imputing row 9901/36553 with 0 missing, elapsed time: 1488.922\n",
      "Imputing row 10001/36553 with 8 missing, elapsed time: 1489.171\n",
      "Imputing row 10101/36553 with 2 missing, elapsed time: 1489.544\n",
      "Imputing row 10201/36553 with 1 missing, elapsed time: 1489.868\n",
      "Imputing row 10301/36553 with 0 missing, elapsed time: 1490.305\n",
      "Imputing row 10401/36553 with 0 missing, elapsed time: 1490.651\n",
      "Imputing row 10501/36553 with 1 missing, elapsed time: 1490.991\n",
      "Imputing row 10601/36553 with 0 missing, elapsed time: 1491.475\n",
      "Imputing row 10701/36553 with 2 missing, elapsed time: 1491.766\n",
      "Imputing row 10801/36553 with 1 missing, elapsed time: 1492.290\n",
      "Imputing row 10901/36553 with 0 missing, elapsed time: 1492.530\n",
      "Imputing row 11001/36553 with 0 missing, elapsed time: 1492.769\n",
      "Imputing row 11101/36553 with 0 missing, elapsed time: 1493.056\n",
      "Imputing row 11201/36553 with 1 missing, elapsed time: 1493.262\n",
      "Imputing row 11301/36553 with 2 missing, elapsed time: 1493.581\n",
      "Imputing row 11401/36553 with 1 missing, elapsed time: 1493.987\n",
      "Imputing row 11501/36553 with 6 missing, elapsed time: 1494.378\n",
      "Imputing row 11601/36553 with 0 missing, elapsed time: 1494.738\n",
      "Imputing row 11701/36553 with 1 missing, elapsed time: 1495.317\n",
      "Imputing row 11801/36553 with 0 missing, elapsed time: 1495.901\n",
      "Imputing row 11901/36553 with 1 missing, elapsed time: 1496.366\n",
      "Imputing row 12001/36553 with 0 missing, elapsed time: 1496.775\n",
      "Imputing row 12101/36553 with 0 missing, elapsed time: 1497.246\n",
      "Imputing row 12201/36553 with 0 missing, elapsed time: 1497.649\n",
      "Imputing row 12301/36553 with 1 missing, elapsed time: 1498.081\n",
      "Imputing row 12401/36553 with 0 missing, elapsed time: 1498.561\n",
      "Imputing row 12501/36553 with 0 missing, elapsed time: 1498.954\n",
      "Imputing row 12601/36553 with 0 missing, elapsed time: 1499.280\n",
      "Imputing row 12701/36553 with 3 missing, elapsed time: 1499.678\n",
      "Imputing row 12801/36553 with 0 missing, elapsed time: 1500.083\n",
      "Imputing row 12901/36553 with 3 missing, elapsed time: 1500.359\n"
     ]
    },
    {
     "name": "stdout",
     "output_type": "stream",
     "text": [
      "Imputing row 13001/36553 with 4 missing, elapsed time: 1500.680\n",
      "Imputing row 13101/36553 with 0 missing, elapsed time: 1501.042\n",
      "Imputing row 13201/36553 with 2 missing, elapsed time: 1501.321\n",
      "Imputing row 13301/36553 with 1 missing, elapsed time: 1501.763\n",
      "Imputing row 13401/36553 with 0 missing, elapsed time: 1502.157\n",
      "Imputing row 13501/36553 with 2 missing, elapsed time: 1502.592\n",
      "Imputing row 13601/36553 with 1 missing, elapsed time: 1502.965\n",
      "Imputing row 13701/36553 with 2 missing, elapsed time: 1503.326\n",
      "Imputing row 13801/36553 with 3 missing, elapsed time: 1503.725\n",
      "Imputing row 13901/36553 with 0 missing, elapsed time: 1504.086\n",
      "Imputing row 14001/36553 with 1 missing, elapsed time: 1504.417\n",
      "Imputing row 14101/36553 with 0 missing, elapsed time: 1504.850\n",
      "Imputing row 14201/36553 with 1 missing, elapsed time: 1505.326\n",
      "Imputing row 14301/36553 with 0 missing, elapsed time: 1505.723\n",
      "Imputing row 14401/36553 with 0 missing, elapsed time: 1506.135\n",
      "Imputing row 14501/36553 with 2 missing, elapsed time: 1506.398\n",
      "Imputing row 14601/36553 with 0 missing, elapsed time: 1506.753\n",
      "Imputing row 14701/36553 with 0 missing, elapsed time: 1507.213\n",
      "Imputing row 14801/36553 with 0 missing, elapsed time: 1507.562\n",
      "Imputing row 14901/36553 with 1 missing, elapsed time: 1508.195\n",
      "Imputing row 15001/36553 with 0 missing, elapsed time: 1508.625\n",
      "Imputing row 15101/36553 with 2 missing, elapsed time: 1508.963\n",
      "Imputing row 15201/36553 with 1 missing, elapsed time: 1509.526\n",
      "Imputing row 15301/36553 with 1 missing, elapsed time: 1509.846\n",
      "Imputing row 15401/36553 with 0 missing, elapsed time: 1510.145\n",
      "Imputing row 15501/36553 with 2 missing, elapsed time: 1510.463\n",
      "Imputing row 15601/36553 with 2 missing, elapsed time: 1510.849\n",
      "Imputing row 15701/36553 with 1 missing, elapsed time: 1511.040\n",
      "Imputing row 15801/36553 with 0 missing, elapsed time: 1511.261\n",
      "Imputing row 15901/36553 with 0 missing, elapsed time: 1511.411\n",
      "Imputing row 16001/36553 with 1 missing, elapsed time: 1511.572\n",
      "Imputing row 16101/36553 with 0 missing, elapsed time: 1511.804\n",
      "Imputing row 16201/36553 with 1 missing, elapsed time: 1512.097\n",
      "Imputing row 16301/36553 with 1 missing, elapsed time: 1512.350\n",
      "Imputing row 16401/36553 with 1 missing, elapsed time: 1512.523\n",
      "Imputing row 16501/36553 with 3 missing, elapsed time: 1513.028\n",
      "Imputing row 16601/36553 with 0 missing, elapsed time: 1513.585\n",
      "Imputing row 16701/36553 with 0 missing, elapsed time: 1513.974\n",
      "Imputing row 16801/36553 with 1 missing, elapsed time: 1514.307\n",
      "Imputing row 16901/36553 with 0 missing, elapsed time: 1514.622\n",
      "Imputing row 17001/36553 with 0 missing, elapsed time: 1514.895\n",
      "Imputing row 17101/36553 with 0 missing, elapsed time: 1515.123\n",
      "Imputing row 17201/36553 with 3 missing, elapsed time: 1515.395\n",
      "Imputing row 17301/36553 with 1 missing, elapsed time: 1515.548\n",
      "Imputing row 17401/36553 with 0 missing, elapsed time: 1515.730\n",
      "Imputing row 17501/36553 with 1 missing, elapsed time: 1515.889\n",
      "Imputing row 17601/36553 with 0 missing, elapsed time: 1516.063\n",
      "Imputing row 17701/36553 with 1 missing, elapsed time: 1516.390\n",
      "Imputing row 17801/36553 with 1 missing, elapsed time: 1516.709\n",
      "Imputing row 17901/36553 with 1 missing, elapsed time: 1516.929\n",
      "Imputing row 18001/36553 with 1 missing, elapsed time: 1517.229\n",
      "Imputing row 18101/36553 with 1 missing, elapsed time: 1517.529\n",
      "Imputing row 18201/36553 with 0 missing, elapsed time: 1517.786\n",
      "Imputing row 18301/36553 with 0 missing, elapsed time: 1518.006\n",
      "Imputing row 18401/36553 with 0 missing, elapsed time: 1518.271\n",
      "Imputing row 18501/36553 with 1 missing, elapsed time: 1518.453\n",
      "Imputing row 18601/36553 with 0 missing, elapsed time: 1518.817\n",
      "Imputing row 18701/36553 with 1 missing, elapsed time: 1519.366\n",
      "Imputing row 18801/36553 with 0 missing, elapsed time: 1519.705\n",
      "Imputing row 18901/36553 with 1 missing, elapsed time: 1520.009\n",
      "Imputing row 19001/36553 with 0 missing, elapsed time: 1520.249\n",
      "Imputing row 19101/36553 with 1 missing, elapsed time: 1520.462\n",
      "Imputing row 19201/36553 with 9 missing, elapsed time: 1520.751\n",
      "Imputing row 19301/36553 with 1 missing, elapsed time: 1520.987\n",
      "Imputing row 19401/36553 with 0 missing, elapsed time: 1521.261\n",
      "Imputing row 19501/36553 with 0 missing, elapsed time: 1521.475\n",
      "Imputing row 19601/36553 with 1 missing, elapsed time: 1521.787\n",
      "Imputing row 19701/36553 with 0 missing, elapsed time: 1521.997\n",
      "Imputing row 19801/36553 with 1 missing, elapsed time: 1522.257\n",
      "Imputing row 19901/36553 with 0 missing, elapsed time: 1522.546\n",
      "Imputing row 20001/36553 with 0 missing, elapsed time: 1522.733\n",
      "Imputing row 20101/36553 with 1 missing, elapsed time: 1523.030\n",
      "Imputing row 20201/36553 with 3 missing, elapsed time: 1523.311\n",
      "Imputing row 20301/36553 with 0 missing, elapsed time: 1523.562\n",
      "Imputing row 20401/36553 with 1 missing, elapsed time: 1523.805\n",
      "Imputing row 20501/36553 with 0 missing, elapsed time: 1524.053\n",
      "Imputing row 20601/36553 with 3 missing, elapsed time: 1524.345\n",
      "Imputing row 20701/36553 with 1 missing, elapsed time: 1524.574\n",
      "Imputing row 20801/36553 with 1 missing, elapsed time: 1524.784\n",
      "Imputing row 20901/36553 with 1 missing, elapsed time: 1525.038\n",
      "Imputing row 21001/36553 with 0 missing, elapsed time: 1525.654\n",
      "Imputing row 21101/36553 with 1 missing, elapsed time: 1525.839\n",
      "Imputing row 21201/36553 with 1 missing, elapsed time: 1526.062\n",
      "Imputing row 21301/36553 with 0 missing, elapsed time: 1526.264\n",
      "Imputing row 21401/36553 with 3 missing, elapsed time: 1526.529\n",
      "Imputing row 21501/36553 with 0 missing, elapsed time: 1526.880\n",
      "Imputing row 21601/36553 with 3 missing, elapsed time: 1527.152\n",
      "Imputing row 21701/36553 with 0 missing, elapsed time: 1527.464\n",
      "Imputing row 21801/36553 with 1 missing, elapsed time: 1527.719\n",
      "Imputing row 21901/36553 with 0 missing, elapsed time: 1528.045\n",
      "Imputing row 22001/36553 with 1 missing, elapsed time: 1528.418\n",
      "Imputing row 22101/36553 with 0 missing, elapsed time: 1528.785\n",
      "Imputing row 22201/36553 with 0 missing, elapsed time: 1529.036\n",
      "Imputing row 22301/36553 with 0 missing, elapsed time: 1529.427\n",
      "Imputing row 22401/36553 with 0 missing, elapsed time: 1529.735\n",
      "Imputing row 22501/36553 with 0 missing, elapsed time: 1529.984\n",
      "Imputing row 22601/36553 with 6 missing, elapsed time: 1530.270\n",
      "Imputing row 22701/36553 with 0 missing, elapsed time: 1530.621\n",
      "Imputing row 22801/36553 with 1 missing, elapsed time: 1531.010\n",
      "Imputing row 22901/36553 with 0 missing, elapsed time: 1531.193\n",
      "Imputing row 23001/36553 with 2 missing, elapsed time: 1531.450\n",
      "Imputing row 23101/36553 with 0 missing, elapsed time: 1531.690\n",
      "Imputing row 23201/36553 with 1 missing, elapsed time: 1531.964\n",
      "Imputing row 23301/36553 with 1 missing, elapsed time: 1532.281\n",
      "Imputing row 23401/36553 with 0 missing, elapsed time: 1532.593\n",
      "Imputing row 23501/36553 with 1 missing, elapsed time: 1532.823\n",
      "Imputing row 23601/36553 with 1 missing, elapsed time: 1533.040\n",
      "Imputing row 23701/36553 with 1 missing, elapsed time: 1533.250\n",
      "Imputing row 23801/36553 with 0 missing, elapsed time: 1533.485\n",
      "Imputing row 23901/36553 with 0 missing, elapsed time: 1533.710\n",
      "Imputing row 24001/36553 with 0 missing, elapsed time: 1533.922\n",
      "Imputing row 24101/36553 with 1 missing, elapsed time: 1534.129\n",
      "Imputing row 24201/36553 with 1 missing, elapsed time: 1534.417\n",
      "Imputing row 24301/36553 with 1 missing, elapsed time: 1534.602\n",
      "Imputing row 24401/36553 with 1 missing, elapsed time: 1534.814\n",
      "Imputing row 24501/36553 with 1 missing, elapsed time: 1535.049\n",
      "Imputing row 24601/36553 with 1 missing, elapsed time: 1535.301\n",
      "Imputing row 24701/36553 with 0 missing, elapsed time: 1535.519\n",
      "Imputing row 24801/36553 with 1 missing, elapsed time: 1535.821\n",
      "Imputing row 24901/36553 with 0 missing, elapsed time: 1536.052\n",
      "Imputing row 25001/36553 with 1 missing, elapsed time: 1536.432\n",
      "Imputing row 25101/36553 with 1 missing, elapsed time: 1536.809\n",
      "Imputing row 25201/36553 with 2 missing, elapsed time: 1537.093\n",
      "Imputing row 25301/36553 with 0 missing, elapsed time: 1537.422\n",
      "Imputing row 25401/36553 with 0 missing, elapsed time: 1537.675\n",
      "Imputing row 25501/36553 with 0 missing, elapsed time: 1537.947\n",
      "Imputing row 25601/36553 with 0 missing, elapsed time: 1538.265\n",
      "Imputing row 25701/36553 with 2 missing, elapsed time: 1538.520\n",
      "Imputing row 25801/36553 with 1 missing, elapsed time: 1538.804\n"
     ]
    },
    {
     "name": "stdout",
     "output_type": "stream",
     "text": [
      "Imputing row 25901/36553 with 0 missing, elapsed time: 1539.078\n",
      "Imputing row 26001/36553 with 1 missing, elapsed time: 1539.343\n",
      "Imputing row 26101/36553 with 1 missing, elapsed time: 1539.577\n",
      "Imputing row 26201/36553 with 1 missing, elapsed time: 1539.833\n",
      "Imputing row 26301/36553 with 0 missing, elapsed time: 1540.062\n",
      "Imputing row 26401/36553 with 0 missing, elapsed time: 1540.416\n",
      "Imputing row 26501/36553 with 4 missing, elapsed time: 1540.607\n",
      "Imputing row 26601/36553 with 1 missing, elapsed time: 1540.854\n",
      "Imputing row 26701/36553 with 1 missing, elapsed time: 1541.106\n",
      "Imputing row 26801/36553 with 1 missing, elapsed time: 1541.416\n",
      "Imputing row 26901/36553 with 3 missing, elapsed time: 1541.652\n",
      "Imputing row 27001/36553 with 1 missing, elapsed time: 1541.848\n",
      "Imputing row 27101/36553 with 0 missing, elapsed time: 1542.070\n",
      "Imputing row 27201/36553 with 0 missing, elapsed time: 1542.429\n",
      "Imputing row 27301/36553 with 0 missing, elapsed time: 1542.744\n",
      "Imputing row 27401/36553 with 0 missing, elapsed time: 1543.044\n",
      "Imputing row 27501/36553 with 0 missing, elapsed time: 1543.405\n",
      "Imputing row 27601/36553 with 1 missing, elapsed time: 1543.648\n",
      "Imputing row 27701/36553 with 0 missing, elapsed time: 1543.976\n",
      "Imputing row 27801/36553 with 0 missing, elapsed time: 1544.204\n",
      "Imputing row 27901/36553 with 1 missing, elapsed time: 1544.345\n",
      "Imputing row 28001/36553 with 0 missing, elapsed time: 1544.585\n",
      "Imputing row 28101/36553 with 0 missing, elapsed time: 1544.998\n",
      "Imputing row 28201/36553 with 0 missing, elapsed time: 1545.279\n",
      "Imputing row 28301/36553 with 0 missing, elapsed time: 1545.492\n",
      "Imputing row 28401/36553 with 1 missing, elapsed time: 1545.719\n",
      "Imputing row 28501/36553 with 0 missing, elapsed time: 1546.009\n",
      "Imputing row 28601/36553 with 1 missing, elapsed time: 1546.370\n",
      "Imputing row 28701/36553 with 5 missing, elapsed time: 1546.744\n",
      "Imputing row 28801/36553 with 1 missing, elapsed time: 1547.055\n",
      "Imputing row 28901/36553 with 0 missing, elapsed time: 1547.395\n",
      "Imputing row 29001/36553 with 1 missing, elapsed time: 1547.588\n",
      "Imputing row 29101/36553 with 1 missing, elapsed time: 1547.856\n",
      "Imputing row 29201/36553 with 0 missing, elapsed time: 1548.234\n",
      "Imputing row 29301/36553 with 1 missing, elapsed time: 1548.665\n",
      "Imputing row 29401/36553 with 1 missing, elapsed time: 1549.076\n",
      "Imputing row 29501/36553 with 0 missing, elapsed time: 1549.577\n",
      "Imputing row 29601/36553 with 4 missing, elapsed time: 1550.029\n",
      "Imputing row 29701/36553 with 0 missing, elapsed time: 1550.435\n",
      "Imputing row 29801/36553 with 1 missing, elapsed time: 1550.714\n",
      "Imputing row 29901/36553 with 0 missing, elapsed time: 1550.984\n",
      "Imputing row 30001/36553 with 1 missing, elapsed time: 1551.275\n",
      "Imputing row 30101/36553 with 0 missing, elapsed time: 1551.553\n",
      "Imputing row 30201/36553 with 1 missing, elapsed time: 1551.867\n",
      "Imputing row 30301/36553 with 0 missing, elapsed time: 1552.229\n",
      "Imputing row 30401/36553 with 0 missing, elapsed time: 1552.797\n",
      "Imputing row 30501/36553 with 0 missing, elapsed time: 1553.038\n",
      "Imputing row 30601/36553 with 0 missing, elapsed time: 1553.356\n",
      "Imputing row 30701/36553 with 0 missing, elapsed time: 1553.657\n",
      "Imputing row 30801/36553 with 0 missing, elapsed time: 1553.953\n",
      "Imputing row 30901/36553 with 1 missing, elapsed time: 1554.298\n",
      "Imputing row 31001/36553 with 0 missing, elapsed time: 1554.498\n",
      "Imputing row 31101/36553 with 1 missing, elapsed time: 1554.752\n",
      "Imputing row 31201/36553 with 0 missing, elapsed time: 1555.049\n",
      "Imputing row 31301/36553 with 0 missing, elapsed time: 1555.535\n",
      "Imputing row 31401/36553 with 0 missing, elapsed time: 1555.759\n",
      "Imputing row 31501/36553 with 1 missing, elapsed time: 1555.944\n",
      "Imputing row 31601/36553 with 0 missing, elapsed time: 1556.403\n",
      "Imputing row 31701/36553 with 2 missing, elapsed time: 1556.646\n",
      "Imputing row 31801/36553 with 2 missing, elapsed time: 1556.902\n",
      "Imputing row 31901/36553 with 1 missing, elapsed time: 1557.246\n",
      "Imputing row 32001/36553 with 0 missing, elapsed time: 1557.546\n",
      "Imputing row 32101/36553 with 0 missing, elapsed time: 1557.845\n",
      "Imputing row 32201/36553 with 0 missing, elapsed time: 1558.129\n",
      "Imputing row 32301/36553 with 1 missing, elapsed time: 1558.340\n",
      "Imputing row 32401/36553 with 0 missing, elapsed time: 1558.586\n",
      "Imputing row 32501/36553 with 2 missing, elapsed time: 1558.806\n",
      "Imputing row 32601/36553 with 1 missing, elapsed time: 1559.083\n",
      "Imputing row 32701/36553 with 1 missing, elapsed time: 1559.332\n",
      "Imputing row 32801/36553 with 1 missing, elapsed time: 1559.679\n",
      "Imputing row 32901/36553 with 0 missing, elapsed time: 1559.962\n",
      "Imputing row 33001/36553 with 1 missing, elapsed time: 1560.263\n",
      "Imputing row 33101/36553 with 1 missing, elapsed time: 1560.555\n",
      "Imputing row 33201/36553 with 0 missing, elapsed time: 1560.874\n",
      "Imputing row 33301/36553 with 0 missing, elapsed time: 1561.134\n",
      "Imputing row 33401/36553 with 0 missing, elapsed time: 1561.478\n",
      "Imputing row 33501/36553 with 0 missing, elapsed time: 1561.740\n",
      "Imputing row 33601/36553 with 2 missing, elapsed time: 1562.116\n",
      "Imputing row 33701/36553 with 0 missing, elapsed time: 1562.486\n",
      "Imputing row 33801/36553 with 0 missing, elapsed time: 1562.771\n",
      "Imputing row 33901/36553 with 1 missing, elapsed time: 1563.018\n",
      "Imputing row 34001/36553 with 4 missing, elapsed time: 1563.322\n",
      "Imputing row 34101/36553 with 0 missing, elapsed time: 1563.613\n",
      "Imputing row 34201/36553 with 1 missing, elapsed time: 1563.883\n",
      "Imputing row 34301/36553 with 1 missing, elapsed time: 1564.143\n",
      "Imputing row 34401/36553 with 0 missing, elapsed time: 1564.440\n",
      "Imputing row 34501/36553 with 0 missing, elapsed time: 1564.835\n",
      "Imputing row 34601/36553 with 0 missing, elapsed time: 1565.199\n",
      "Imputing row 34701/36553 with 0 missing, elapsed time: 1565.592\n",
      "Imputing row 34801/36553 with 0 missing, elapsed time: 1565.994\n",
      "Imputing row 34901/36553 with 1 missing, elapsed time: 1566.381\n",
      "Imputing row 35001/36553 with 1 missing, elapsed time: 1566.599\n",
      "Imputing row 35101/36553 with 1 missing, elapsed time: 1566.863\n",
      "Imputing row 35201/36553 with 1 missing, elapsed time: 1567.229\n",
      "Imputing row 35301/36553 with 0 missing, elapsed time: 1567.487\n",
      "Imputing row 35401/36553 with 1 missing, elapsed time: 1567.757\n",
      "Imputing row 35501/36553 with 0 missing, elapsed time: 1567.999\n",
      "Imputing row 35601/36553 with 0 missing, elapsed time: 1568.292\n",
      "Imputing row 35701/36553 with 1 missing, elapsed time: 1568.578\n",
      "Imputing row 35801/36553 with 0 missing, elapsed time: 1568.878\n",
      "Imputing row 35901/36553 with 1 missing, elapsed time: 1569.201\n",
      "Imputing row 36001/36553 with 4 missing, elapsed time: 1569.483\n",
      "Imputing row 36101/36553 with 0 missing, elapsed time: 1569.810\n",
      "Imputing row 36201/36553 with 1 missing, elapsed time: 1570.243\n",
      "Imputing row 36301/36553 with 1 missing, elapsed time: 1570.568\n",
      "Imputing row 36401/36553 with 1 missing, elapsed time: 1570.758\n",
      "Imputing row 36501/36553 with 4 missing, elapsed time: 1570.985\n"
     ]
    },
    {
     "data": {
      "text/plain": [
       "0"
      ]
     },
     "execution_count": 17,
     "metadata": {},
     "output_type": "execute_result"
    }
   ],
   "source": [
    "x_knn_imputed = pd.DataFrame(KNN(7).fit_transform(x))\n",
    "x_knn_imputed.isnull().sum().sum()"
   ]
  },
  {
   "cell_type": "markdown",
   "metadata": {},
   "source": [
    "# Build random forest model"
   ]
  },
  {
   "cell_type": "code",
   "execution_count": 18,
   "metadata": {},
   "outputs": [
    {
     "data": {
      "text/plain": [
       "RandomForestClassifier(bootstrap=True, class_weight=None, criterion='gini',\n",
       "            max_depth=None, max_features='auto', max_leaf_nodes=None,\n",
       "            min_impurity_decrease=0.0, min_impurity_split=None,\n",
       "            min_samples_leaf=1, min_samples_split=2,\n",
       "            min_weight_fraction_leaf=0.0, n_estimators=50, n_jobs=1,\n",
       "            oob_score=False, random_state=0, verbose=0, warm_start=False)"
      ]
     },
     "execution_count": 18,
     "metadata": {},
     "output_type": "execute_result"
    }
   ],
   "source": [
    "rf_clf = RandomForestClassifier(n_estimators=50, random_state=0)\n",
    "rf_clf"
   ]
  },
  {
   "cell_type": "code",
   "execution_count": 19,
   "metadata": {},
   "outputs": [
    {
     "data": {
      "text/plain": [
       "Index(['ID', 'Attr1', 'Attr2', 'Attr3', 'Attr4', 'Attr5', 'Attr6', 'Attr7',\n",
       "       'Attr8', 'Attr9', 'Attr10', 'Attr11', 'Attr12', 'Attr13', 'Attr14',\n",
       "       'Attr15', 'Attr16', 'Attr17', 'Attr18', 'Attr19', 'Attr20', 'Attr21',\n",
       "       'Attr22', 'Attr23', 'Attr24', 'Attr25', 'Attr26', 'Attr27', 'Attr28',\n",
       "       'Attr29', 'Attr30', 'Attr31', 'Attr32', 'Attr33', 'Attr34', 'Attr35',\n",
       "       'Attr36', 'Attr37', 'Attr38', 'Attr39', 'Attr40', 'Attr41', 'Attr42',\n",
       "       'Attr43', 'Attr44', 'Attr45', 'Attr46', 'Attr47', 'Attr48', 'Attr49',\n",
       "       'Attr50', 'Attr51', 'Attr52', 'Attr53', 'Attr54', 'Attr55', 'Attr56',\n",
       "       'Attr57', 'Attr58', 'Attr59', 'Attr60', 'Attr61', 'Attr62', 'Attr63',\n",
       "       'Attr64', 'target'],\n",
       "      dtype='object')"
      ]
     },
     "execution_count": 19,
     "metadata": {},
     "output_type": "execute_result"
    }
   ],
   "source": [
    "names = data.dtypes.index\n",
    "names"
   ]
  },
  {
   "cell_type": "code",
   "execution_count": 20,
   "metadata": {},
   "outputs": [
    {
     "data": {
      "text/plain": [
       "RandomForestClassifier(bootstrap=True, class_weight=None, criterion='gini',\n",
       "            max_depth=None, max_features='auto', max_leaf_nodes=None,\n",
       "            min_impurity_decrease=0.0, min_impurity_split=None,\n",
       "            min_samples_leaf=1, min_samples_split=2,\n",
       "            min_weight_fraction_leaf=0.0, n_estimators=50, n_jobs=1,\n",
       "            oob_score=False, random_state=0, verbose=0, warm_start=False)"
      ]
     },
     "execution_count": 20,
     "metadata": {},
     "output_type": "execute_result"
    }
   ],
   "source": [
    "rf_model = rf_clf.fit(x_knn_imputed,y)\n",
    "rf_model"
   ]
  },
  {
   "cell_type": "code",
   "execution_count": 22,
   "metadata": {},
   "outputs": [
    {
     "name": "stdout",
     "output_type": "stream",
     "text": [
      "Features Sorted by their score\n"
     ]
    },
    {
     "data": {
      "text/plain": [
       "[(0.0375, 'Attr46'),\n",
       " (0.0334, 'Attr27'),\n",
       " (0.0293, 'Attr24'),\n",
       " (0.0292, 'Attr58'),\n",
       " (0.0276, 'Attr34'),\n",
       " (0.0249, 'Attr56'),\n",
       " (0.0217, 'Attr35'),\n",
       " (0.0207, 'Attr39'),\n",
       " (0.0199, 'Attr40'),\n",
       " (0.0192, 'Attr61'),\n",
       " (0.0183, 'Attr5'),\n",
       " (0.018, 'Attr44'),\n",
       " (0.0172, 'Attr6'),\n",
       " (0.0171, 'Attr29'),\n",
       " (0.0168, 'Attr9'),\n",
       " (0.0166, 'Attr60'),\n",
       " (0.0164, 'Attr55'),\n",
       " (0.0164, 'Attr13'),\n",
       " (0.0163, 'Attr41'),\n",
       " (0.0163, 'Attr22'),\n",
       " (0.016, 'ID'),\n",
       " (0.016, 'Attr37'),\n",
       " (0.0155, 'Attr42'),\n",
       " (0.0151, 'Attr25'),\n",
       " (0.0151, 'Attr16'),\n",
       " (0.015, 'Attr36'),\n",
       " (0.0143, 'Attr26'),\n",
       " (0.0142, 'Attr15'),\n",
       " (0.0139, 'Attr47'),\n",
       " (0.0139, 'Attr38'),\n",
       " (0.0138, 'Attr4'),\n",
       " (0.0137, 'Attr21'),\n",
       " (0.0135, 'Attr49'),\n",
       " (0.0135, 'Attr31'),\n",
       " (0.0135, 'Attr20'),\n",
       " (0.0133, 'Attr48'),\n",
       " (0.0133, 'Attr33'),\n",
       " (0.0131, 'Attr54'),\n",
       " (0.013, 'Attr3'),\n",
       " (0.0128, 'Attr45'),\n",
       " (0.0127, 'Attr28'),\n",
       " (0.0125, 'Attr11'),\n",
       " (0.0124, 'Attr64'),\n",
       " (0.0124, 'Attr43'),\n",
       " (0.0122, 'Attr51'),\n",
       " (0.0122, 'Attr32'),\n",
       " (0.0122, 'Attr2'),\n",
       " (0.0121, 'Attr63'),\n",
       " (0.0121, 'Attr50'),\n",
       " (0.012, 'Attr57'),\n",
       " (0.0119, 'Attr19'),\n",
       " (0.0115, 'Attr30'),\n",
       " (0.0114, 'Attr18'),\n",
       " (0.0114, 'Attr17'),\n",
       " (0.0111, 'Attr53'),\n",
       " (0.011, 'Attr14'),\n",
       " (0.011, 'Attr10'),\n",
       " (0.0109, 'Attr23'),\n",
       " (0.0108, 'Attr8'),\n",
       " (0.0108, 'Attr52'),\n",
       " (0.0107, 'Attr7'),\n",
       " (0.0107, 'Attr12'),\n",
       " (0.0099, 'Attr1'),\n",
       " (0.0096, 'Attr59'),\n",
       " (0.0092, 'Attr62')]"
      ]
     },
     "execution_count": 22,
     "metadata": {},
     "output_type": "execute_result"
    }
   ],
   "source": [
    "print(\"Features Sorted by their score\")\n",
    "importance = sorted(zip(map(lambda k : round(k,4), rf_model.feature_importances_), names), reverse=True)\n",
    "importance"
   ]
  },
  {
   "cell_type": "markdown",
   "metadata": {},
   "source": [
    "# Getting top 10 important attributes and filter data"
   ]
  },
  {
   "cell_type": "code",
   "execution_count": 23,
   "metadata": {},
   "outputs": [
    {
     "data": {
      "text/plain": [
       "['Attr46',\n",
       " 'Attr27',\n",
       " 'Attr24',\n",
       " 'Attr58',\n",
       " 'Attr34',\n",
       " 'Attr56',\n",
       " 'Attr35',\n",
       " 'Attr39',\n",
       " 'Attr40',\n",
       " 'Attr61']"
      ]
     },
     "execution_count": 23,
     "metadata": {},
     "output_type": "execute_result"
    }
   ],
   "source": [
    "# Select top 10 attributes with high importance\n",
    "important_features = [i[1] for i in importance[:][:10]]\n",
    "important_features"
   ]
  },
  {
   "cell_type": "code",
   "execution_count": 31,
   "metadata": {},
   "outputs": [
    {
     "data": {
      "text/html": [
       "<div>\n",
       "<style scoped>\n",
       "    .dataframe tbody tr th:only-of-type {\n",
       "        vertical-align: middle;\n",
       "    }\n",
       "\n",
       "    .dataframe tbody tr th {\n",
       "        vertical-align: top;\n",
       "    }\n",
       "\n",
       "    .dataframe thead th {\n",
       "        text-align: right;\n",
       "    }\n",
       "</style>\n",
       "<table border=\"1\" class=\"dataframe\">\n",
       "  <thead>\n",
       "    <tr style=\"text-align: right;\">\n",
       "      <th></th>\n",
       "      <th>ID</th>\n",
       "      <th>Attr1</th>\n",
       "      <th>Attr2</th>\n",
       "      <th>Attr3</th>\n",
       "      <th>Attr4</th>\n",
       "      <th>Attr5</th>\n",
       "      <th>Attr6</th>\n",
       "      <th>Attr7</th>\n",
       "      <th>Attr8</th>\n",
       "      <th>Attr9</th>\n",
       "      <th>...</th>\n",
       "      <th>Attr55</th>\n",
       "      <th>Attr56</th>\n",
       "      <th>Attr57</th>\n",
       "      <th>Attr58</th>\n",
       "      <th>Attr59</th>\n",
       "      <th>Attr60</th>\n",
       "      <th>Attr61</th>\n",
       "      <th>Attr62</th>\n",
       "      <th>Attr63</th>\n",
       "      <th>Attr64</th>\n",
       "    </tr>\n",
       "  </thead>\n",
       "  <tbody>\n",
       "    <tr>\n",
       "      <th>0</th>\n",
       "      <td>1.0</td>\n",
       "      <td>0.135370</td>\n",
       "      <td>0.45185</td>\n",
       "      <td>0.31162</td>\n",
       "      <td>2.0469</td>\n",
       "      <td>10.2340</td>\n",
       "      <td>0.16768</td>\n",
       "      <td>0.167630</td>\n",
       "      <td>1.21310</td>\n",
       "      <td>2.25540</td>\n",
       "      <td>...</td>\n",
       "      <td>1189.700</td>\n",
       "      <td>0.078728</td>\n",
       "      <td>0.24695</td>\n",
       "      <td>0.92586</td>\n",
       "      <td>0.18362</td>\n",
       "      <td>9.0895</td>\n",
       "      <td>8.8342</td>\n",
       "      <td>48.172</td>\n",
       "      <td>7.5770</td>\n",
       "      <td>5.7725</td>\n",
       "    </tr>\n",
       "    <tr>\n",
       "      <th>1</th>\n",
       "      <td>2.0</td>\n",
       "      <td>0.005861</td>\n",
       "      <td>0.39858</td>\n",
       "      <td>0.19768</td>\n",
       "      <td>1.9390</td>\n",
       "      <td>9.5771</td>\n",
       "      <td>0.00000</td>\n",
       "      <td>0.007237</td>\n",
       "      <td>1.50890</td>\n",
       "      <td>0.97880</td>\n",
       "      <td>...</td>\n",
       "      <td>1.939</td>\n",
       "      <td>0.269720</td>\n",
       "      <td>0.00000</td>\n",
       "      <td>0.79303</td>\n",
       "      <td>0.31271</td>\n",
       "      <td>6.2213</td>\n",
       "      <td>4.2785</td>\n",
       "      <td>78.499</td>\n",
       "      <td>4.6497</td>\n",
       "      <td>1.6539</td>\n",
       "    </tr>\n",
       "    <tr>\n",
       "      <th>2</th>\n",
       "      <td>3.0</td>\n",
       "      <td>0.110600</td>\n",
       "      <td>0.16117</td>\n",
       "      <td>0.47894</td>\n",
       "      <td>7.5711</td>\n",
       "      <td>263.9000</td>\n",
       "      <td>0.00000</td>\n",
       "      <td>0.138360</td>\n",
       "      <td>5.20450</td>\n",
       "      <td>0.68447</td>\n",
       "      <td>...</td>\n",
       "      <td>6092.300</td>\n",
       "      <td>0.159870</td>\n",
       "      <td>0.13185</td>\n",
       "      <td>0.80748</td>\n",
       "      <td>0.10234</td>\n",
       "      <td>9.4499</td>\n",
       "      <td>3.3443</td>\n",
       "      <td>38.867</td>\n",
       "      <td>9.3910</td>\n",
       "      <td>1.5272</td>\n",
       "    </tr>\n",
       "    <tr>\n",
       "      <th>3</th>\n",
       "      <td>4.0</td>\n",
       "      <td>0.063911</td>\n",
       "      <td>1.40730</td>\n",
       "      <td>-0.29595</td>\n",
       "      <td>0.5291</td>\n",
       "      <td>-46.2870</td>\n",
       "      <td>-0.71420</td>\n",
       "      <td>0.079071</td>\n",
       "      <td>-0.33076</td>\n",
       "      <td>0.98490</td>\n",
       "      <td>...</td>\n",
       "      <td>-13606.000</td>\n",
       "      <td>-0.015327</td>\n",
       "      <td>-0.13730</td>\n",
       "      <td>1.01530</td>\n",
       "      <td>-1.67320</td>\n",
       "      <td>29.2710</td>\n",
       "      <td>14.1410</td>\n",
       "      <td>73.458</td>\n",
       "      <td>4.9688</td>\n",
       "      <td>4.6785</td>\n",
       "    </tr>\n",
       "    <tr>\n",
       "      <th>4</th>\n",
       "      <td>5.0</td>\n",
       "      <td>0.131680</td>\n",
       "      <td>0.66031</td>\n",
       "      <td>0.44121</td>\n",
       "      <td>2.7098</td>\n",
       "      <td>-23.5960</td>\n",
       "      <td>-0.20007</td>\n",
       "      <td>0.131910</td>\n",
       "      <td>0.51445</td>\n",
       "      <td>2.13570</td>\n",
       "      <td>...</td>\n",
       "      <td>75.681</td>\n",
       "      <td>0.110170</td>\n",
       "      <td>0.38764</td>\n",
       "      <td>0.93881</td>\n",
       "      <td>1.18420</td>\n",
       "      <td>4.5462</td>\n",
       "      <td>15.1400</td>\n",
       "      <td>44.101</td>\n",
       "      <td>8.2764</td>\n",
       "      <td>7.1014</td>\n",
       "    </tr>\n",
       "  </tbody>\n",
       "</table>\n",
       "<p>5 rows × 65 columns</p>\n",
       "</div>"
      ],
      "text/plain": [
       "    ID     Attr1    Attr2    Attr3   Attr4     Attr5    Attr6     Attr7  \\\n",
       "0  1.0  0.135370  0.45185  0.31162  2.0469   10.2340  0.16768  0.167630   \n",
       "1  2.0  0.005861  0.39858  0.19768  1.9390    9.5771  0.00000  0.007237   \n",
       "2  3.0  0.110600  0.16117  0.47894  7.5711  263.9000  0.00000  0.138360   \n",
       "3  4.0  0.063911  1.40730 -0.29595  0.5291  -46.2870 -0.71420  0.079071   \n",
       "4  5.0  0.131680  0.66031  0.44121  2.7098  -23.5960 -0.20007  0.131910   \n",
       "\n",
       "     Attr8    Attr9   ...       Attr55    Attr56   Attr57   Attr58   Attr59  \\\n",
       "0  1.21310  2.25540   ...     1189.700  0.078728  0.24695  0.92586  0.18362   \n",
       "1  1.50890  0.97880   ...        1.939  0.269720  0.00000  0.79303  0.31271   \n",
       "2  5.20450  0.68447   ...     6092.300  0.159870  0.13185  0.80748  0.10234   \n",
       "3 -0.33076  0.98490   ...   -13606.000 -0.015327 -0.13730  1.01530 -1.67320   \n",
       "4  0.51445  2.13570   ...       75.681  0.110170  0.38764  0.93881  1.18420   \n",
       "\n",
       "    Attr60   Attr61  Attr62  Attr63  Attr64  \n",
       "0   9.0895   8.8342  48.172  7.5770  5.7725  \n",
       "1   6.2213   4.2785  78.499  4.6497  1.6539  \n",
       "2   9.4499   3.3443  38.867  9.3910  1.5272  \n",
       "3  29.2710  14.1410  73.458  4.9688  4.6785  \n",
       "4   4.5462  15.1400  44.101  8.2764  7.1014  \n",
       "\n",
       "[5 rows x 65 columns]"
      ]
     },
     "execution_count": 31,
     "metadata": {},
     "output_type": "execute_result"
    }
   ],
   "source": [
    "x_knn_imputed.columns=names[:-1]\n",
    "x_knn_imputed.head()\n"
   ]
  },
  {
   "cell_type": "code",
   "execution_count": 32,
   "metadata": {},
   "outputs": [
    {
     "data": {
      "text/html": [
       "<div>\n",
       "<style scoped>\n",
       "    .dataframe tbody tr th:only-of-type {\n",
       "        vertical-align: middle;\n",
       "    }\n",
       "\n",
       "    .dataframe tbody tr th {\n",
       "        vertical-align: top;\n",
       "    }\n",
       "\n",
       "    .dataframe thead th {\n",
       "        text-align: right;\n",
       "    }\n",
       "</style>\n",
       "<table border=\"1\" class=\"dataframe\">\n",
       "  <thead>\n",
       "    <tr style=\"text-align: right;\">\n",
       "      <th></th>\n",
       "      <th>Attr46</th>\n",
       "      <th>Attr27</th>\n",
       "      <th>Attr24</th>\n",
       "      <th>Attr58</th>\n",
       "      <th>Attr34</th>\n",
       "      <th>Attr56</th>\n",
       "      <th>Attr35</th>\n",
       "      <th>Attr39</th>\n",
       "      <th>Attr40</th>\n",
       "      <th>Attr61</th>\n",
       "    </tr>\n",
       "  </thead>\n",
       "  <tbody>\n",
       "    <tr>\n",
       "      <th>0</th>\n",
       "      <td>1.21330</td>\n",
       "      <td>11.55400</td>\n",
       "      <td>0.167630</td>\n",
       "      <td>0.92586</td>\n",
       "      <td>4.598500</td>\n",
       "      <td>0.078728</td>\n",
       "      <td>0.17756</td>\n",
       "      <td>0.078728</td>\n",
       "      <td>0.355590</td>\n",
       "      <td>8.8342</td>\n",
       "    </tr>\n",
       "    <tr>\n",
       "      <th>1</th>\n",
       "      <td>1.19170</td>\n",
       "      <td>0.27052</td>\n",
       "      <td>0.057817</td>\n",
       "      <td>0.79303</td>\n",
       "      <td>1.950100</td>\n",
       "      <td>0.269720</td>\n",
       "      <td>0.26400</td>\n",
       "      <td>0.269720</td>\n",
       "      <td>0.104900</td>\n",
       "      <td>4.2785</td>\n",
       "    </tr>\n",
       "    <tr>\n",
       "      <th>2</th>\n",
       "      <td>6.57730</td>\n",
       "      <td>249.30000</td>\n",
       "      <td>0.235380</td>\n",
       "      <td>0.80748</td>\n",
       "      <td>3.567900</td>\n",
       "      <td>0.159870</td>\n",
       "      <td>0.10943</td>\n",
       "      <td>0.159870</td>\n",
       "      <td>3.769300</td>\n",
       "      <td>3.3443</td>\n",
       "    </tr>\n",
       "    <tr>\n",
       "      <th>3</th>\n",
       "      <td>0.35935</td>\n",
       "      <td>0.43483</td>\n",
       "      <td>-0.689290</td>\n",
       "      <td>1.01530</td>\n",
       "      <td>0.097967</td>\n",
       "      <td>-0.015327</td>\n",
       "      <td>0.13787</td>\n",
       "      <td>0.044150</td>\n",
       "      <td>0.007983</td>\n",
       "      <td>14.1410</td>\n",
       "    </tr>\n",
       "    <tr>\n",
       "      <th>4</th>\n",
       "      <td>0.88928</td>\n",
       "      <td>3.37080</td>\n",
       "      <td>0.208580</td>\n",
       "      <td>0.93881</td>\n",
       "      <td>2.878100</td>\n",
       "      <td>0.110170</td>\n",
       "      <td>0.23529</td>\n",
       "      <td>0.110170</td>\n",
       "      <td>0.342630</td>\n",
       "      <td>15.1400</td>\n",
       "    </tr>\n",
       "  </tbody>\n",
       "</table>\n",
       "</div>"
      ],
      "text/plain": [
       "    Attr46     Attr27    Attr24   Attr58    Attr34    Attr56   Attr35  \\\n",
       "0  1.21330   11.55400  0.167630  0.92586  4.598500  0.078728  0.17756   \n",
       "1  1.19170    0.27052  0.057817  0.79303  1.950100  0.269720  0.26400   \n",
       "2  6.57730  249.30000  0.235380  0.80748  3.567900  0.159870  0.10943   \n",
       "3  0.35935    0.43483 -0.689290  1.01530  0.097967 -0.015327  0.13787   \n",
       "4  0.88928    3.37080  0.208580  0.93881  2.878100  0.110170  0.23529   \n",
       "\n",
       "     Attr39    Attr40   Attr61  \n",
       "0  0.078728  0.355590   8.8342  \n",
       "1  0.269720  0.104900   4.2785  \n",
       "2  0.159870  3.769300   3.3443  \n",
       "3  0.044150  0.007983  14.1410  \n",
       "4  0.110170  0.342630  15.1400  "
      ]
     },
     "execution_count": 32,
     "metadata": {},
     "output_type": "execute_result"
    }
   ],
   "source": [
    "x = x_knn_imputed[important_features]\n",
    "x.head()"
   ]
  },
  {
   "cell_type": "code",
   "execution_count": 33,
   "metadata": {},
   "outputs": [
    {
     "data": {
      "text/html": [
       "<div>\n",
       "<style scoped>\n",
       "    .dataframe tbody tr th:only-of-type {\n",
       "        vertical-align: middle;\n",
       "    }\n",
       "\n",
       "    .dataframe tbody tr th {\n",
       "        vertical-align: top;\n",
       "    }\n",
       "\n",
       "    .dataframe thead th {\n",
       "        text-align: right;\n",
       "    }\n",
       "</style>\n",
       "<table border=\"1\" class=\"dataframe\">\n",
       "  <thead>\n",
       "    <tr style=\"text-align: right;\">\n",
       "      <th></th>\n",
       "      <th>Attr46</th>\n",
       "      <th>Attr27</th>\n",
       "      <th>Attr24</th>\n",
       "      <th>Attr58</th>\n",
       "      <th>Attr34</th>\n",
       "      <th>Attr56</th>\n",
       "      <th>Attr35</th>\n",
       "      <th>Attr39</th>\n",
       "      <th>Attr40</th>\n",
       "      <th>Attr61</th>\n",
       "    </tr>\n",
       "  </thead>\n",
       "  <tbody>\n",
       "    <tr>\n",
       "      <th>count</th>\n",
       "      <td>36553.000000</td>\n",
       "      <td>3.655300e+04</td>\n",
       "      <td>36553.000000</td>\n",
       "      <td>3.655300e+04</td>\n",
       "      <td>36553.000000</td>\n",
       "      <td>3.655300e+04</td>\n",
       "      <td>36553.000000</td>\n",
       "      <td>36553.000000</td>\n",
       "      <td>36553.000000</td>\n",
       "      <td>36553.000000</td>\n",
       "    </tr>\n",
       "    <tr>\n",
       "      <th>mean</th>\n",
       "      <td>6.971391</td>\n",
       "      <td>1.213454e+03</td>\n",
       "      <td>0.298631</td>\n",
       "      <td>3.500536e+01</td>\n",
       "      <td>5.543722</td>\n",
       "      <td>-3.111663e+01</td>\n",
       "      <td>0.128509</td>\n",
       "      <td>-0.329700</td>\n",
       "      <td>2.589204</td>\n",
       "      <td>17.700066</td>\n",
       "    </tr>\n",
       "    <tr>\n",
       "      <th>std</th>\n",
       "      <td>337.057632</td>\n",
       "      <td>3.660556e+04</td>\n",
       "      <td>7.594802</td>\n",
       "      <td>5.806767e+03</td>\n",
       "      <td>129.657938</td>\n",
       "      <td>5.797304e+03</td>\n",
       "      <td>4.691667</td>\n",
       "      <td>42.517536</td>\n",
       "      <td>70.330152</td>\n",
       "      <td>600.251230</td>\n",
       "    </tr>\n",
       "    <tr>\n",
       "      <th>min</th>\n",
       "      <td>-101.260000</td>\n",
       "      <td>-2.590100e+05</td>\n",
       "      <td>-314.370000</td>\n",
       "      <td>-1.986900e+02</td>\n",
       "      <td>-1696.000000</td>\n",
       "      <td>-1.108300e+06</td>\n",
       "      <td>-169.470000</td>\n",
       "      <td>-7522.000000</td>\n",
       "      <td>-101.270000</td>\n",
       "      <td>-12.656000</td>\n",
       "    </tr>\n",
       "    <tr>\n",
       "      <th>25%</th>\n",
       "      <td>0.609070</td>\n",
       "      <td>3.947500e-02</td>\n",
       "      <td>0.021729</td>\n",
       "      <td>8.751100e-01</td>\n",
       "      <td>0.312080</td>\n",
       "      <td>9.060000e-03</td>\n",
       "      <td>0.005761</td>\n",
       "      <td>0.003894</td>\n",
       "      <td>0.052701</td>\n",
       "      <td>4.515500</td>\n",
       "    </tr>\n",
       "    <tr>\n",
       "      <th>50%</th>\n",
       "      <td>1.031200</td>\n",
       "      <td>1.134900e+00</td>\n",
       "      <td>0.155890</td>\n",
       "      <td>9.508300e-01</td>\n",
       "      <td>1.980600</td>\n",
       "      <td>5.299100e-02</td>\n",
       "      <td>0.060587</td>\n",
       "      <td>0.036600</td>\n",
       "      <td>0.177300</td>\n",
       "      <td>6.638600</td>\n",
       "    </tr>\n",
       "    <tr>\n",
       "      <th>75%</th>\n",
       "      <td>1.927000</td>\n",
       "      <td>5.868500e+00</td>\n",
       "      <td>0.357770</td>\n",
       "      <td>9.927300e-01</td>\n",
       "      <td>4.577900</td>\n",
       "      <td>1.297100e-01</td>\n",
       "      <td>0.150890</td>\n",
       "      <td>0.091651</td>\n",
       "      <td>0.661480</td>\n",
       "      <td>10.401000</td>\n",
       "    </tr>\n",
       "    <tr>\n",
       "      <th>max</th>\n",
       "      <td>53433.000000</td>\n",
       "      <td>4.208800e+06</td>\n",
       "      <td>831.660000</td>\n",
       "      <td>1.108300e+06</td>\n",
       "      <td>21944.000000</td>\n",
       "      <td>1.120200e+02</td>\n",
       "      <td>626.920000</td>\n",
       "      <td>2156.500000</td>\n",
       "      <td>8007.100000</td>\n",
       "      <td>108000.000000</td>\n",
       "    </tr>\n",
       "  </tbody>\n",
       "</table>\n",
       "</div>"
      ],
      "text/plain": [
       "             Attr46        Attr27        Attr24        Attr58        Attr34  \\\n",
       "count  36553.000000  3.655300e+04  36553.000000  3.655300e+04  36553.000000   \n",
       "mean       6.971391  1.213454e+03      0.298631  3.500536e+01      5.543722   \n",
       "std      337.057632  3.660556e+04      7.594802  5.806767e+03    129.657938   \n",
       "min     -101.260000 -2.590100e+05   -314.370000 -1.986900e+02  -1696.000000   \n",
       "25%        0.609070  3.947500e-02      0.021729  8.751100e-01      0.312080   \n",
       "50%        1.031200  1.134900e+00      0.155890  9.508300e-01      1.980600   \n",
       "75%        1.927000  5.868500e+00      0.357770  9.927300e-01      4.577900   \n",
       "max    53433.000000  4.208800e+06    831.660000  1.108300e+06  21944.000000   \n",
       "\n",
       "             Attr56        Attr35        Attr39        Attr40         Attr61  \n",
       "count  3.655300e+04  36553.000000  36553.000000  36553.000000   36553.000000  \n",
       "mean  -3.111663e+01      0.128509     -0.329700      2.589204      17.700066  \n",
       "std    5.797304e+03      4.691667     42.517536     70.330152     600.251230  \n",
       "min   -1.108300e+06   -169.470000  -7522.000000   -101.270000     -12.656000  \n",
       "25%    9.060000e-03      0.005761      0.003894      0.052701       4.515500  \n",
       "50%    5.299100e-02      0.060587      0.036600      0.177300       6.638600  \n",
       "75%    1.297100e-01      0.150890      0.091651      0.661480      10.401000  \n",
       "max    1.120200e+02    626.920000   2156.500000   8007.100000  108000.000000  "
      ]
     },
     "execution_count": 33,
     "metadata": {},
     "output_type": "execute_result"
    }
   ],
   "source": [
    "x.describe()"
   ]
  },
  {
   "cell_type": "code",
   "execution_count": 34,
   "metadata": {},
   "outputs": [
    {
     "data": {
      "text/plain": [
       "0    0\n",
       "1    0\n",
       "2    0\n",
       "3    0\n",
       "4    0\n",
       "Name: target, dtype: int64"
      ]
     },
     "execution_count": 34,
     "metadata": {},
     "output_type": "execute_result"
    }
   ],
   "source": [
    "y = data.target\n",
    "y.head()"
   ]
  },
  {
   "cell_type": "markdown",
   "metadata": {},
   "source": [
    "# Outlier Analysis - Box plot"
   ]
  },
  {
   "cell_type": "code",
   "execution_count": 36,
   "metadata": {},
   "outputs": [
    {
     "data": {
      "text/plain": [
       "<matplotlib.axes._subplots.AxesSubplot at 0x2c21f5c8ac8>"
      ]
     },
     "execution_count": 36,
     "metadata": {},
     "output_type": "execute_result"
    },
    {
     "data": {
      "image/png": "[encoded data removed]",
      "text/plain": [
       "<Figure size 432x288 with 1 Axes>"
      ]
     },
     "metadata": {
      "needs_background": "light"
     },
     "output_type": "display_data"
    }
   ],
   "source": [
    "# First attribute - Original\n",
    "x.boxplot('Attr46')"
   ]
  },
  {
   "cell_type": "code",
   "execution_count": 37,
   "metadata": {},
   "outputs": [
    {
     "name": "stderr",
     "output_type": "stream",
     "text": [
      "C:\\Users\\samanoh\\AppData\\Local\\Continuum\\anaconda3\\lib\\site-packages\\pandas\\core\\generic.py:4405: SettingWithCopyWarning: \n",
      "A value is trying to be set on a copy of a slice from a DataFrame.\n",
      "Try using .loc[row_indexer,col_indexer] = value instead\n",
      "\n",
      "See the caveats in the documentation: http://pandas.pydata.org/pandas-docs/stable/indexing.html#indexing-view-versus-copy\n",
      "  self[name] = value\n"
     ]
    },
    {
     "data": {
      "text/plain": [
       "<matplotlib.axes._subplots.AxesSubplot at 0x2c21f63e8d0>"
      ]
     },
     "execution_count": 37,
     "metadata": {},
     "output_type": "execute_result"
    },
    {
     "data": {
      "image/png": "[encoded data removed]",
      "text/plain": [
       "<Figure size 432x288 with 1 Axes>"
      ]
     },
     "metadata": {
      "needs_background": "light"
     },
     "output_type": "display_data"
    }
   ],
   "source": [
    "# First attribute - Modified with outliers\n",
    "\n",
    "x.Attr46 = np.where(x.Attr46 > 600, np.NaN, x.Attr46)\n",
    "x.Attr46 = np.where(x.Attr46 < -50, np.NaN, x.Attr46)\n",
    "x.boxplot('Attr46')"
   ]
  },
  {
   "cell_type": "code",
   "execution_count": 38,
   "metadata": {},
   "outputs": [
    {
     "data": {
      "text/plain": [
       "<matplotlib.axes._subplots.AxesSubplot at 0x2c2207281d0>"
      ]
     },
     "execution_count": 38,
     "metadata": {},
     "output_type": "execute_result"
    },
    {
     "data": {
      "image/png": "[encoded data removed]",
      "text/plain": [
       "<Figure size 432x288 with 1 Axes>"
      ]
     },
     "metadata": {
      "needs_background": "light"
     },
     "output_type": "display_data"
    }
   ],
   "source": [
    "# Second attribute - Original\n",
    "x.boxplot('Attr27')"
   ]
  },
  {
   "cell_type": "code",
   "execution_count": 39,
   "metadata": {},
   "outputs": [
    {
     "name": "stderr",
     "output_type": "stream",
     "text": [
      "C:\\Users\\samanoh\\AppData\\Local\\Continuum\\anaconda3\\lib\\site-packages\\pandas\\core\\generic.py:4405: SettingWithCopyWarning: \n",
      "A value is trying to be set on a copy of a slice from a DataFrame.\n",
      "Try using .loc[row_indexer,col_indexer] = value instead\n",
      "\n",
      "See the caveats in the documentation: http://pandas.pydata.org/pandas-docs/stable/indexing.html#indexing-view-versus-copy\n",
      "  self[name] = value\n"
     ]
    },
    {
     "data": {
      "text/plain": [
       "<matplotlib.axes._subplots.AxesSubplot at 0x2c2207826d8>"
      ]
     },
     "execution_count": 39,
     "metadata": {},
     "output_type": "execute_result"
    },
    {
     "data": {
      "image/png": "[encoded data removed]",
      "text/plain": [
       "<Figure size 432x288 with 1 Axes>"
      ]
     },
     "metadata": {
      "needs_background": "light"
     },
     "output_type": "display_data"
    }
   ],
   "source": [
    "# Second attribute - Modified with outliers\n",
    "\n",
    "x.Attr27 = np.where(x.Attr27 > 250000, np.NaN, x.Attr27)\n",
    "x.Attr27 = np.where(x.Attr27 < -50000, np.NaN, x.Attr27)\n",
    "x.boxplot('Attr27')"
   ]
  },
  {
   "cell_type": "code",
   "execution_count": 40,
   "metadata": {},
   "outputs": [
    {
     "data": {
      "text/plain": [
       "<matplotlib.axes._subplots.AxesSubplot at 0x2c2207ca898>"
      ]
     },
     "execution_count": 40,
     "metadata": {},
     "output_type": "execute_result"
    },
    {
     "data": {
      "image/png": "[encoded data removed]",
      "text/plain": [
       "<Figure size 432x288 with 1 Axes>"
      ]
     },
     "metadata": {
      "needs_background": "light"
     },
     "output_type": "display_data"
    }
   ],
   "source": [
    "# Third attribute - Original\n",
    "x.boxplot('Attr24')"
   ]
  },
  {
   "cell_type": "code",
   "execution_count": 45,
   "metadata": {},
   "outputs": [
    {
     "name": "stderr",
     "output_type": "stream",
     "text": [
      "C:\\Users\\samanoh\\AppData\\Local\\Continuum\\anaconda3\\lib\\site-packages\\pandas\\core\\generic.py:4405: SettingWithCopyWarning: \n",
      "A value is trying to be set on a copy of a slice from a DataFrame.\n",
      "Try using .loc[row_indexer,col_indexer] = value instead\n",
      "\n",
      "See the caveats in the documentation: http://pandas.pydata.org/pandas-docs/stable/indexing.html#indexing-view-versus-copy\n",
      "  self[name] = value\n"
     ]
    },
    {
     "data": {
      "text/plain": [
       "<matplotlib.axes._subplots.AxesSubplot at 0x2c2209c92b0>"
      ]
     },
     "execution_count": 45,
     "metadata": {},
     "output_type": "execute_result"
    },
    {
     "data": {
      "image/png": "[encoded data removed]",
      "text/plain": [
       "<Figure size 432x288 with 1 Axes>"
      ]
     },
     "metadata": {
      "needs_background": "light"
     },
     "output_type": "display_data"
    }
   ],
   "source": [
    "# Third attribute - Modified with outliers\n",
    "x.Attr24 = np.where(x.Attr24 > 7.5, np.NaN, x.Attr24)\n",
    "x.Attr24 = np.where(x.Attr24 < -10, np.NaN, x.Attr24)\n",
    "x.boxplot('Attr24')"
   ]
  },
  {
   "cell_type": "code",
   "execution_count": 46,
   "metadata": {},
   "outputs": [
    {
     "data": {
      "text/plain": [
       "<matplotlib.axes._subplots.AxesSubplot at 0x2c220a28400>"
      ]
     },
     "execution_count": 46,
     "metadata": {},
     "output_type": "execute_result"
    },
    {
     "data": {
      "image/png": "[encoded data removed]",
      "text/plain": [
       "<Figure size 432x288 with 1 Axes>"
      ]
     },
     "metadata": {
      "needs_background": "light"
     },
     "output_type": "display_data"
    }
   ],
   "source": [
    "# Fourth attribute - Original\n",
    "x.boxplot('Attr58')"
   ]
  },
  {
   "cell_type": "code",
   "execution_count": 54,
   "metadata": {},
   "outputs": [
    {
     "name": "stderr",
     "output_type": "stream",
     "text": [
      "C:\\Users\\samanoh\\AppData\\Local\\Continuum\\anaconda3\\lib\\site-packages\\pandas\\core\\generic.py:4405: SettingWithCopyWarning: \n",
      "A value is trying to be set on a copy of a slice from a DataFrame.\n",
      "Try using .loc[row_indexer,col_indexer] = value instead\n",
      "\n",
      "See the caveats in the documentation: http://pandas.pydata.org/pandas-docs/stable/indexing.html#indexing-view-versus-copy\n",
      "  self[name] = value\n"
     ]
    },
    {
     "data": {
      "text/plain": [
       "<matplotlib.axes._subplots.AxesSubplot at 0x2c220d0d198>"
      ]
     },
     "execution_count": 54,
     "metadata": {},
     "output_type": "execute_result"
    },
    {
     "data": {
      "image/png": "[encoded data removed]",
      "text/plain": [
       "<Figure size 432x288 with 1 Axes>"
      ]
     },
     "metadata": {
      "needs_background": "light"
     },
     "output_type": "display_data"
    }
   ],
   "source": [
    "# Fourth attribute - Modified with outliers\n",
    "\n",
    "x.Attr58 = np.where(x.Attr58 > 9, np.NaN, x.Attr58)\n",
    "x.Attr58 = np.where(x.Attr58 < -1, np.NaN, x.Attr58)\n",
    "x.boxplot('Attr58')"
   ]
  },
  {
   "cell_type": "code",
   "execution_count": 55,
   "metadata": {},
   "outputs": [
    {
     "data": {
      "text/plain": [
       "<matplotlib.axes._subplots.AxesSubplot at 0x2c220d69320>"
      ]
     },
     "execution_count": 55,
     "metadata": {},
     "output_type": "execute_result"
    },
    {
     "data": {
      "image/png": "[encoded data removed]",
      "text/plain": [
       "<Figure size 432x288 with 1 Axes>"
      ]
     },
     "metadata": {
      "needs_background": "light"
     },
     "output_type": "display_data"
    }
   ],
   "source": [
    "# Fifth attribute - Original\n",
    "x.boxplot('Attr34')"
   ]
  },
  {
   "cell_type": "code",
   "execution_count": 60,
   "metadata": {},
   "outputs": [
    {
     "name": "stderr",
     "output_type": "stream",
     "text": [
      "C:\\Users\\samanoh\\AppData\\Local\\Continuum\\anaconda3\\lib\\site-packages\\pandas\\core\\generic.py:4405: SettingWithCopyWarning: \n",
      "A value is trying to be set on a copy of a slice from a DataFrame.\n",
      "Try using .loc[row_indexer,col_indexer] = value instead\n",
      "\n",
      "See the caveats in the documentation: http://pandas.pydata.org/pandas-docs/stable/indexing.html#indexing-view-versus-copy\n",
      "  self[name] = value\n"
     ]
    },
    {
     "data": {
      "text/plain": [
       "<matplotlib.axes._subplots.AxesSubplot at 0x2c221f1cb00>"
      ]
     },
     "execution_count": 60,
     "metadata": {},
     "output_type": "execute_result"
    },
    {
     "data": {
      "image/png": "[encoded data removed]",
      "text/plain": [
       "<Figure size 432x288 with 1 Axes>"
      ]
     },
     "metadata": {
      "needs_background": "light"
     },
     "output_type": "display_data"
    }
   ],
   "source": [
    "# Fifth attribute - Modified with outliers\n",
    "\n",
    "x.Attr34 = np.where(x.Attr34 > 225, np.NaN, x.Attr34)\n",
    "x.Attr34 = np.where(x.Attr34 < 0, np.NaN, x.Attr34)\n",
    "x.boxplot('Attr34')"
   ]
  },
  {
   "cell_type": "code",
   "execution_count": 61,
   "metadata": {},
   "outputs": [
    {
     "data": {
      "text/plain": [
       "<matplotlib.axes._subplots.AxesSubplot at 0x2c221f72588>"
      ]
     },
     "execution_count": 61,
     "metadata": {},
     "output_type": "execute_result"
    },
    {
     "data": {
      "image/png": "[encoded data removed]",
      "text/plain": [
       "<Figure size 432x288 with 1 Axes>"
      ]
     },
     "metadata": {
      "needs_background": "light"
     },
     "output_type": "display_data"
    }
   ],
   "source": [
    "# Sixth attribute - Original\n",
    "x.boxplot('Attr56')"
   ]
  },
  {
   "cell_type": "code",
   "execution_count": 66,
   "metadata": {},
   "outputs": [
    {
     "name": "stderr",
     "output_type": "stream",
     "text": [
      "C:\\Users\\samanoh\\AppData\\Local\\Continuum\\anaconda3\\lib\\site-packages\\pandas\\core\\generic.py:4405: SettingWithCopyWarning: \n",
      "A value is trying to be set on a copy of a slice from a DataFrame.\n",
      "Try using .loc[row_indexer,col_indexer] = value instead\n",
      "\n",
      "See the caveats in the documentation: http://pandas.pydata.org/pandas-docs/stable/indexing.html#indexing-view-versus-copy\n",
      "  self[name] = value\n"
     ]
    },
    {
     "data": {
      "text/plain": [
       "<matplotlib.axes._subplots.AxesSubplot at 0x2c2233a0390>"
      ]
     },
     "execution_count": 66,
     "metadata": {},
     "output_type": "execute_result"
    },
    {
     "data": {
      "image/png": "[encoded data removed]",
      "text/plain": [
       "<Figure size 432x288 with 1 Axes>"
      ]
     },
     "metadata": {
      "needs_background": "light"
     },
     "output_type": "display_data"
    }
   ],
   "source": [
    "# Sixth attribute - Modified with outliers\n",
    "\n",
    "x.Attr56 = np.where(x.Attr56 > 1, np.NaN, x.Attr56)\n",
    "x.Attr56 = np.where(x.Attr56 < -5, np.NaN, x.Attr56)\n",
    "x.boxplot('Attr56')"
   ]
  },
  {
   "cell_type": "code",
   "execution_count": 67,
   "metadata": {},
   "outputs": [
    {
     "data": {
      "text/plain": [
       "<matplotlib.axes._subplots.AxesSubplot at 0x2c2233ffef0>"
      ]
     },
     "execution_count": 67,
     "metadata": {},
     "output_type": "execute_result"
    },
    {
     "data": {
      "image/png": "[encoded data removed]",
      "text/plain": [
       "<Figure size 432x288 with 1 Axes>"
      ]
     },
     "metadata": {
      "needs_background": "light"
     },
     "output_type": "display_data"
    }
   ],
   "source": [
    "# Seventh attribute - Original\n",
    "x.boxplot('Attr35')"
   ]
  },
  {
   "cell_type": "code",
   "execution_count": 73,
   "metadata": {},
   "outputs": [
    {
     "name": "stderr",
     "output_type": "stream",
     "text": [
      "C:\\Users\\samanoh\\AppData\\Local\\Continuum\\anaconda3\\lib\\site-packages\\pandas\\core\\generic.py:4405: SettingWithCopyWarning: \n",
      "A value is trying to be set on a copy of a slice from a DataFrame.\n",
      "Try using .loc[row_indexer,col_indexer] = value instead\n",
      "\n",
      "See the caveats in the documentation: http://pandas.pydata.org/pandas-docs/stable/indexing.html#indexing-view-versus-copy\n",
      "  self[name] = value\n"
     ]
    },
    {
     "data": {
      "text/plain": [
       "<matplotlib.axes._subplots.AxesSubplot at 0x2c224610278>"
      ]
     },
     "execution_count": 73,
     "metadata": {},
     "output_type": "execute_result"
    },
    {
     "data": {
      "image/png": "[encoded data removed]",
      "text/plain": [
       "<Figure size 432x288 with 1 Axes>"
      ]
     },
     "metadata": {
      "needs_background": "light"
     },
     "output_type": "display_data"
    }
   ],
   "source": [
    "# Seventh attribute - Modified with outliers\n",
    "\n",
    "x.Attr35 = np.where(x.Attr35 > 3, np.NaN, x.Attr35)\n",
    "x.Attr35 = np.where(x.Attr35 < -4.5, np.NaN, x.Attr35)\n",
    "x.boxplot('Attr35')"
   ]
  },
  {
   "cell_type": "code",
   "execution_count": 74,
   "metadata": {},
   "outputs": [
    {
     "data": {
      "text/plain": [
       "<matplotlib.axes._subplots.AxesSubplot at 0x2c22467d5c0>"
      ]
     },
     "execution_count": 74,
     "metadata": {},
     "output_type": "execute_result"
    },
    {
     "data": {
      "image/png": "[encoded data removed]",
      "text/plain": [
       "<Figure size 432x288 with 1 Axes>"
      ]
     },
     "metadata": {
      "needs_background": "light"
     },
     "output_type": "display_data"
    }
   ],
   "source": [
    "# Eighth attribute - Original\n",
    "x.boxplot('Attr39')"
   ]
  },
  {
   "cell_type": "code",
   "execution_count": 81,
   "metadata": {},
   "outputs": [
    {
     "name": "stderr",
     "output_type": "stream",
     "text": [
      "C:\\Users\\samanoh\\AppData\\Local\\Continuum\\anaconda3\\lib\\site-packages\\pandas\\core\\generic.py:4405: SettingWithCopyWarning: \n",
      "A value is trying to be set on a copy of a slice from a DataFrame.\n",
      "Try using .loc[row_indexer,col_indexer] = value instead\n",
      "\n",
      "See the caveats in the documentation: http://pandas.pydata.org/pandas-docs/stable/indexing.html#indexing-view-versus-copy\n",
      "  self[name] = value\n"
     ]
    },
    {
     "data": {
      "text/plain": [
       "<matplotlib.axes._subplots.AxesSubplot at 0x2c224912358>"
      ]
     },
     "execution_count": 81,
     "metadata": {},
     "output_type": "execute_result"
    },
    {
     "data": {
      "image/png": "[encoded data removed]",
      "text/plain": [
       "<Figure size 432x288 with 1 Axes>"
      ]
     },
     "metadata": {
      "needs_background": "light"
     },
     "output_type": "display_data"
    }
   ],
   "source": [
    "# Eighth attribute - Modified with outliers\n",
    "\n",
    "x.Attr39 = np.where(x.Attr39 > 3, np.NaN, x.Attr39)\n",
    "x.Attr39 = np.where(x.Attr39 < -10, np.NaN, x.Attr39)\n",
    "x.boxplot('Attr39')"
   ]
  },
  {
   "cell_type": "code",
   "execution_count": 82,
   "metadata": {},
   "outputs": [
    {
     "data": {
      "text/plain": [
       "<matplotlib.axes._subplots.AxesSubplot at 0x2c224974f60>"
      ]
     },
     "execution_count": 82,
     "metadata": {},
     "output_type": "execute_result"
    },
    {
     "data": {
      "image/png": "[encoded data removed]",
      "text/plain": [
       "<Figure size 432x288 with 1 Axes>"
      ]
     },
     "metadata": {
      "needs_background": "light"
     },
     "output_type": "display_data"
    }
   ],
   "source": [
    "# Nineth attribute - Original\n",
    "x.boxplot('Attr40')"
   ]
  },
  {
   "cell_type": "code",
   "execution_count": 95,
   "metadata": {},
   "outputs": [
    {
     "name": "stderr",
     "output_type": "stream",
     "text": [
      "C:\\Users\\samanoh\\AppData\\Local\\Continuum\\anaconda3\\lib\\site-packages\\pandas\\core\\generic.py:4405: SettingWithCopyWarning: \n",
      "A value is trying to be set on a copy of a slice from a DataFrame.\n",
      "Try using .loc[row_indexer,col_indexer] = value instead\n",
      "\n",
      "See the caveats in the documentation: http://pandas.pydata.org/pandas-docs/stable/indexing.html#indexing-view-versus-copy\n",
      "  self[name] = value\n"
     ]
    },
    {
     "data": {
      "text/plain": [
       "<matplotlib.axes._subplots.AxesSubplot at 0x2c225dfb9b0>"
      ]
     },
     "execution_count": 95,
     "metadata": {},
     "output_type": "execute_result"
    },
    {
     "data": {
      "image/png": "[encoded data removed]",
      "text/plain": [
       "<Figure size 432x288 with 1 Axes>"
      ]
     },
     "metadata": {
      "needs_background": "light"
     },
     "output_type": "display_data"
    }
   ],
   "source": [
    "# Nineth attribute - Modified with outliers\n",
    "\n",
    "x.Attr40 = np.where(x.Attr40 > 225, np.NaN, x.Attr40)\n",
    "x.Attr40 = np.where(x.Attr40 < 0, np.NaN, x.Attr40)\n",
    "x.boxplot('Attr40')"
   ]
  },
  {
   "cell_type": "code",
   "execution_count": 96,
   "metadata": {},
   "outputs": [
    {
     "data": {
      "text/plain": [
       "<matplotlib.axes._subplots.AxesSubplot at 0x2c225e4fc88>"
      ]
     },
     "execution_count": 96,
     "metadata": {},
     "output_type": "execute_result"
    },
    {
     "data": {
      "image/png": "[encoded data removed]",
      "text/plain": [
       "<Figure size 432x288 with 1 Axes>"
      ]
     },
     "metadata": {
      "needs_background": "light"
     },
     "output_type": "display_data"
    }
   ],
   "source": [
    "# Tenth attribute - Original\n",
    "x.boxplot('Attr61')"
   ]
  },
  {
   "cell_type": "code",
   "execution_count": 106,
   "metadata": {},
   "outputs": [
    {
     "name": "stderr",
     "output_type": "stream",
     "text": [
      "C:\\Users\\samanoh\\AppData\\Local\\Continuum\\anaconda3\\lib\\site-packages\\pandas\\core\\generic.py:4405: SettingWithCopyWarning: \n",
      "A value is trying to be set on a copy of a slice from a DataFrame.\n",
      "Try using .loc[row_indexer,col_indexer] = value instead\n",
      "\n",
      "See the caveats in the documentation: http://pandas.pydata.org/pandas-docs/stable/indexing.html#indexing-view-versus-copy\n",
      "  self[name] = value\n"
     ]
    },
    {
     "data": {
      "text/plain": [
       "<matplotlib.axes._subplots.AxesSubplot at 0x2c226205588>"
      ]
     },
     "execution_count": 106,
     "metadata": {},
     "output_type": "execute_result"
    },
    {
     "data": {
      "image/png": "[encoded data removed]",
      "text/plain": [
       "<Figure size 432x288 with 1 Axes>"
      ]
     },
     "metadata": {
      "needs_background": "light"
     },
     "output_type": "display_data"
    }
   ],
   "source": [
    "# Tenth attribute - Modified with outliers\n",
    "\n",
    "x.Attr61 = np.where(x.Attr61 > 600, np.NaN, x.Attr61)\n",
    "x.Attr61 = np.where(x.Attr61 < 0, np.NaN, x.Attr61)\n",
    "x.boxplot('Attr61')"
   ]
  },
  {
   "cell_type": "markdown",
   "metadata": {},
   "source": [
    "# Missing value treatment - KNN imputation"
   ]
  },
  {
   "cell_type": "code",
   "execution_count": 107,
   "metadata": {},
   "outputs": [
    {
     "name": "stdout",
     "output_type": "stream",
     "text": [
      "Imputing row 1/36553 with 0 missing, elapsed time: 906.540\n",
      "Imputing row 101/36553 with 0 missing, elapsed time: 906.797\n",
      "Imputing row 201/36553 with 0 missing, elapsed time: 906.895\n",
      "Imputing row 301/36553 with 0 missing, elapsed time: 907.011\n",
      "Imputing row 401/36553 with 0 missing, elapsed time: 907.042\n",
      "Imputing row 501/36553 with 0 missing, elapsed time: 907.104\n",
      "Imputing row 601/36553 with 0 missing, elapsed time: 907.153\n",
      "Imputing row 701/36553 with 0 missing, elapsed time: 907.257\n",
      "Imputing row 801/36553 with 0 missing, elapsed time: 907.283\n",
      "Imputing row 901/36553 with 0 missing, elapsed time: 907.306\n",
      "Imputing row 1001/36553 with 0 missing, elapsed time: 907.369\n",
      "Imputing row 1101/36553 with 0 missing, elapsed time: 907.408\n",
      "Imputing row 1201/36553 with 0 missing, elapsed time: 907.437\n",
      "Imputing row 1301/36553 with 0 missing, elapsed time: 907.463\n",
      "Imputing row 1401/36553 with 0 missing, elapsed time: 907.485\n",
      "Imputing row 1501/36553 with 0 missing, elapsed time: 907.534\n",
      "Imputing row 1601/36553 with 0 missing, elapsed time: 907.572\n",
      "Imputing row 1701/36553 with 0 missing, elapsed time: 907.626\n",
      "Imputing row 1801/36553 with 0 missing, elapsed time: 907.669\n",
      "Imputing row 1901/36553 with 0 missing, elapsed time: 907.727\n",
      "Imputing row 2001/36553 with 0 missing, elapsed time: 907.785\n",
      "Imputing row 2101/36553 with 1 missing, elapsed time: 907.934\n",
      "Imputing row 2201/36553 with 0 missing, elapsed time: 907.995\n",
      "Imputing row 2301/36553 with 0 missing, elapsed time: 908.032\n",
      "Imputing row 2401/36553 with 0 missing, elapsed time: 908.068\n",
      "Imputing row 2501/36553 with 0 missing, elapsed time: 908.088\n",
      "Imputing row 2601/36553 with 0 missing, elapsed time: 908.134\n",
      "Imputing row 2701/36553 with 0 missing, elapsed time: 908.186\n",
      "Imputing row 2801/36553 with 0 missing, elapsed time: 908.238\n",
      "Imputing row 2901/36553 with 1 missing, elapsed time: 908.270\n",
      "Imputing row 3001/36553 with 1 missing, elapsed time: 908.321\n",
      "Imputing row 3101/36553 with 0 missing, elapsed time: 908.374\n",
      "Imputing row 3201/36553 with 0 missing, elapsed time: 908.431\n",
      "Imputing row 3301/36553 with 0 missing, elapsed time: 908.447\n",
      "Imputing row 3401/36553 with 0 missing, elapsed time: 908.483\n",
      "Imputing row 3501/36553 with 0 missing, elapsed time: 908.564\n",
      "Imputing row 3601/36553 with 0 missing, elapsed time: 908.597\n",
      "Imputing row 3701/36553 with 0 missing, elapsed time: 908.711\n",
      "Imputing row 3801/36553 with 0 missing, elapsed time: 908.803\n",
      "Imputing row 3901/36553 with 0 missing, elapsed time: 908.830\n",
      "Imputing row 4001/36553 with 0 missing, elapsed time: 908.846\n",
      "Imputing row 4101/36553 with 0 missing, elapsed time: 908.878\n",
      "Imputing row 4201/36553 with 0 missing, elapsed time: 908.922\n",
      "Imputing row 4301/36553 with 0 missing, elapsed time: 908.986\n",
      "Imputing row 4401/36553 with 0 missing, elapsed time: 909.027\n",
      "Imputing row 4501/36553 with 0 missing, elapsed time: 909.101\n",
      "Imputing row 4601/36553 with 0 missing, elapsed time: 909.183\n",
      "Imputing row 4701/36553 with 0 missing, elapsed time: 909.249\n",
      "Imputing row 4801/36553 with 0 missing, elapsed time: 909.289\n",
      "Imputing row 4901/36553 with 0 missing, elapsed time: 909.308\n",
      "Imputing row 5001/36553 with 0 missing, elapsed time: 909.330\n",
      "Imputing row 5101/36553 with 0 missing, elapsed time: 909.374\n",
      "Imputing row 5201/36553 with 0 missing, elapsed time: 909.410\n",
      "Imputing row 5301/36553 with 0 missing, elapsed time: 909.452\n",
      "Imputing row 5401/36553 with 0 missing, elapsed time: 909.475\n",
      "Imputing row 5501/36553 with 0 missing, elapsed time: 909.493\n",
      "Imputing row 5601/36553 with 0 missing, elapsed time: 909.521\n",
      "Imputing row 5701/36553 with 0 missing, elapsed time: 909.578\n",
      "Imputing row 5801/36553 with 0 missing, elapsed time: 909.594\n",
      "Imputing row 5901/36553 with 0 missing, elapsed time: 909.621\n",
      "Imputing row 6001/36553 with 0 missing, elapsed time: 909.667\n",
      "Imputing row 6101/36553 with 1 missing, elapsed time: 909.680\n",
      "Imputing row 6201/36553 with 1 missing, elapsed time: 909.716\n",
      "Imputing row 6301/36553 with 0 missing, elapsed time: 909.741\n",
      "Imputing row 6401/36553 with 0 missing, elapsed time: 909.791\n",
      "Imputing row 6501/36553 with 0 missing, elapsed time: 909.821\n",
      "Imputing row 6601/36553 with 0 missing, elapsed time: 909.859\n",
      "Imputing row 6701/36553 with 0 missing, elapsed time: 909.883\n",
      "Imputing row 6801/36553 with 0 missing, elapsed time: 909.909\n",
      "Imputing row 6901/36553 with 0 missing, elapsed time: 909.929\n",
      "Imputing row 7001/36553 with 0 missing, elapsed time: 909.951\n",
      "Imputing row 7101/36553 with 0 missing, elapsed time: 909.985\n",
      "Imputing row 7201/36553 with 1 missing, elapsed time: 910.040\n",
      "Imputing row 7301/36553 with 0 missing, elapsed time: 910.084\n",
      "Imputing row 7401/36553 with 0 missing, elapsed time: 910.122\n",
      "Imputing row 7501/36553 with 0 missing, elapsed time: 910.163\n",
      "Imputing row 7601/36553 with 1 missing, elapsed time: 910.232\n",
      "Imputing row 7701/36553 with 0 missing, elapsed time: 910.292\n",
      "Imputing row 7801/36553 with 0 missing, elapsed time: 910.312\n",
      "Imputing row 7901/36553 with 0 missing, elapsed time: 910.350\n",
      "Imputing row 8001/36553 with 0 missing, elapsed time: 910.386\n",
      "Imputing row 8101/36553 with 0 missing, elapsed time: 910.410\n",
      "Imputing row 8201/36553 with 1 missing, elapsed time: 910.428\n",
      "Imputing row 8301/36553 with 0 missing, elapsed time: 910.447\n",
      "Imputing row 8401/36553 with 0 missing, elapsed time: 910.467\n",
      "Imputing row 8501/36553 with 0 missing, elapsed time: 910.479\n",
      "Imputing row 8601/36553 with 0 missing, elapsed time: 910.491\n",
      "Imputing row 8701/36553 with 0 missing, elapsed time: 910.534\n",
      "Imputing row 8801/36553 with 0 missing, elapsed time: 910.556\n",
      "Imputing row 8901/36553 with 0 missing, elapsed time: 910.618\n",
      "Imputing row 9001/36553 with 0 missing, elapsed time: 910.630\n",
      "Imputing row 9101/36553 with 0 missing, elapsed time: 910.653\n",
      "Imputing row 9201/36553 with 0 missing, elapsed time: 910.673\n",
      "Imputing row 9301/36553 with 0 missing, elapsed time: 910.686\n",
      "Imputing row 9401/36553 with 0 missing, elapsed time: 910.723\n",
      "Imputing row 9501/36553 with 0 missing, elapsed time: 910.766\n",
      "Imputing row 9601/36553 with 0 missing, elapsed time: 910.790\n",
      "Imputing row 9701/36553 with 0 missing, elapsed time: 910.823\n",
      "Imputing row 9801/36553 with 0 missing, elapsed time: 910.858\n",
      "Imputing row 9901/36553 with 0 missing, elapsed time: 910.889\n",
      "Imputing row 10001/36553 with 0 missing, elapsed time: 910.949\n",
      "Imputing row 10101/36553 with 0 missing, elapsed time: 910.977\n",
      "Imputing row 10201/36553 with 0 missing, elapsed time: 911.009\n",
      "Imputing row 10301/36553 with 0 missing, elapsed time: 911.058\n",
      "Imputing row 10401/36553 with 0 missing, elapsed time: 911.089\n",
      "Imputing row 10501/36553 with 1 missing, elapsed time: 911.113\n",
      "Imputing row 10601/36553 with 0 missing, elapsed time: 911.163\n",
      "Imputing row 10701/36553 with 0 missing, elapsed time: 911.215\n",
      "Imputing row 10801/36553 with 0 missing, elapsed time: 911.248\n",
      "Imputing row 10901/36553 with 0 missing, elapsed time: 911.298\n",
      "Imputing row 11001/36553 with 0 missing, elapsed time: 911.331\n",
      "Imputing row 11101/36553 with 0 missing, elapsed time: 911.411\n",
      "Imputing row 11201/36553 with 0 missing, elapsed time: 911.422\n",
      "Imputing row 11301/36553 with 0 missing, elapsed time: 911.452\n",
      "Imputing row 11401/36553 with 0 missing, elapsed time: 911.479\n",
      "Imputing row 11501/36553 with 0 missing, elapsed time: 911.516\n",
      "Imputing row 11601/36553 with 0 missing, elapsed time: 911.541\n",
      "Imputing row 11701/36553 with 0 missing, elapsed time: 911.551\n",
      "Imputing row 11801/36553 with 0 missing, elapsed time: 911.570\n",
      "Imputing row 11901/36553 with 0 missing, elapsed time: 911.581\n",
      "Imputing row 12001/36553 with 0 missing, elapsed time: 911.608\n",
      "Imputing row 12101/36553 with 1 missing, elapsed time: 911.636\n",
      "Imputing row 12201/36553 with 0 missing, elapsed time: 911.755\n",
      "Imputing row 12301/36553 with 0 missing, elapsed time: 911.776\n",
      "Imputing row 12401/36553 with 0 missing, elapsed time: 911.883\n",
      "Imputing row 12501/36553 with 0 missing, elapsed time: 911.933\n",
      "Imputing row 12601/36553 with 0 missing, elapsed time: 911.963\n",
      "Imputing row 12701/36553 with 0 missing, elapsed time: 912.002\n",
      "Imputing row 12801/36553 with 0 missing, elapsed time: 912.045\n",
      "Imputing row 12901/36553 with 0 missing, elapsed time: 912.069\n",
      "Imputing row 13001/36553 with 0 missing, elapsed time: 912.102\n",
      "Imputing row 13101/36553 with 0 missing, elapsed time: 912.150\n"
     ]
    },
    {
     "name": "stdout",
     "output_type": "stream",
     "text": [
      "Imputing row 13201/36553 with 0 missing, elapsed time: 912.173\n",
      "Imputing row 13301/36553 with 0 missing, elapsed time: 912.182\n",
      "Imputing row 13401/36553 with 0 missing, elapsed time: 912.214\n",
      "Imputing row 13501/36553 with 0 missing, elapsed time: 912.258\n",
      "Imputing row 13601/36553 with 0 missing, elapsed time: 912.291\n",
      "Imputing row 13701/36553 with 0 missing, elapsed time: 912.330\n",
      "Imputing row 13801/36553 with 0 missing, elapsed time: 912.380\n",
      "Imputing row 13901/36553 with 0 missing, elapsed time: 912.462\n",
      "Imputing row 14001/36553 with 0 missing, elapsed time: 912.496\n",
      "Imputing row 14101/36553 with 0 missing, elapsed time: 912.513\n",
      "Imputing row 14201/36553 with 0 missing, elapsed time: 912.584\n",
      "Imputing row 14301/36553 with 1 missing, elapsed time: 912.625\n",
      "Imputing row 14401/36553 with 0 missing, elapsed time: 912.651\n",
      "Imputing row 14501/36553 with 0 missing, elapsed time: 912.684\n",
      "Imputing row 14601/36553 with 0 missing, elapsed time: 912.711\n",
      "Imputing row 14701/36553 with 0 missing, elapsed time: 912.733\n",
      "Imputing row 14801/36553 with 0 missing, elapsed time: 912.788\n",
      "Imputing row 14901/36553 with 0 missing, elapsed time: 912.825\n",
      "Imputing row 15001/36553 with 0 missing, elapsed time: 912.862\n",
      "Imputing row 15101/36553 with 0 missing, elapsed time: 912.945\n",
      "Imputing row 15201/36553 with 0 missing, elapsed time: 912.963\n",
      "Imputing row 15301/36553 with 0 missing, elapsed time: 913.012\n",
      "Imputing row 15401/36553 with 0 missing, elapsed time: 913.072\n",
      "Imputing row 15501/36553 with 0 missing, elapsed time: 913.089\n",
      "Imputing row 15601/36553 with 0 missing, elapsed time: 913.136\n",
      "Imputing row 15701/36553 with 0 missing, elapsed time: 913.226\n",
      "Imputing row 15801/36553 with 0 missing, elapsed time: 913.378\n",
      "Imputing row 15901/36553 with 0 missing, elapsed time: 913.393\n",
      "Imputing row 16001/36553 with 0 missing, elapsed time: 913.418\n",
      "Imputing row 16101/36553 with 1 missing, elapsed time: 913.434\n",
      "Imputing row 16201/36553 with 0 missing, elapsed time: 913.447\n",
      "Imputing row 16301/36553 with 0 missing, elapsed time: 913.495\n",
      "Imputing row 16401/36553 with 0 missing, elapsed time: 913.541\n",
      "Imputing row 16501/36553 with 0 missing, elapsed time: 913.563\n",
      "Imputing row 16601/36553 with 0 missing, elapsed time: 913.597\n",
      "Imputing row 16701/36553 with 0 missing, elapsed time: 913.620\n",
      "Imputing row 16801/36553 with 0 missing, elapsed time: 913.658\n",
      "Imputing row 16901/36553 with 1 missing, elapsed time: 913.694\n",
      "Imputing row 17001/36553 with 0 missing, elapsed time: 913.716\n",
      "Imputing row 17101/36553 with 0 missing, elapsed time: 913.747\n",
      "Imputing row 17201/36553 with 0 missing, elapsed time: 913.775\n",
      "Imputing row 17301/36553 with 0 missing, elapsed time: 913.798\n",
      "Imputing row 17401/36553 with 0 missing, elapsed time: 913.824\n",
      "Imputing row 17501/36553 with 0 missing, elapsed time: 913.842\n",
      "Imputing row 17601/36553 with 0 missing, elapsed time: 913.878\n",
      "Imputing row 17701/36553 with 0 missing, elapsed time: 913.915\n",
      "Imputing row 17801/36553 with 1 missing, elapsed time: 913.945\n",
      "Imputing row 17901/36553 with 0 missing, elapsed time: 913.967\n",
      "Imputing row 18001/36553 with 0 missing, elapsed time: 913.994\n",
      "Imputing row 18101/36553 with 0 missing, elapsed time: 914.058\n",
      "Imputing row 18201/36553 with 0 missing, elapsed time: 914.083\n",
      "Imputing row 18301/36553 with 1 missing, elapsed time: 914.133\n",
      "Imputing row 18401/36553 with 0 missing, elapsed time: 914.184\n",
      "Imputing row 18501/36553 with 0 missing, elapsed time: 914.211\n",
      "Imputing row 18601/36553 with 0 missing, elapsed time: 914.242\n",
      "Imputing row 18701/36553 with 0 missing, elapsed time: 914.268\n",
      "Imputing row 18801/36553 with 0 missing, elapsed time: 914.288\n",
      "Imputing row 18901/36553 with 0 missing, elapsed time: 914.327\n",
      "Imputing row 19001/36553 with 0 missing, elapsed time: 914.368\n",
      "Imputing row 19101/36553 with 0 missing, elapsed time: 914.398\n",
      "Imputing row 19201/36553 with 0 missing, elapsed time: 914.408\n",
      "Imputing row 19301/36553 with 0 missing, elapsed time: 914.433\n",
      "Imputing row 19401/36553 with 0 missing, elapsed time: 914.482\n",
      "Imputing row 19501/36553 with 0 missing, elapsed time: 914.512\n",
      "Imputing row 19601/36553 with 0 missing, elapsed time: 914.558\n",
      "Imputing row 19701/36553 with 0 missing, elapsed time: 914.582\n",
      "Imputing row 19801/36553 with 0 missing, elapsed time: 914.606\n",
      "Imputing row 19901/36553 with 0 missing, elapsed time: 914.619\n",
      "Imputing row 20001/36553 with 0 missing, elapsed time: 914.651\n",
      "Imputing row 20101/36553 with 0 missing, elapsed time: 914.688\n",
      "Imputing row 20201/36553 with 0 missing, elapsed time: 914.722\n",
      "Imputing row 20301/36553 with 0 missing, elapsed time: 914.749\n",
      "Imputing row 20401/36553 with 0 missing, elapsed time: 914.794\n",
      "Imputing row 20501/36553 with 0 missing, elapsed time: 914.824\n",
      "Imputing row 20601/36553 with 0 missing, elapsed time: 914.878\n",
      "Imputing row 20701/36553 with 0 missing, elapsed time: 914.928\n",
      "Imputing row 20801/36553 with 0 missing, elapsed time: 914.977\n",
      "Imputing row 20901/36553 with 0 missing, elapsed time: 915.015\n",
      "Imputing row 21001/36553 with 0 missing, elapsed time: 915.040\n",
      "Imputing row 21101/36553 with 0 missing, elapsed time: 915.091\n",
      "Imputing row 21201/36553 with 0 missing, elapsed time: 915.135\n",
      "Imputing row 21301/36553 with 1 missing, elapsed time: 915.167\n",
      "Imputing row 21401/36553 with 0 missing, elapsed time: 915.198\n",
      "Imputing row 21501/36553 with 0 missing, elapsed time: 915.217\n",
      "Imputing row 21601/36553 with 0 missing, elapsed time: 915.234\n",
      "Imputing row 21701/36553 with 0 missing, elapsed time: 915.257\n",
      "Imputing row 21801/36553 with 0 missing, elapsed time: 915.293\n",
      "Imputing row 21901/36553 with 0 missing, elapsed time: 915.314\n",
      "Imputing row 22001/36553 with 0 missing, elapsed time: 915.336\n",
      "Imputing row 22101/36553 with 0 missing, elapsed time: 915.367\n",
      "Imputing row 22201/36553 with 0 missing, elapsed time: 915.391\n",
      "Imputing row 22301/36553 with 0 missing, elapsed time: 915.424\n",
      "Imputing row 22401/36553 with 0 missing, elapsed time: 915.443\n",
      "Imputing row 22501/36553 with 0 missing, elapsed time: 915.474\n",
      "Imputing row 22601/36553 with 0 missing, elapsed time: 915.509\n",
      "Imputing row 22701/36553 with 0 missing, elapsed time: 915.530\n",
      "Imputing row 22801/36553 with 0 missing, elapsed time: 915.543\n",
      "Imputing row 22901/36553 with 0 missing, elapsed time: 915.557\n",
      "Imputing row 23001/36553 with 0 missing, elapsed time: 915.585\n",
      "Imputing row 23101/36553 with 0 missing, elapsed time: 915.601\n",
      "Imputing row 23201/36553 with 0 missing, elapsed time: 915.634\n",
      "Imputing row 23301/36553 with 0 missing, elapsed time: 915.666\n",
      "Imputing row 23401/36553 with 0 missing, elapsed time: 915.688\n",
      "Imputing row 23501/36553 with 0 missing, elapsed time: 915.724\n",
      "Imputing row 23601/36553 with 0 missing, elapsed time: 915.752\n",
      "Imputing row 23701/36553 with 0 missing, elapsed time: 915.774\n",
      "Imputing row 23801/36553 with 0 missing, elapsed time: 915.797\n",
      "Imputing row 23901/36553 with 0 missing, elapsed time: 915.819\n",
      "Imputing row 24001/36553 with 0 missing, elapsed time: 915.841\n",
      "Imputing row 24101/36553 with 0 missing, elapsed time: 915.880\n",
      "Imputing row 24201/36553 with 0 missing, elapsed time: 915.910\n",
      "Imputing row 24301/36553 with 0 missing, elapsed time: 915.924\n",
      "Imputing row 24401/36553 with 0 missing, elapsed time: 915.956\n",
      "Imputing row 24501/36553 with 0 missing, elapsed time: 915.976\n",
      "Imputing row 24601/36553 with 0 missing, elapsed time: 916.017\n",
      "Imputing row 24701/36553 with 0 missing, elapsed time: 916.164\n",
      "Imputing row 24801/36553 with 0 missing, elapsed time: 916.376\n",
      "Imputing row 24901/36553 with 0 missing, elapsed time: 916.541\n",
      "Imputing row 25001/36553 with 0 missing, elapsed time: 916.573\n",
      "Imputing row 25101/36553 with 0 missing, elapsed time: 916.605\n",
      "Imputing row 25201/36553 with 0 missing, elapsed time: 916.622\n",
      "Imputing row 25301/36553 with 0 missing, elapsed time: 916.641\n",
      "Imputing row 25401/36553 with 0 missing, elapsed time: 916.647\n",
      "Imputing row 25501/36553 with 0 missing, elapsed time: 916.663\n",
      "Imputing row 25601/36553 with 0 missing, elapsed time: 916.689\n",
      "Imputing row 25701/36553 with 0 missing, elapsed time: 916.719\n",
      "Imputing row 25801/36553 with 0 missing, elapsed time: 916.745\n",
      "Imputing row 25901/36553 with 0 missing, elapsed time: 916.772\n",
      "Imputing row 26001/36553 with 0 missing, elapsed time: 916.800\n",
      "Imputing row 26101/36553 with 0 missing, elapsed time: 916.810\n",
      "Imputing row 26201/36553 with 0 missing, elapsed time: 916.823\n",
      "Imputing row 26301/36553 with 0 missing, elapsed time: 916.845\n",
      "Imputing row 26401/36553 with 0 missing, elapsed time: 916.854\n",
      "Imputing row 26501/36553 with 0 missing, elapsed time: 916.867\n",
      "Imputing row 26601/36553 with 0 missing, elapsed time: 916.878\n",
      "Imputing row 26701/36553 with 0 missing, elapsed time: 916.881\n",
      "Imputing row 26801/36553 with 0 missing, elapsed time: 916.892\n",
      "Imputing row 26901/36553 with 0 missing, elapsed time: 916.911\n",
      "Imputing row 27001/36553 with 0 missing, elapsed time: 916.928\n",
      "Imputing row 27101/36553 with 0 missing, elapsed time: 916.946\n",
      "Imputing row 27201/36553 with 0 missing, elapsed time: 916.966\n",
      "Imputing row 27301/36553 with 0 missing, elapsed time: 916.979\n",
      "Imputing row 27401/36553 with 0 missing, elapsed time: 916.991\n"
     ]
    },
    {
     "name": "stdout",
     "output_type": "stream",
     "text": [
      "Imputing row 27501/36553 with 0 missing, elapsed time: 917.004\n",
      "Imputing row 27601/36553 with 0 missing, elapsed time: 917.030\n",
      "Imputing row 27701/36553 with 0 missing, elapsed time: 917.044\n",
      "Imputing row 27801/36553 with 0 missing, elapsed time: 917.063\n",
      "Imputing row 27901/36553 with 0 missing, elapsed time: 917.076\n",
      "Imputing row 28001/36553 with 0 missing, elapsed time: 917.091\n",
      "Imputing row 28101/36553 with 0 missing, elapsed time: 917.101\n",
      "Imputing row 28201/36553 with 0 missing, elapsed time: 917.112\n",
      "Imputing row 28301/36553 with 0 missing, elapsed time: 917.125\n",
      "Imputing row 28401/36553 with 0 missing, elapsed time: 917.141\n",
      "Imputing row 28501/36553 with 0 missing, elapsed time: 917.150\n",
      "Imputing row 28601/36553 with 0 missing, elapsed time: 917.162\n",
      "Imputing row 28701/36553 with 0 missing, elapsed time: 917.181\n",
      "Imputing row 28801/36553 with 0 missing, elapsed time: 917.214\n",
      "Imputing row 28901/36553 with 0 missing, elapsed time: 917.227\n",
      "Imputing row 29001/36553 with 0 missing, elapsed time: 917.256\n",
      "Imputing row 29101/36553 with 0 missing, elapsed time: 917.279\n",
      "Imputing row 29201/36553 with 0 missing, elapsed time: 917.314\n",
      "Imputing row 29301/36553 with 0 missing, elapsed time: 917.345\n",
      "Imputing row 29401/36553 with 0 missing, elapsed time: 917.374\n",
      "Imputing row 29501/36553 with 0 missing, elapsed time: 917.389\n",
      "Imputing row 29601/36553 with 0 missing, elapsed time: 917.401\n",
      "Imputing row 29701/36553 with 0 missing, elapsed time: 917.415\n",
      "Imputing row 29801/36553 with 0 missing, elapsed time: 917.432\n",
      "Imputing row 29901/36553 with 0 missing, elapsed time: 917.454\n",
      "Imputing row 30001/36553 with 0 missing, elapsed time: 917.469\n",
      "Imputing row 30101/36553 with 1 missing, elapsed time: 917.509\n",
      "Imputing row 30201/36553 with 0 missing, elapsed time: 917.535\n",
      "Imputing row 30301/36553 with 0 missing, elapsed time: 917.548\n",
      "Imputing row 30401/36553 with 1 missing, elapsed time: 917.566\n",
      "Imputing row 30501/36553 with 0 missing, elapsed time: 917.592\n",
      "Imputing row 30601/36553 with 0 missing, elapsed time: 917.618\n",
      "Imputing row 30701/36553 with 0 missing, elapsed time: 917.632\n",
      "Imputing row 30801/36553 with 0 missing, elapsed time: 917.655\n",
      "Imputing row 30901/36553 with 0 missing, elapsed time: 917.663\n",
      "Imputing row 31001/36553 with 0 missing, elapsed time: 917.808\n",
      "Imputing row 31101/36553 with 0 missing, elapsed time: 917.820\n",
      "Imputing row 31201/36553 with 0 missing, elapsed time: 917.884\n",
      "Imputing row 31301/36553 with 0 missing, elapsed time: 917.964\n",
      "Imputing row 31401/36553 with 0 missing, elapsed time: 918.012\n",
      "Imputing row 31501/36553 with 0 missing, elapsed time: 918.041\n",
      "Imputing row 31601/36553 with 0 missing, elapsed time: 918.105\n",
      "Imputing row 31701/36553 with 0 missing, elapsed time: 918.136\n",
      "Imputing row 31801/36553 with 0 missing, elapsed time: 918.240\n",
      "Imputing row 31901/36553 with 0 missing, elapsed time: 918.335\n",
      "Imputing row 32001/36553 with 0 missing, elapsed time: 918.369\n",
      "Imputing row 32101/36553 with 0 missing, elapsed time: 918.462\n",
      "Imputing row 32201/36553 with 0 missing, elapsed time: 918.516\n",
      "Imputing row 32301/36553 with 0 missing, elapsed time: 918.527\n",
      "Imputing row 32401/36553 with 0 missing, elapsed time: 918.583\n",
      "Imputing row 32501/36553 with 0 missing, elapsed time: 918.685\n",
      "Imputing row 32601/36553 with 0 missing, elapsed time: 918.696\n",
      "Imputing row 32701/36553 with 0 missing, elapsed time: 918.720\n",
      "Imputing row 32801/36553 with 0 missing, elapsed time: 918.735\n",
      "Imputing row 32901/36553 with 0 missing, elapsed time: 918.756\n",
      "Imputing row 33001/36553 with 0 missing, elapsed time: 918.766\n",
      "Imputing row 33101/36553 with 0 missing, elapsed time: 918.787\n",
      "Imputing row 33201/36553 with 0 missing, elapsed time: 918.817\n",
      "Imputing row 33301/36553 with 0 missing, elapsed time: 918.839\n",
      "Imputing row 33401/36553 with 0 missing, elapsed time: 918.871\n",
      "Imputing row 33501/36553 with 0 missing, elapsed time: 918.899\n",
      "Imputing row 33601/36553 with 0 missing, elapsed time: 918.919\n",
      "Imputing row 33701/36553 with 0 missing, elapsed time: 918.929\n",
      "Imputing row 33801/36553 with 0 missing, elapsed time: 918.939\n",
      "Imputing row 33901/36553 with 0 missing, elapsed time: 918.951\n",
      "Imputing row 34001/36553 with 0 missing, elapsed time: 918.964\n",
      "Imputing row 34101/36553 with 0 missing, elapsed time: 918.985\n",
      "Imputing row 34201/36553 with 0 missing, elapsed time: 919.014\n",
      "Imputing row 34301/36553 with 0 missing, elapsed time: 919.038\n",
      "Imputing row 34401/36553 with 0 missing, elapsed time: 919.060\n",
      "Imputing row 34501/36553 with 0 missing, elapsed time: 919.092\n",
      "Imputing row 34601/36553 with 0 missing, elapsed time: 919.113\n",
      "Imputing row 34701/36553 with 0 missing, elapsed time: 919.141\n",
      "Imputing row 34801/36553 with 0 missing, elapsed time: 919.166\n",
      "Imputing row 34901/36553 with 0 missing, elapsed time: 919.188\n",
      "Imputing row 35001/36553 with 0 missing, elapsed time: 919.236\n",
      "Imputing row 35101/36553 with 1 missing, elapsed time: 919.257\n",
      "Imputing row 35201/36553 with 0 missing, elapsed time: 919.301\n",
      "Imputing row 35301/36553 with 0 missing, elapsed time: 919.354\n",
      "Imputing row 35401/36553 with 0 missing, elapsed time: 919.370\n",
      "Imputing row 35501/36553 with 0 missing, elapsed time: 919.392\n",
      "Imputing row 35601/36553 with 0 missing, elapsed time: 919.411\n",
      "Imputing row 35701/36553 with 0 missing, elapsed time: 919.427\n",
      "Imputing row 35801/36553 with 0 missing, elapsed time: 919.446\n",
      "Imputing row 35901/36553 with 0 missing, elapsed time: 919.466\n",
      "Imputing row 36001/36553 with 0 missing, elapsed time: 919.514\n",
      "Imputing row 36101/36553 with 0 missing, elapsed time: 919.530\n",
      "Imputing row 36201/36553 with 0 missing, elapsed time: 919.557\n",
      "Imputing row 36301/36553 with 0 missing, elapsed time: 919.609\n",
      "Imputing row 36401/36553 with 0 missing, elapsed time: 919.637\n",
      "Imputing row 36501/36553 with 0 missing, elapsed time: 919.684\n"
     ]
    },
    {
     "ename": "AttributeError",
     "evalue": "'numpy.ndarray' object has no attribute 'isnull'",
     "output_type": "error",
     "traceback": [
      "\u001b[1;31m---------------------------------------------------------------------------\u001b[0m",
      "\u001b[1;31mAttributeError\u001b[0m                            Traceback (most recent call last)",
      "\u001b[1;32m<ipython-input-107-04b6bec22d64>\u001b[0m in \u001b[0;36m<module>\u001b[1;34m()\u001b[0m\n\u001b[0;32m      1\u001b[0m \u001b[0mx_imputed\u001b[0m \u001b[1;33m=\u001b[0m \u001b[0mKNN\u001b[0m\u001b[1;33m(\u001b[0m\u001b[1;36m7\u001b[0m\u001b[1;33m)\u001b[0m\u001b[1;33m.\u001b[0m\u001b[0mfit_transform\u001b[0m\u001b[1;33m(\u001b[0m\u001b[0mx\u001b[0m\u001b[1;33m)\u001b[0m\u001b[1;33m\u001b[0m\u001b[1;33m\u001b[0m\u001b[0m\n\u001b[1;32m----> 2\u001b[1;33m \u001b[0mx_imputed\u001b[0m\u001b[1;33m.\u001b[0m\u001b[0misnull\u001b[0m\u001b[1;33m(\u001b[0m\u001b[1;33m)\u001b[0m\u001b[1;33m.\u001b[0m\u001b[0msum\u001b[0m\u001b[1;33m(\u001b[0m\u001b[1;33m)\u001b[0m\u001b[1;33m.\u001b[0m\u001b[0msum\u001b[0m\u001b[1;33m(\u001b[0m\u001b[1;33m)\u001b[0m\u001b[1;33m\u001b[0m\u001b[1;33m\u001b[0m\u001b[0m\n\u001b[0m",
      "\u001b[1;31mAttributeError\u001b[0m: 'numpy.ndarray' object has no attribute 'isnull'"
     ]
    }
   ],
   "source": [
    "x_imputed = KNN(7).fit_transform(x)\n",
    "#x_imputed.isnull().sum().sum()"
   ]
  },
  {
   "cell_type": "code",
   "execution_count": 109,
   "metadata": {},
   "outputs": [
    {
     "data": {
      "text/plain": [
       "0"
      ]
     },
     "execution_count": 109,
     "metadata": {},
     "output_type": "execute_result"
    }
   ],
   "source": [
    "x_imputed_df = pd.DataFrame(x_imputed)\n",
    "x_imputed_df.isnull().sum().sum()"
   ]
  },
  {
   "cell_type": "code",
   "execution_count": 112,
   "metadata": {},
   "outputs": [
    {
     "data": {
      "text/html": [
       "<div>\n",
       "<style scoped>\n",
       "    .dataframe tbody tr th:only-of-type {\n",
       "        vertical-align: middle;\n",
       "    }\n",
       "\n",
       "    .dataframe tbody tr th {\n",
       "        vertical-align: top;\n",
       "    }\n",
       "\n",
       "    .dataframe thead th {\n",
       "        text-align: right;\n",
       "    }\n",
       "</style>\n",
       "<table border=\"1\" class=\"dataframe\">\n",
       "  <thead>\n",
       "    <tr style=\"text-align: right;\">\n",
       "      <th></th>\n",
       "      <th>Attr46</th>\n",
       "      <th>Attr27</th>\n",
       "      <th>Attr24</th>\n",
       "      <th>Attr58</th>\n",
       "      <th>Attr34</th>\n",
       "      <th>Attr56</th>\n",
       "      <th>Attr35</th>\n",
       "      <th>Attr39</th>\n",
       "      <th>Attr40</th>\n",
       "      <th>Attr61</th>\n",
       "    </tr>\n",
       "  </thead>\n",
       "  <tbody>\n",
       "    <tr>\n",
       "      <th>0</th>\n",
       "      <td>1.21330</td>\n",
       "      <td>11.55400</td>\n",
       "      <td>0.167630</td>\n",
       "      <td>0.92586</td>\n",
       "      <td>4.598500</td>\n",
       "      <td>0.078728</td>\n",
       "      <td>0.17756</td>\n",
       "      <td>0.078728</td>\n",
       "      <td>0.355590</td>\n",
       "      <td>8.8342</td>\n",
       "    </tr>\n",
       "    <tr>\n",
       "      <th>1</th>\n",
       "      <td>1.19170</td>\n",
       "      <td>0.27052</td>\n",
       "      <td>0.057817</td>\n",
       "      <td>0.79303</td>\n",
       "      <td>1.950100</td>\n",
       "      <td>0.269720</td>\n",
       "      <td>0.26400</td>\n",
       "      <td>0.269720</td>\n",
       "      <td>0.104900</td>\n",
       "      <td>4.2785</td>\n",
       "    </tr>\n",
       "    <tr>\n",
       "      <th>2</th>\n",
       "      <td>6.57730</td>\n",
       "      <td>249.30000</td>\n",
       "      <td>0.235380</td>\n",
       "      <td>0.80748</td>\n",
       "      <td>3.567900</td>\n",
       "      <td>0.159870</td>\n",
       "      <td>0.10943</td>\n",
       "      <td>0.159870</td>\n",
       "      <td>3.769300</td>\n",
       "      <td>3.3443</td>\n",
       "    </tr>\n",
       "    <tr>\n",
       "      <th>3</th>\n",
       "      <td>0.35935</td>\n",
       "      <td>0.43483</td>\n",
       "      <td>-0.689290</td>\n",
       "      <td>1.01530</td>\n",
       "      <td>0.097967</td>\n",
       "      <td>-0.015327</td>\n",
       "      <td>0.13787</td>\n",
       "      <td>0.044150</td>\n",
       "      <td>0.007983</td>\n",
       "      <td>14.1410</td>\n",
       "    </tr>\n",
       "    <tr>\n",
       "      <th>4</th>\n",
       "      <td>0.88928</td>\n",
       "      <td>3.37080</td>\n",
       "      <td>0.208580</td>\n",
       "      <td>0.93881</td>\n",
       "      <td>2.878100</td>\n",
       "      <td>0.110170</td>\n",
       "      <td>0.23529</td>\n",
       "      <td>0.110170</td>\n",
       "      <td>0.342630</td>\n",
       "      <td>15.1400</td>\n",
       "    </tr>\n",
       "  </tbody>\n",
       "</table>\n",
       "</div>"
      ],
      "text/plain": [
       "    Attr46     Attr27    Attr24   Attr58    Attr34    Attr56   Attr35  \\\n",
       "0  1.21330   11.55400  0.167630  0.92586  4.598500  0.078728  0.17756   \n",
       "1  1.19170    0.27052  0.057817  0.79303  1.950100  0.269720  0.26400   \n",
       "2  6.57730  249.30000  0.235380  0.80748  3.567900  0.159870  0.10943   \n",
       "3  0.35935    0.43483 -0.689290  1.01530  0.097967 -0.015327  0.13787   \n",
       "4  0.88928    3.37080  0.208580  0.93881  2.878100  0.110170  0.23529   \n",
       "\n",
       "     Attr39    Attr40   Attr61  \n",
       "0  0.078728  0.355590   8.8342  \n",
       "1  0.269720  0.104900   4.2785  \n",
       "2  0.159870  3.769300   3.3443  \n",
       "3  0.044150  0.007983  14.1410  \n",
       "4  0.110170  0.342630  15.1400  "
      ]
     },
     "execution_count": 112,
     "metadata": {},
     "output_type": "execute_result"
    }
   ],
   "source": [
    "x_imputed_df.columns = important_features\n",
    "x_imputed_df.head()"
   ]
  },
  {
   "cell_type": "code",
   "execution_count": 134,
   "metadata": {},
   "outputs": [],
   "source": [
    "# Export into file\n",
    "\n",
    "imputed =  pd.concat([x_imputed_df, pd.DataFrame(y)], sort=False, axis=1)\n",
    "imputed.to_csv(\"bankruptcy_important_knn_imputed.csv\", index=False)"
   ]
  },
  {
   "cell_type": "markdown",
   "metadata": {},
   "source": [
    "# Train test split"
   ]
  },
  {
   "cell_type": "code",
   "execution_count": 113,
   "metadata": {},
   "outputs": [],
   "source": [
    "from sklearn.model_selection import train_test_split\n",
    "X = x_imputed_df\n",
    "\n",
    "train_X, val_X, train_y, val_y = train_test_split(X, y,random_state = 0)"
   ]
  },
  {
   "cell_type": "markdown",
   "metadata": {},
   "source": [
    "# Build model - Logistic regression"
   ]
  },
  {
   "cell_type": "code",
   "execution_count": 114,
   "metadata": {},
   "outputs": [],
   "source": [
    "from sklearn.linear_model import LogisticRegression\n",
    "log_reg = LogisticRegression(random_state=0)\n",
    "log_model = log_reg.fit(train_X, train_y)\n",
    "pred_y = log_model.predict(val_X)"
   ]
  },
  {
   "cell_type": "markdown",
   "metadata": {},
   "source": [
    "# Metrics - logistic"
   ]
  },
  {
   "cell_type": "code",
   "execution_count": 115,
   "metadata": {},
   "outputs": [
    {
     "data": {
      "text/plain": [
       "0.9474778422146843"
      ]
     },
     "execution_count": 115,
     "metadata": {},
     "output_type": "execute_result"
    }
   ],
   "source": [
    "# R^2 score\n",
    "log_model.score(val_X, val_y)"
   ]
  },
  {
   "cell_type": "code",
   "execution_count": 116,
   "metadata": {},
   "outputs": [
    {
     "name": "stdout",
     "output_type": "stream",
     "text": [
      "[[8656    8]\n",
      " [ 472    3]]\n"
     ]
    }
   ],
   "source": [
    "# Confusion matrix\n",
    "from sklearn.metrics import confusion_matrix\n",
    "\n",
    "confusion_matrix = confusion_matrix(val_y, pred_y)\n",
    "print(confusion_matrix)"
   ]
  },
  {
   "cell_type": "code",
   "execution_count": 117,
   "metadata": {},
   "outputs": [
    {
     "data": {
      "text/plain": [
       "'             precision    recall  f1-score   support\\n\\n          0       0.95      1.00      0.97      8664\\n          1       0.27      0.01      0.01       475\\n\\navg / total       0.91      0.95      0.92      9139\\n'"
      ]
     },
     "execution_count": 117,
     "metadata": {},
     "output_type": "execute_result"
    }
   ],
   "source": [
    "from sklearn.metrics import classification_report\n",
    "\n",
    "classification_report(val_y, pred_y)"
   ]
  },
  {
   "cell_type": "markdown",
   "metadata": {},
   "source": [
    "# Build model - KNN"
   ]
  },
  {
   "cell_type": "code",
   "execution_count": 137,
   "metadata": {},
   "outputs": [],
   "source": [
    "from sklearn.neighbors import KNeighborsClassifier  \n",
    "knn_cls = KNeighborsClassifier(n_neighbors=7)  \n",
    "knn_model = knn_cls.fit(train_X, train_y)  \n",
    "knn_pred_y = knn_model.predict(val_X)"
   ]
  },
  {
   "cell_type": "markdown",
   "metadata": {},
   "source": [
    "# metrics - KNN"
   ]
  },
  {
   "cell_type": "code",
   "execution_count": 138,
   "metadata": {},
   "outputs": [
    {
     "data": {
      "text/plain": [
       "0.9470401575664733"
      ]
     },
     "execution_count": 138,
     "metadata": {},
     "output_type": "execute_result"
    }
   ],
   "source": [
    "# R^2 score\n",
    "knn_model.score(val_X, val_y)"
   ]
  },
  {
   "cell_type": "code",
   "execution_count": 159,
   "metadata": {},
   "outputs": [
    {
     "name": "stdout",
     "output_type": "stream",
     "text": [
      "[[8651   13]\n",
      " [ 471    4]]\n"
     ]
    }
   ],
   "source": [
    "# Confusion matrix\n",
    "from sklearn.metrics import confusion_matrix\n",
    "\n",
    "knn_confusion_matrix = confusion_matrix(val_y, knn_pred_y)\n",
    "print(knn_confusion_matrix)"
   ]
  },
  {
   "cell_type": "code",
   "execution_count": 143,
   "metadata": {},
   "outputs": [
    {
     "data": {
      "text/plain": [
       "'             precision    recall  f1-score   support\\n\\n          0       0.95      1.00      0.97      8664\\n          1       0.24      0.01      0.02       475\\n\\navg / total       0.91      0.95      0.92      9139\\n'"
      ]
     },
     "execution_count": 143,
     "metadata": {},
     "output_type": "execute_result"
    }
   ],
   "source": [
    "classification_report(val_y, knn_pred_y)"
   ]
  },
  {
   "cell_type": "markdown",
   "metadata": {},
   "source": [
    "# Build model - CART"
   ]
  },
  {
   "cell_type": "code",
   "execution_count": 160,
   "metadata": {},
   "outputs": [],
   "source": [
    "from sklearn.tree import DecisionTreeClassifier\n",
    "\n",
    "cart_cls = DecisionTreeClassifier(random_state=0)\n",
    "cart_model = cart_cls.fit(train_X, train_y)\n",
    "cart_pred_y = cart_model.predict(val_X)"
   ]
  },
  {
   "cell_type": "markdown",
   "metadata": {},
   "source": [
    "# metrics - CART"
   ]
  },
  {
   "cell_type": "code",
   "execution_count": 161,
   "metadata": {},
   "outputs": [
    {
     "data": {
      "text/plain": [
       "0.9335813546339862"
      ]
     },
     "execution_count": 161,
     "metadata": {},
     "output_type": "execute_result"
    }
   ],
   "source": [
    "# R^2 score\n",
    "cart_model.score(val_X, val_y)"
   ]
  },
  {
   "cell_type": "code",
   "execution_count": 162,
   "metadata": {},
   "outputs": [
    {
     "name": "stdout",
     "output_type": "stream",
     "text": [
      "[[8374  290]\n",
      " [ 317  158]]\n"
     ]
    }
   ],
   "source": [
    "# Confusion matrix\n",
    "from sklearn.metrics import confusion_matrix\n",
    "\n",
    "cart_confusion_matrix = confusion_matrix(val_y, cart_pred_y)\n",
    "print(cart_confusion_matrix)"
   ]
  },
  {
   "cell_type": "code",
   "execution_count": 163,
   "metadata": {},
   "outputs": [
    {
     "data": {
      "text/plain": [
       "'             precision    recall  f1-score   support\\n\\n          0       0.96      0.97      0.97      8664\\n          1       0.35      0.33      0.34       475\\n\\navg / total       0.93      0.93      0.93      9139\\n'"
      ]
     },
     "execution_count": 163,
     "metadata": {},
     "output_type": "execute_result"
    }
   ],
   "source": [
    "classification_report(val_y, cart_pred_y)"
   ]
  },
  {
   "cell_type": "markdown",
   "metadata": {},
   "source": [
    "# Build model - Random Forest"
   ]
  },
  {
   "cell_type": "code",
   "execution_count": 164,
   "metadata": {},
   "outputs": [],
   "source": [
    "rf_clf = RandomForestClassifier(n_estimators=50, random_state=0)\n",
    "rf_model = rf_clf.fit(train_X, train_y)\n",
    "rf_pred_y = rf_model.predict(val_X)"
   ]
  },
  {
   "cell_type": "markdown",
   "metadata": {},
   "source": [
    "# Metrics - Random forest"
   ]
  },
  {
   "cell_type": "code",
   "execution_count": 165,
   "metadata": {},
   "outputs": [
    {
     "data": {
      "text/plain": [
       "0.9554655870445344"
      ]
     },
     "execution_count": 165,
     "metadata": {},
     "output_type": "execute_result"
    }
   ],
   "source": [
    "# R^2 score\n",
    "rf_model.score(val_X, val_y)"
   ]
  },
  {
   "cell_type": "code",
   "execution_count": 166,
   "metadata": {},
   "outputs": [
    {
     "name": "stdout",
     "output_type": "stream",
     "text": [
      "[[8648   16]\n",
      " [ 391   84]]\n"
     ]
    }
   ],
   "source": [
    "# Confusion matrix\n",
    "from sklearn.metrics import confusion_matrix\n",
    "\n",
    "rf_confusion_matrix = confusion_matrix(val_y, rf_pred_y)\n",
    "print(rf_confusion_matrix)"
   ]
  },
  {
   "cell_type": "code",
   "execution_count": 167,
   "metadata": {},
   "outputs": [
    {
     "data": {
      "text/plain": [
       "'             precision    recall  f1-score   support\\n\\n          0       0.96      1.00      0.98      8664\\n          1       0.84      0.18      0.29       475\\n\\navg / total       0.95      0.96      0.94      9139\\n'"
      ]
     },
     "execution_count": 167,
     "metadata": {},
     "output_type": "execute_result"
    }
   ],
   "source": [
    "classification_report(val_y, rf_pred_y)"
   ]
  },
  {
   "cell_type": "markdown",
   "metadata": {},
   "source": [
    "# Build model - Naive Bayes"
   ]
  },
  {
   "cell_type": "code",
   "execution_count": 169,
   "metadata": {},
   "outputs": [
    {
     "ename": "ValueError",
     "evalue": "Input X must be non-negative",
     "output_type": "error",
     "traceback": [
      "\u001b[1;31m---------------------------------------------------------------------------\u001b[0m",
      "\u001b[1;31mValueError\u001b[0m                                Traceback (most recent call last)",
      "\u001b[1;32m<ipython-input-169-7bc9308d3bbf>\u001b[0m in \u001b[0;36m<module>\u001b[1;34m()\u001b[0m\n\u001b[0;32m      2\u001b[0m \u001b[1;33m\u001b[0m\u001b[0m\n\u001b[0;32m      3\u001b[0m \u001b[0mnb_clf\u001b[0m \u001b[1;33m=\u001b[0m \u001b[0mMultinomialNB\u001b[0m\u001b[1;33m(\u001b[0m\u001b[1;33m)\u001b[0m\u001b[1;33m\u001b[0m\u001b[1;33m\u001b[0m\u001b[0m\n\u001b[1;32m----> 4\u001b[1;33m \u001b[0mnb_model\u001b[0m \u001b[1;33m=\u001b[0m \u001b[0mnb_clf\u001b[0m\u001b[1;33m.\u001b[0m\u001b[0mfit\u001b[0m\u001b[1;33m(\u001b[0m\u001b[0mtrain_X\u001b[0m\u001b[1;33m,\u001b[0m \u001b[0mtrain_y\u001b[0m\u001b[1;33m)\u001b[0m\u001b[1;33m\u001b[0m\u001b[1;33m\u001b[0m\u001b[0m\n\u001b[0m\u001b[0;32m      5\u001b[0m \u001b[0mnb_pred_y\u001b[0m \u001b[1;33m=\u001b[0m \u001b[0mnb_model\u001b[0m\u001b[1;33m.\u001b[0m\u001b[0mpredict\u001b[0m\u001b[1;33m(\u001b[0m\u001b[0mval_X\u001b[0m\u001b[1;33m)\u001b[0m\u001b[1;33m\u001b[0m\u001b[1;33m\u001b[0m\u001b[0m\n",
      "\u001b[1;32m~\\AppData\\Local\\Continuum\\anaconda3\\lib\\site-packages\\sklearn\\naive_bayes.py\u001b[0m in \u001b[0;36mfit\u001b[1;34m(self, X, y, sample_weight)\u001b[0m\n\u001b[0;32m    602\u001b[0m         self.feature_count_ = np.zeros((n_effective_classes, n_features),\n\u001b[0;32m    603\u001b[0m                                        dtype=np.float64)\n\u001b[1;32m--> 604\u001b[1;33m         \u001b[0mself\u001b[0m\u001b[1;33m.\u001b[0m\u001b[0m_count\u001b[0m\u001b[1;33m(\u001b[0m\u001b[0mX\u001b[0m\u001b[1;33m,\u001b[0m \u001b[0mY\u001b[0m\u001b[1;33m)\u001b[0m\u001b[1;33m\u001b[0m\u001b[1;33m\u001b[0m\u001b[0m\n\u001b[0m\u001b[0;32m    605\u001b[0m         \u001b[0malpha\u001b[0m \u001b[1;33m=\u001b[0m \u001b[0mself\u001b[0m\u001b[1;33m.\u001b[0m\u001b[0m_check_alpha\u001b[0m\u001b[1;33m(\u001b[0m\u001b[1;33m)\u001b[0m\u001b[1;33m\u001b[0m\u001b[1;33m\u001b[0m\u001b[0m\n\u001b[0;32m    606\u001b[0m         \u001b[0mself\u001b[0m\u001b[1;33m.\u001b[0m\u001b[0m_update_feature_log_prob\u001b[0m\u001b[1;33m(\u001b[0m\u001b[0malpha\u001b[0m\u001b[1;33m)\u001b[0m\u001b[1;33m\u001b[0m\u001b[1;33m\u001b[0m\u001b[0m\n",
      "\u001b[1;32m~\\AppData\\Local\\Continuum\\anaconda3\\lib\\site-packages\\sklearn\\naive_bayes.py\u001b[0m in \u001b[0;36m_count\u001b[1;34m(self, X, Y)\u001b[0m\n\u001b[0;32m    706\u001b[0m         \u001b[1;34m\"\"\"Count and smooth feature occurrences.\"\"\"\u001b[0m\u001b[1;33m\u001b[0m\u001b[1;33m\u001b[0m\u001b[0m\n\u001b[0;32m    707\u001b[0m         \u001b[1;32mif\u001b[0m \u001b[0mnp\u001b[0m\u001b[1;33m.\u001b[0m\u001b[0many\u001b[0m\u001b[1;33m(\u001b[0m\u001b[1;33m(\u001b[0m\u001b[0mX\u001b[0m\u001b[1;33m.\u001b[0m\u001b[0mdata\u001b[0m \u001b[1;32mif\u001b[0m \u001b[0missparse\u001b[0m\u001b[1;33m(\u001b[0m\u001b[0mX\u001b[0m\u001b[1;33m)\u001b[0m \u001b[1;32melse\u001b[0m \u001b[0mX\u001b[0m\u001b[1;33m)\u001b[0m \u001b[1;33m<\u001b[0m \u001b[1;36m0\u001b[0m\u001b[1;33m)\u001b[0m\u001b[1;33m:\u001b[0m\u001b[1;33m\u001b[0m\u001b[1;33m\u001b[0m\u001b[0m\n\u001b[1;32m--> 708\u001b[1;33m             \u001b[1;32mraise\u001b[0m \u001b[0mValueError\u001b[0m\u001b[1;33m(\u001b[0m\u001b[1;34m\"Input X must be non-negative\"\u001b[0m\u001b[1;33m)\u001b[0m\u001b[1;33m\u001b[0m\u001b[1;33m\u001b[0m\u001b[0m\n\u001b[0m\u001b[0;32m    709\u001b[0m         \u001b[0mself\u001b[0m\u001b[1;33m.\u001b[0m\u001b[0mfeature_count_\u001b[0m \u001b[1;33m+=\u001b[0m \u001b[0msafe_sparse_dot\u001b[0m\u001b[1;33m(\u001b[0m\u001b[0mY\u001b[0m\u001b[1;33m.\u001b[0m\u001b[0mT\u001b[0m\u001b[1;33m,\u001b[0m \u001b[0mX\u001b[0m\u001b[1;33m)\u001b[0m\u001b[1;33m\u001b[0m\u001b[1;33m\u001b[0m\u001b[0m\n\u001b[0;32m    710\u001b[0m         \u001b[0mself\u001b[0m\u001b[1;33m.\u001b[0m\u001b[0mclass_count_\u001b[0m \u001b[1;33m+=\u001b[0m \u001b[0mY\u001b[0m\u001b[1;33m.\u001b[0m\u001b[0msum\u001b[0m\u001b[1;33m(\u001b[0m\u001b[0maxis\u001b[0m\u001b[1;33m=\u001b[0m\u001b[1;36m0\u001b[0m\u001b[1;33m)\u001b[0m\u001b[1;33m\u001b[0m\u001b[1;33m\u001b[0m\u001b[0m\n",
      "\u001b[1;31mValueError\u001b[0m: Input X must be non-negative"
     ]
    }
   ],
   "source": [
    "from sklearn.naive_bayes import MultinomialNB\n",
    "\n",
    "nb_clf = MultinomialNB()\n",
    "nb_model = nb_clf.fit(train_X, train_y)\n",
    "nb_pred_y = nb_model.predict(val_X)"
   ]
  }
 ],
 "metadata": {
  "kernelspec": {
   "display_name": "Python 3",
   "language": "python",
   "name": "python3"
  },
  "language_info": {
   "codemirror_mode": {
    "name": "ipython",
    "version": 3
   },
   "file_extension": ".py",
   "mimetype": "text/x-python",
   "name": "python",
   "nbconvert_exporter": "python",
   "pygments_lexer": "ipython3",
   "version": "3.6.7"
  }
 },
 "nbformat": 4,
 "nbformat_minor": 2
}
