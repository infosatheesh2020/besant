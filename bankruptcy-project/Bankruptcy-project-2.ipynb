{
 "cells": [
  {
   "cell_type": "markdown",
   "metadata": {},
   "source": [
    "# Bankruptcy Project"
   ]
  },
  {
   "cell_type": "markdown",
   "metadata": {},
   "source": [
    "Using data from central imputation"
   ]
  },
  {
   "cell_type": "code",
   "execution_count": 3,
   "metadata": {},
   "outputs": [],
   "source": [
    "import pandas as pd\n",
    "import numpy as np"
   ]
  },
  {
   "cell_type": "code",
   "execution_count": 4,
   "metadata": {},
   "outputs": [],
   "source": [
    "important = ['ID',\n",
    " 'Attr27',\n",
    " 'Attr34',\n",
    " 'Attr46',\n",
    " 'Attr58',\n",
    " 'Attr6',\n",
    " 'Attr29',\n",
    " 'Attr56',\n",
    " 'Attr39',\n",
    " 'Attr55',\n",
    " 'Attr40',\n",
    "'target']"
   ]
  },
  {
   "cell_type": "code",
   "execution_count": 5,
   "metadata": {},
   "outputs": [
    {
     "data": {
      "text/html": [
       "<div>\n",
       "<style scoped>\n",
       "    .dataframe tbody tr th:only-of-type {\n",
       "        vertical-align: middle;\n",
       "    }\n",
       "\n",
       "    .dataframe tbody tr th {\n",
       "        vertical-align: top;\n",
       "    }\n",
       "\n",
       "    .dataframe thead th {\n",
       "        text-align: right;\n",
       "    }\n",
       "</style>\n",
       "<table border=\"1\" class=\"dataframe\">\n",
       "  <thead>\n",
       "    <tr style=\"text-align: right;\">\n",
       "      <th></th>\n",
       "      <th>ID</th>\n",
       "      <th>Attr27</th>\n",
       "      <th>Attr34</th>\n",
       "      <th>Attr46</th>\n",
       "      <th>Attr58</th>\n",
       "      <th>Attr6</th>\n",
       "      <th>Attr29</th>\n",
       "      <th>Attr56</th>\n",
       "      <th>Attr39</th>\n",
       "      <th>Attr55</th>\n",
       "      <th>Attr40</th>\n",
       "      <th>target</th>\n",
       "    </tr>\n",
       "  </thead>\n",
       "  <tbody>\n",
       "    <tr>\n",
       "      <th>count</th>\n",
       "      <td>36553.000000</td>\n",
       "      <td>3.421000e+04</td>\n",
       "      <td>36474.000000</td>\n",
       "      <td>36441.000000</td>\n",
       "      <td>3.647700e+04</td>\n",
       "      <td>36545.000000</td>\n",
       "      <td>36545.000000</td>\n",
       "      <td>3.644000e+04</td>\n",
       "      <td>36440.000000</td>\n",
       "      <td>3.655300e+04</td>\n",
       "      <td>36442.000000</td>\n",
       "      <td>36553.000000</td>\n",
       "    </tr>\n",
       "    <tr>\n",
       "      <th>mean</th>\n",
       "      <td>18277.000000</td>\n",
       "      <td>1.188043e+03</td>\n",
       "      <td>5.521127</td>\n",
       "      <td>5.944766</td>\n",
       "      <td>3.495525e+01</td>\n",
       "      <td>-0.030899</td>\n",
       "      <td>3.996264</td>\n",
       "      <td>-3.114462e+01</td>\n",
       "      <td>-0.328137</td>\n",
       "      <td>7.870028e+03</td>\n",
       "      <td>2.268094</td>\n",
       "      <td>0.048286</td>\n",
       "    </tr>\n",
       "    <tr>\n",
       "      <th>std</th>\n",
       "      <td>10552.086531</td>\n",
       "      <td>3.770584e+04</td>\n",
       "      <td>129.748189</td>\n",
       "      <td>321.731832</td>\n",
       "      <td>5.812797e+03</td>\n",
       "      <td>6.518182</td>\n",
       "      <td>0.829488</td>\n",
       "      <td>5.806271e+03</td>\n",
       "      <td>42.580801</td>\n",
       "      <td>7.399565e+04</td>\n",
       "      <td>60.562361</td>\n",
       "      <td>0.214373</td>\n",
       "    </tr>\n",
       "    <tr>\n",
       "      <th>min</th>\n",
       "      <td>1.000000</td>\n",
       "      <td>-2.590100e+05</td>\n",
       "      <td>-1696.000000</td>\n",
       "      <td>-101.260000</td>\n",
       "      <td>-1.986900e+02</td>\n",
       "      <td>-508.410000</td>\n",
       "      <td>-0.886060</td>\n",
       "      <td>-1.108300e+06</td>\n",
       "      <td>-7522.000000</td>\n",
       "      <td>-1.805200e+06</td>\n",
       "      <td>-101.270000</td>\n",
       "      <td>0.000000</td>\n",
       "    </tr>\n",
       "    <tr>\n",
       "      <th>25%</th>\n",
       "      <td>9139.000000</td>\n",
       "      <td>4.268450e-02</td>\n",
       "      <td>0.311500</td>\n",
       "      <td>0.608230</td>\n",
       "      <td>8.751900e-01</td>\n",
       "      <td>0.000000</td>\n",
       "      <td>3.485900</td>\n",
       "      <td>9.144250e-03</td>\n",
       "      <td>0.003947</td>\n",
       "      <td>2.982100e+01</td>\n",
       "      <td>0.052500</td>\n",
       "      <td>0.000000</td>\n",
       "    </tr>\n",
       "    <tr>\n",
       "      <th>50%</th>\n",
       "      <td>18277.000000</td>\n",
       "      <td>1.090050e+00</td>\n",
       "      <td>1.977900</td>\n",
       "      <td>1.028000</td>\n",
       "      <td>9.508600e-01</td>\n",
       "      <td>0.000000</td>\n",
       "      <td>4.003300</td>\n",
       "      <td>5.293650e-02</td>\n",
       "      <td>0.036640</td>\n",
       "      <td>1.077800e+03</td>\n",
       "      <td>0.176245</td>\n",
       "      <td>0.000000</td>\n",
       "    </tr>\n",
       "    <tr>\n",
       "      <th>75%</th>\n",
       "      <td>27415.000000</td>\n",
       "      <td>5.180350e+00</td>\n",
       "      <td>4.561175</td>\n",
       "      <td>1.915400</td>\n",
       "      <td>9.927100e-01</td>\n",
       "      <td>0.086872</td>\n",
       "      <td>4.512500</td>\n",
       "      <td>1.294525e-01</td>\n",
       "      <td>0.091643</td>\n",
       "      <td>4.944800e+03</td>\n",
       "      <td>0.652967</td>\n",
       "      <td>0.000000</td>\n",
       "    </tr>\n",
       "    <tr>\n",
       "      <th>max</th>\n",
       "      <td>36553.000000</td>\n",
       "      <td>4.208800e+06</td>\n",
       "      <td>21944.000000</td>\n",
       "      <td>53433.000000</td>\n",
       "      <td>1.108300e+06</td>\n",
       "      <td>543.250000</td>\n",
       "      <td>9.698300</td>\n",
       "      <td>1.120200e+02</td>\n",
       "      <td>2156.500000</td>\n",
       "      <td>6.123700e+06</td>\n",
       "      <td>8007.100000</td>\n",
       "      <td>1.000000</td>\n",
       "    </tr>\n",
       "  </tbody>\n",
       "</table>\n",
       "</div>"
      ],
      "text/plain": [
       "                 ID        Attr27        Attr34        Attr46        Attr58  \\\n",
       "count  36553.000000  3.421000e+04  36474.000000  36441.000000  3.647700e+04   \n",
       "mean   18277.000000  1.188043e+03      5.521127      5.944766  3.495525e+01   \n",
       "std    10552.086531  3.770584e+04    129.748189    321.731832  5.812797e+03   \n",
       "min        1.000000 -2.590100e+05  -1696.000000   -101.260000 -1.986900e+02   \n",
       "25%     9139.000000  4.268450e-02      0.311500      0.608230  8.751900e-01   \n",
       "50%    18277.000000  1.090050e+00      1.977900      1.028000  9.508600e-01   \n",
       "75%    27415.000000  5.180350e+00      4.561175      1.915400  9.927100e-01   \n",
       "max    36553.000000  4.208800e+06  21944.000000  53433.000000  1.108300e+06   \n",
       "\n",
       "              Attr6        Attr29        Attr56        Attr39        Attr55  \\\n",
       "count  36545.000000  36545.000000  3.644000e+04  36440.000000  3.655300e+04   \n",
       "mean      -0.030899      3.996264 -3.114462e+01     -0.328137  7.870028e+03   \n",
       "std        6.518182      0.829488  5.806271e+03     42.580801  7.399565e+04   \n",
       "min     -508.410000     -0.886060 -1.108300e+06  -7522.000000 -1.805200e+06   \n",
       "25%        0.000000      3.485900  9.144250e-03      0.003947  2.982100e+01   \n",
       "50%        0.000000      4.003300  5.293650e-02      0.036640  1.077800e+03   \n",
       "75%        0.086872      4.512500  1.294525e-01      0.091643  4.944800e+03   \n",
       "max      543.250000      9.698300  1.120200e+02   2156.500000  6.123700e+06   \n",
       "\n",
       "             Attr40        target  \n",
       "count  36442.000000  36553.000000  \n",
       "mean       2.268094      0.048286  \n",
       "std       60.562361      0.214373  \n",
       "min     -101.270000      0.000000  \n",
       "25%        0.052500      0.000000  \n",
       "50%        0.176245      0.000000  \n",
       "75%        0.652967      0.000000  \n",
       "max     8007.100000      1.000000  "
      ]
     },
     "execution_count": 5,
     "metadata": {},
     "output_type": "execute_result"
    }
   ],
   "source": [
    "data = pd.read_csv('Bankruptcy_data.csv')[important]\n",
    "data.describe()"
   ]
  },
  {
   "cell_type": "code",
   "execution_count": 6,
   "metadata": {},
   "outputs": [],
   "source": [
    "x= data.iloc[:,:-1]\n",
    "y = data.iloc[:,-1]"
   ]
  },
  {
   "cell_type": "code",
   "execution_count": 38,
   "metadata": {},
   "outputs": [
    {
     "data": {
      "text/html": [
       "<div>\n",
       "<style scoped>\n",
       "    .dataframe tbody tr th:only-of-type {\n",
       "        vertical-align: middle;\n",
       "    }\n",
       "\n",
       "    .dataframe tbody tr th {\n",
       "        vertical-align: top;\n",
       "    }\n",
       "\n",
       "    .dataframe thead th {\n",
       "        text-align: right;\n",
       "    }\n",
       "</style>\n",
       "<table border=\"1\" class=\"dataframe\">\n",
       "  <thead>\n",
       "    <tr style=\"text-align: right;\">\n",
       "      <th></th>\n",
       "      <th>ID</th>\n",
       "      <th>Attr27</th>\n",
       "      <th>Attr34</th>\n",
       "      <th>Attr46</th>\n",
       "      <th>Attr58</th>\n",
       "      <th>Attr6</th>\n",
       "      <th>Attr29</th>\n",
       "      <th>Attr56</th>\n",
       "      <th>Attr39</th>\n",
       "      <th>Attr55</th>\n",
       "      <th>Attr40</th>\n",
       "      <th>target</th>\n",
       "    </tr>\n",
       "  </thead>\n",
       "  <tbody>\n",
       "    <tr>\n",
       "      <th>0</th>\n",
       "      <td>1</td>\n",
       "      <td>11.55400</td>\n",
       "      <td>4.598500</td>\n",
       "      <td>1.21330</td>\n",
       "      <td>0.92586</td>\n",
       "      <td>0.16768</td>\n",
       "      <td>3.5818</td>\n",
       "      <td>0.078728</td>\n",
       "      <td>0.078728</td>\n",
       "      <td>1189.700</td>\n",
       "      <td>0.355590</td>\n",
       "      <td>0</td>\n",
       "    </tr>\n",
       "    <tr>\n",
       "      <th>1</th>\n",
       "      <td>2</td>\n",
       "      <td>0.27052</td>\n",
       "      <td>1.950100</td>\n",
       "      <td>1.19170</td>\n",
       "      <td>0.79303</td>\n",
       "      <td>0.00000</td>\n",
       "      <td>5.6431</td>\n",
       "      <td>0.269720</td>\n",
       "      <td>0.269720</td>\n",
       "      <td>1.939</td>\n",
       "      <td>0.104900</td>\n",
       "      <td>0</td>\n",
       "    </tr>\n",
       "    <tr>\n",
       "      <th>2</th>\n",
       "      <td>3</td>\n",
       "      <td>249.30000</td>\n",
       "      <td>3.567900</td>\n",
       "      <td>6.57730</td>\n",
       "      <td>0.80748</td>\n",
       "      <td>0.00000</td>\n",
       "      <td>4.1045</td>\n",
       "      <td>0.159870</td>\n",
       "      <td>0.159870</td>\n",
       "      <td>6092.300</td>\n",
       "      <td>3.769300</td>\n",
       "      <td>0</td>\n",
       "    </tr>\n",
       "    <tr>\n",
       "      <th>3</th>\n",
       "      <td>4</td>\n",
       "      <td>0.43483</td>\n",
       "      <td>0.097967</td>\n",
       "      <td>0.35935</td>\n",
       "      <td>1.01530</td>\n",
       "      <td>-0.71420</td>\n",
       "      <td>4.6625</td>\n",
       "      <td>-0.015327</td>\n",
       "      <td>0.044150</td>\n",
       "      <td>-13606.000</td>\n",
       "      <td>0.007983</td>\n",
       "      <td>0</td>\n",
       "    </tr>\n",
       "    <tr>\n",
       "      <th>4</th>\n",
       "      <td>5</td>\n",
       "      <td>3.37080</td>\n",
       "      <td>2.878100</td>\n",
       "      <td>0.88928</td>\n",
       "      <td>0.93881</td>\n",
       "      <td>-0.20007</td>\n",
       "      <td>2.2343</td>\n",
       "      <td>0.110170</td>\n",
       "      <td>0.110170</td>\n",
       "      <td>75.681</td>\n",
       "      <td>0.342630</td>\n",
       "      <td>0</td>\n",
       "    </tr>\n",
       "  </tbody>\n",
       "</table>\n",
       "</div>"
      ],
      "text/plain": [
       "   ID     Attr27    Attr34   Attr46   Attr58    Attr6  Attr29    Attr56  \\\n",
       "0   1   11.55400  4.598500  1.21330  0.92586  0.16768  3.5818  0.078728   \n",
       "1   2    0.27052  1.950100  1.19170  0.79303  0.00000  5.6431  0.269720   \n",
       "2   3  249.30000  3.567900  6.57730  0.80748  0.00000  4.1045  0.159870   \n",
       "3   4    0.43483  0.097967  0.35935  1.01530 -0.71420  4.6625 -0.015327   \n",
       "4   5    3.37080  2.878100  0.88928  0.93881 -0.20007  2.2343  0.110170   \n",
       "\n",
       "     Attr39     Attr55    Attr40  target  \n",
       "0  0.078728   1189.700  0.355590       0  \n",
       "1  0.269720      1.939  0.104900       0  \n",
       "2  0.159870   6092.300  3.769300       0  \n",
       "3  0.044150 -13606.000  0.007983       0  \n",
       "4  0.110170     75.681  0.342630       0  "
      ]
     },
     "execution_count": 38,
     "metadata": {},
     "output_type": "execute_result"
    }
   ],
   "source": [
    "data.head()"
   ]
  },
  {
   "cell_type": "markdown",
   "metadata": {},
   "source": [
    "# Outlier Analysis - Box Plot"
   ]
  },
  {
   "cell_type": "code",
   "execution_count": 11,
   "metadata": {},
   "outputs": [
    {
     "data": {
      "text/plain": [
       "<matplotlib.axes._subplots.AxesSubplot at 0x2bc23758908>"
      ]
     },
     "execution_count": 11,
     "metadata": {},
     "output_type": "execute_result"
    },
    {
     "data": {
      "image/png": "[encoded data removed]",
      "text/plain": [
       "<Figure size 432x288 with 1 Axes>"
      ]
     },
     "metadata": {
      "needs_background": "light"
     },
     "output_type": "display_data"
    }
   ],
   "source": [
    "# First attribute - Original\n",
    "x.boxplot('Attr27')"
   ]
  },
  {
   "cell_type": "code",
   "execution_count": 8,
   "metadata": {},
   "outputs": [
    {
     "data": {
      "text/plain": [
       "<matplotlib.axes._subplots.AxesSubplot at 0x2bc2364a6d8>"
      ]
     },
     "execution_count": 8,
     "metadata": {},
     "output_type": "execute_result"
    },
    {
     "data": {
      "image/png": "[encoded data removed]",
      "text/plain": [
       "<Figure size 432x288 with 1 Axes>"
      ]
     },
     "metadata": {
      "needs_background": "light"
     },
     "output_type": "display_data"
    }
   ],
   "source": [
    "# First attribute - Modified with outliers\n",
    "\n",
    "#x['Attr27'] = np.where(x['Attr27'] > 250000, np.NaN, x['Attr27'])\n",
    "#x['Attr27'] = np.where(x['Attr27'] < -50000, np.NaN, x['Attr27'])\n",
    "\n",
    "x.Attr27 = np.where(x.Attr27 > 250000, np.NaN, x.Attr27)\n",
    "x.Attr27 = np.where(x.Attr27 < -50000, np.NaN, x.Attr27)\n",
    "x.boxplot('Attr27')"
   ]
  },
  {
   "cell_type": "code",
   "execution_count": 9,
   "metadata": {},
   "outputs": [
    {
     "data": {
      "text/plain": [
       "<matplotlib.axes._subplots.AxesSubplot at 0x2bc2369e400>"
      ]
     },
     "execution_count": 9,
     "metadata": {},
     "output_type": "execute_result"
    },
    {
     "data": {
      "image/png": "[encoded data removed]",
      "text/plain": [
       "<Figure size 432x288 with 1 Axes>"
      ]
     },
     "metadata": {
      "needs_background": "light"
     },
     "output_type": "display_data"
    }
   ],
   "source": [
    "# Second attribute - Original\n",
    "x.boxplot('Attr34')"
   ]
  },
  {
   "cell_type": "code",
   "execution_count": 10,
   "metadata": {},
   "outputs": [
    {
     "data": {
      "text/plain": [
       "<matplotlib.axes._subplots.AxesSubplot at 0x2bc23709a90>"
      ]
     },
     "execution_count": 10,
     "metadata": {},
     "output_type": "execute_result"
    },
    {
     "data": {
      "image/png": "[encoded data removed]",
      "text/plain": [
       "<Figure size 432x288 with 1 Axes>"
      ]
     },
     "metadata": {
      "needs_background": "light"
     },
     "output_type": "display_data"
    }
   ],
   "source": [
    "# Second attribute - Modified with outliers\n",
    "\n",
    "x.Attr34 = np.where(x.Attr34 > 350, np.NaN, x.Attr34)\n",
    "x.Attr34 = np.where(x.Attr34 < -10, np.NaN, x.Attr34)\n",
    "x.boxplot('Attr34')"
   ]
  },
  {
   "cell_type": "code",
   "execution_count": 12,
   "metadata": {},
   "outputs": [
    {
     "data": {
      "text/plain": [
       "<matplotlib.axes._subplots.AxesSubplot at 0x2bc237c94e0>"
      ]
     },
     "execution_count": 12,
     "metadata": {},
     "output_type": "execute_result"
    },
    {
     "data": {
      "image/png": "[encoded data removed]",
      "text/plain": [
       "<Figure size 432x288 with 1 Axes>"
      ]
     },
     "metadata": {
      "needs_background": "light"
     },
     "output_type": "display_data"
    }
   ],
   "source": [
    "# Third attribute - Original\n",
    "x.boxplot('Attr46')"
   ]
  },
  {
   "cell_type": "code",
   "execution_count": 13,
   "metadata": {},
   "outputs": [
    {
     "data": {
      "text/plain": [
       "<matplotlib.axes._subplots.AxesSubplot at 0x2bc238333c8>"
      ]
     },
     "execution_count": 13,
     "metadata": {},
     "output_type": "execute_result"
    },
    {
     "data": {
      "image/png": "[encoded data removed]",
      "text/plain": [
       "<Figure size 432x288 with 1 Axes>"
      ]
     },
     "metadata": {
      "needs_background": "light"
     },
     "output_type": "display_data"
    }
   ],
   "source": [
    "# Third attribute - Modified with outliers\n",
    "\n",
    "x.Attr46 = np.where(x.Attr46 > 600, np.NaN, x.Attr46)\n",
    "x.Attr46 = np.where(x.Attr46 < -50, np.NaN, x.Attr46)\n",
    "x.boxplot('Attr46')"
   ]
  },
  {
   "cell_type": "code",
   "execution_count": 14,
   "metadata": {},
   "outputs": [
    {
     "data": {
      "text/plain": [
       "<matplotlib.axes._subplots.AxesSubplot at 0x2bc2387b2b0>"
      ]
     },
     "execution_count": 14,
     "metadata": {},
     "output_type": "execute_result"
    },
    {
     "data": {
      "image/png": "[encoded data removed]",
      "text/plain": [
       "<Figure size 432x288 with 1 Axes>"
      ]
     },
     "metadata": {
      "needs_background": "light"
     },
     "output_type": "display_data"
    }
   ],
   "source": [
    "# Fourth attribute - Original\n",
    "x.boxplot('Attr58')"
   ]
  },
  {
   "cell_type": "code",
   "execution_count": 15,
   "metadata": {},
   "outputs": [
    {
     "data": {
      "text/plain": [
       "<matplotlib.axes._subplots.AxesSubplot at 0x2bc238d8f60>"
      ]
     },
     "execution_count": 15,
     "metadata": {},
     "output_type": "execute_result"
    },
    {
     "data": {
      "image/png": "[encoded data removed]",
      "text/plain": [
       "<Figure size 432x288 with 1 Axes>"
      ]
     },
     "metadata": {
      "needs_background": "light"
     },
     "output_type": "display_data"
    }
   ],
   "source": [
    "# Fourth attribute - Modified with outliers\n",
    "\n",
    "x.Attr58 = np.where(x.Attr58 > 70, np.NaN, x.Attr58)\n",
    "x.Attr58 = np.where(x.Attr58 < -25, np.NaN, x.Attr58)\n",
    "x.boxplot('Attr58')"
   ]
  },
  {
   "cell_type": "code",
   "execution_count": 16,
   "metadata": {},
   "outputs": [
    {
     "data": {
      "text/plain": [
       "<matplotlib.axes._subplots.AxesSubplot at 0x2bc23829978>"
      ]
     },
     "execution_count": 16,
     "metadata": {},
     "output_type": "execute_result"
    },
    {
     "data": {
      "image/png": "[encoded data removed]",
      "text/plain": [
       "<Figure size 432x288 with 1 Axes>"
      ]
     },
     "metadata": {
      "needs_background": "light"
     },
     "output_type": "display_data"
    }
   ],
   "source": [
    "# Fifth attribute - Original\n",
    "x.boxplot('Attr6')"
   ]
  },
  {
   "cell_type": "code",
   "execution_count": 17,
   "metadata": {},
   "outputs": [
    {
     "data": {
      "text/plain": [
       "<matplotlib.axes._subplots.AxesSubplot at 0x2bc2399c160>"
      ]
     },
     "execution_count": 17,
     "metadata": {},
     "output_type": "execute_result"
    },
    {
     "data": {
      "image/png": "[encoded data removed]",
      "text/plain": [
       "<Figure size 432x288 with 1 Axes>"
      ]
     },
     "metadata": {
      "needs_background": "light"
     },
     "output_type": "display_data"
    }
   ],
   "source": [
    "# Fifth attribute - Modified with outliers\n",
    "\n",
    "x.Attr6 = np.where(x.Attr6 > 40, np.NaN, x.Attr6)\n",
    "x.Attr6 = np.where(x.Attr6 < -60, np.NaN, x.Attr6)\n",
    "x.boxplot('Attr6')"
   ]
  },
  {
   "cell_type": "code",
   "execution_count": 18,
   "metadata": {},
   "outputs": [
    {
     "data": {
      "text/plain": [
       "<matplotlib.axes._subplots.AxesSubplot at 0x2bc23a00ef0>"
      ]
     },
     "execution_count": 18,
     "metadata": {},
     "output_type": "execute_result"
    },
    {
     "data": {
      "image/png": "[encoded data removed]",
      "text/plain": [
       "<Figure size 432x288 with 1 Axes>"
      ]
     },
     "metadata": {
      "needs_background": "light"
     },
     "output_type": "display_data"
    }
   ],
   "source": [
    "# Sixth attribute - Original\n",
    "x.boxplot('Attr29')"
   ]
  },
  {
   "cell_type": "code",
   "execution_count": 19,
   "metadata": {},
   "outputs": [
    {
     "data": {
      "text/plain": [
       "<matplotlib.axes._subplots.AxesSubplot at 0x2bc23a5f518>"
      ]
     },
     "execution_count": 19,
     "metadata": {},
     "output_type": "execute_result"
    },
    {
     "data": {
      "image/png": "[encoded data removed]",
      "text/plain": [
       "<Figure size 432x288 with 1 Axes>"
      ]
     },
     "metadata": {
      "needs_background": "light"
     },
     "output_type": "display_data"
    }
   ],
   "source": [
    "# Sixth attribute - Modified with outliers\n",
    "\n",
    "x.Attr29 = np.where(x.Attr29 > 8, np.NaN, x.Attr29)\n",
    "x.Attr29 = np.where(x.Attr29 < -1, np.NaN, x.Attr29)\n",
    "x.boxplot('Attr29')"
   ]
  },
  {
   "cell_type": "code",
   "execution_count": 20,
   "metadata": {},
   "outputs": [
    {
     "data": {
      "text/plain": [
       "<matplotlib.axes._subplots.AxesSubplot at 0x2bc23ab0c18>"
      ]
     },
     "execution_count": 20,
     "metadata": {},
     "output_type": "execute_result"
    },
    {
     "data": {
      "image/png": "[encoded data removed]",
      "text/plain": [
       "<Figure size 432x288 with 1 Axes>"
      ]
     },
     "metadata": {
      "needs_background": "light"
     },
     "output_type": "display_data"
    }
   ],
   "source": [
    "# Seventh attribute - Original\n",
    "x.boxplot('Attr56')"
   ]
  },
  {
   "cell_type": "code",
   "execution_count": 21,
   "metadata": {},
   "outputs": [
    {
     "data": {
      "text/plain": [
       "<matplotlib.axes._subplots.AxesSubplot at 0x2bc23af48d0>"
      ]
     },
     "execution_count": 21,
     "metadata": {},
     "output_type": "execute_result"
    },
    {
     "data": {
      "image/png": "[encoded data removed]",
      "text/plain": [
       "<Figure size 432x288 with 1 Axes>"
      ]
     },
     "metadata": {
      "needs_background": "light"
     },
     "output_type": "display_data"
    }
   ],
   "source": [
    "# Seventh attribute - Modified with outliers\n",
    "\n",
    "x.Attr56 = np.where(x.Attr56 > 2.5, np.NaN, x.Attr56)\n",
    "x.Attr56 = np.where(x.Attr56 < -15, np.NaN, x.Attr56)\n",
    "x.boxplot('Attr56')"
   ]
  },
  {
   "cell_type": "code",
   "execution_count": 22,
   "metadata": {},
   "outputs": [
    {
     "data": {
      "text/plain": [
       "<matplotlib.axes._subplots.AxesSubplot at 0x2bc23a4f978>"
      ]
     },
     "execution_count": 22,
     "metadata": {},
     "output_type": "execute_result"
    },
    {
     "data": {
      "image/png": "[encoded data removed]",
      "text/plain": [
       "<Figure size 432x288 with 1 Axes>"
      ]
     },
     "metadata": {
      "needs_background": "light"
     },
     "output_type": "display_data"
    }
   ],
   "source": [
    "# Eighth attribute - Original\n",
    "x.boxplot('Attr39')"
   ]
  },
  {
   "cell_type": "code",
   "execution_count": 23,
   "metadata": {},
   "outputs": [
    {
     "data": {
      "text/plain": [
       "<matplotlib.axes._subplots.AxesSubplot at 0x2bc23bd2898>"
      ]
     },
     "execution_count": 23,
     "metadata": {},
     "output_type": "execute_result"
    },
    {
     "data": {
      "image/png": "[encoded data removed]",
      "text/plain": [
       "<Figure size 432x288 with 1 Axes>"
      ]
     },
     "metadata": {
      "needs_background": "light"
     },
     "output_type": "display_data"
    }
   ],
   "source": [
    "# Eighth attribute - Modified with outliers\n",
    "\n",
    "x.Attr39 = np.where(x.Attr39 > 25, np.NaN, x.Attr39)\n",
    "x.Attr39 = np.where(x.Attr39 < -100, np.NaN, x.Attr39)\n",
    "x.boxplot('Attr39')"
   ]
  },
  {
   "cell_type": "code",
   "execution_count": 24,
   "metadata": {},
   "outputs": [
    {
     "data": {
      "text/plain": [
       "<matplotlib.axes._subplots.AxesSubplot at 0x2bc23c27cc0>"
      ]
     },
     "execution_count": 24,
     "metadata": {},
     "output_type": "execute_result"
    },
    {
     "data": {
      "image/png": "[encoded data removed]",
      "text/plain": [
       "<Figure size 432x288 with 1 Axes>"
      ]
     },
     "metadata": {
      "needs_background": "light"
     },
     "output_type": "display_data"
    }
   ],
   "source": [
    "# Nineth attribute - Original\n",
    "x.boxplot('Attr55')"
   ]
  },
  {
   "cell_type": "code",
   "execution_count": 25,
   "metadata": {},
   "outputs": [
    {
     "data": {
      "text/plain": [
       "<matplotlib.axes._subplots.AxesSubplot at 0x2bc23b7d198>"
      ]
     },
     "execution_count": 25,
     "metadata": {},
     "output_type": "execute_result"
    },
    {
     "data": {
      "image/png": "[encoded data removed]",
      "text/plain": [
       "<Figure size 432x288 with 1 Axes>"
      ]
     },
     "metadata": {
      "needs_background": "light"
     },
     "output_type": "display_data"
    }
   ],
   "source": [
    "# Nineth attribute - Modified with outliers\n",
    "\n",
    "x.Attr55 = np.where(x.Attr55 > 1250000, np.NaN, x.Attr55)\n",
    "x.Attr55 = np.where(x.Attr55 < -500000, np.NaN, x.Attr55)\n",
    "x.boxplot('Attr55')"
   ]
  },
  {
   "cell_type": "code",
   "execution_count": 26,
   "metadata": {},
   "outputs": [
    {
     "data": {
      "text/plain": [
       "<matplotlib.axes._subplots.AxesSubplot at 0x2bc23cede80>"
      ]
     },
     "execution_count": 26,
     "metadata": {},
     "output_type": "execute_result"
    },
    {
     "data": {
      "image/png": "[encoded data removed]",
      "text/plain": [
       "<Figure size 432x288 with 1 Axes>"
      ]
     },
     "metadata": {
      "needs_background": "light"
     },
     "output_type": "display_data"
    }
   ],
   "source": [
    "# Tenth attribute - Original\n",
    "x.boxplot('Attr40')"
   ]
  },
  {
   "cell_type": "code",
   "execution_count": 27,
   "metadata": {},
   "outputs": [
    {
     "data": {
      "text/plain": [
       "<matplotlib.axes._subplots.AxesSubplot at 0x2bc23d5e630>"
      ]
     },
     "execution_count": 27,
     "metadata": {},
     "output_type": "execute_result"
    },
    {
     "data": {
      "image/png": "[encoded data removed]",
      "text/plain": [
       "<Figure size 432x288 with 1 Axes>"
      ]
     },
     "metadata": {
      "needs_background": "light"
     },
     "output_type": "display_data"
    }
   ],
   "source": [
    "# Tenth attribute - Modified with outliers\n",
    "\n",
    "x.Attr40 = np.where(x.Attr40 > 500, np.NaN, x.Attr40)\n",
    "x.Attr40 = np.where(x.Attr40 < -100, np.NaN, x.Attr40)\n",
    "x.boxplot('Attr40')"
   ]
  },
  {
   "cell_type": "markdown",
   "metadata": {},
   "source": [
    "# Missing Value treatment - Central Imputation"
   ]
  },
  {
   "cell_type": "code",
   "execution_count": 28,
   "metadata": {},
   "outputs": [],
   "source": [
    "from fancyimpute import KNN\n",
    "from sklearn.preprocessing import Imputer"
   ]
  },
  {
   "cell_type": "code",
   "execution_count": 29,
   "metadata": {},
   "outputs": [
    {
     "data": {
      "text/plain": [
       "3229"
      ]
     },
     "execution_count": 29,
     "metadata": {},
     "output_type": "execute_result"
    }
   ],
   "source": [
    "# Count of null values before imputation\n",
    "x.isnull().sum().sum()"
   ]
  },
  {
   "cell_type": "code",
   "execution_count": 30,
   "metadata": {},
   "outputs": [
    {
     "data": {
      "text/plain": [
       "0"
      ]
     },
     "execution_count": 30,
     "metadata": {},
     "output_type": "execute_result"
    }
   ],
   "source": [
    "# KNN TODO\n",
    "#x_imputed = KNN(k=5).fit_transform(x)\n",
    "\n",
    "ci = Imputer()\n",
    "x_imputed = pd.DataFrame(ci.fit_transform(x))\n",
    "x_imputed.isnull().sum().sum()"
   ]
  },
  {
   "cell_type": "code",
   "execution_count": 89,
   "metadata": {},
   "outputs": [
    {
     "data": {
      "text/html": [
       "<div>\n",
       "<style scoped>\n",
       "    .dataframe tbody tr th:only-of-type {\n",
       "        vertical-align: middle;\n",
       "    }\n",
       "\n",
       "    .dataframe tbody tr th {\n",
       "        vertical-align: top;\n",
       "    }\n",
       "\n",
       "    .dataframe thead th {\n",
       "        text-align: right;\n",
       "    }\n",
       "</style>\n",
       "<table border=\"1\" class=\"dataframe\">\n",
       "  <thead>\n",
       "    <tr style=\"text-align: right;\">\n",
       "      <th></th>\n",
       "      <th>ID</th>\n",
       "      <th>Attr27</th>\n",
       "      <th>Attr34</th>\n",
       "      <th>Attr46</th>\n",
       "      <th>Attr58</th>\n",
       "      <th>Attr6</th>\n",
       "      <th>Attr29</th>\n",
       "      <th>Attr56</th>\n",
       "      <th>Attr39</th>\n",
       "      <th>Attr55</th>\n",
       "      <th>Attr40</th>\n",
       "      <th>target</th>\n",
       "    </tr>\n",
       "  </thead>\n",
       "  <tbody>\n",
       "    <tr>\n",
       "      <th>0</th>\n",
       "      <td>1.0</td>\n",
       "      <td>11.55400</td>\n",
       "      <td>4.598500</td>\n",
       "      <td>1.21330</td>\n",
       "      <td>0.92586</td>\n",
       "      <td>0.16768</td>\n",
       "      <td>3.5818</td>\n",
       "      <td>0.078728</td>\n",
       "      <td>0.078728</td>\n",
       "      <td>1189.700</td>\n",
       "      <td>0.355590</td>\n",
       "      <td>0</td>\n",
       "    </tr>\n",
       "    <tr>\n",
       "      <th>1</th>\n",
       "      <td>2.0</td>\n",
       "      <td>0.27052</td>\n",
       "      <td>1.950100</td>\n",
       "      <td>1.19170</td>\n",
       "      <td>0.79303</td>\n",
       "      <td>0.00000</td>\n",
       "      <td>5.6431</td>\n",
       "      <td>0.269720</td>\n",
       "      <td>0.269720</td>\n",
       "      <td>1.939</td>\n",
       "      <td>0.104900</td>\n",
       "      <td>0</td>\n",
       "    </tr>\n",
       "    <tr>\n",
       "      <th>2</th>\n",
       "      <td>3.0</td>\n",
       "      <td>249.30000</td>\n",
       "      <td>3.567900</td>\n",
       "      <td>6.57730</td>\n",
       "      <td>0.80748</td>\n",
       "      <td>0.00000</td>\n",
       "      <td>4.1045</td>\n",
       "      <td>0.159870</td>\n",
       "      <td>0.159870</td>\n",
       "      <td>6092.300</td>\n",
       "      <td>3.769300</td>\n",
       "      <td>0</td>\n",
       "    </tr>\n",
       "    <tr>\n",
       "      <th>3</th>\n",
       "      <td>4.0</td>\n",
       "      <td>0.43483</td>\n",
       "      <td>0.097967</td>\n",
       "      <td>0.35935</td>\n",
       "      <td>1.01530</td>\n",
       "      <td>-0.71420</td>\n",
       "      <td>4.6625</td>\n",
       "      <td>-0.015327</td>\n",
       "      <td>0.044150</td>\n",
       "      <td>-13606.000</td>\n",
       "      <td>0.007983</td>\n",
       "      <td>0</td>\n",
       "    </tr>\n",
       "    <tr>\n",
       "      <th>4</th>\n",
       "      <td>5.0</td>\n",
       "      <td>3.37080</td>\n",
       "      <td>2.878100</td>\n",
       "      <td>0.88928</td>\n",
       "      <td>0.93881</td>\n",
       "      <td>-0.20007</td>\n",
       "      <td>2.2343</td>\n",
       "      <td>0.110170</td>\n",
       "      <td>0.110170</td>\n",
       "      <td>75.681</td>\n",
       "      <td>0.342630</td>\n",
       "      <td>0</td>\n",
       "    </tr>\n",
       "  </tbody>\n",
       "</table>\n",
       "</div>"
      ],
      "text/plain": [
       "    ID     Attr27    Attr34   Attr46   Attr58    Attr6  Attr29    Attr56  \\\n",
       "0  1.0   11.55400  4.598500  1.21330  0.92586  0.16768  3.5818  0.078728   \n",
       "1  2.0    0.27052  1.950100  1.19170  0.79303  0.00000  5.6431  0.269720   \n",
       "2  3.0  249.30000  3.567900  6.57730  0.80748  0.00000  4.1045  0.159870   \n",
       "3  4.0    0.43483  0.097967  0.35935  1.01530 -0.71420  4.6625 -0.015327   \n",
       "4  5.0    3.37080  2.878100  0.88928  0.93881 -0.20007  2.2343  0.110170   \n",
       "\n",
       "     Attr39     Attr55    Attr40  target  \n",
       "0  0.078728   1189.700  0.355590       0  \n",
       "1  0.269720      1.939  0.104900       0  \n",
       "2  0.159870   6092.300  3.769300       0  \n",
       "3  0.044150 -13606.000  0.007983       0  \n",
       "4  0.110170     75.681  0.342630       0  "
      ]
     },
     "execution_count": 89,
     "metadata": {},
     "output_type": "execute_result"
    }
   ],
   "source": [
    "# combine with y and export into file\n",
    "data_imputed = pd.concat([x_imputed, y], axis=1)\n",
    "data_imputed.columns = important\n",
    "data_imputed.to_csv(\"bank_outlied_ci.csv\", index=False)\n",
    "data_imputed.head()"
   ]
  },
  {
   "cell_type": "markdown",
   "metadata": {},
   "source": [
    "# Feature Engineering"
   ]
  },
  {
   "cell_type": "code",
   "execution_count": 84,
   "metadata": {},
   "outputs": [
    {
     "data": {
      "text/html": [
       "<div>\n",
       "<style scoped>\n",
       "    .dataframe tbody tr th:only-of-type {\n",
       "        vertical-align: middle;\n",
       "    }\n",
       "\n",
       "    .dataframe tbody tr th {\n",
       "        vertical-align: top;\n",
       "    }\n",
       "\n",
       "    .dataframe thead th {\n",
       "        text-align: right;\n",
       "    }\n",
       "</style>\n",
       "<table border=\"1\" class=\"dataframe\">\n",
       "  <thead>\n",
       "    <tr style=\"text-align: right;\">\n",
       "      <th></th>\n",
       "      <th>ID</th>\n",
       "      <th>Attr27</th>\n",
       "      <th>Attr34</th>\n",
       "      <th>Attr46</th>\n",
       "      <th>Attr58</th>\n",
       "      <th>Attr6</th>\n",
       "      <th>Attr29</th>\n",
       "      <th>Attr56</th>\n",
       "      <th>Attr39</th>\n",
       "      <th>Attr55</th>\n",
       "      <th>Attr40</th>\n",
       "      <th>target</th>\n",
       "    </tr>\n",
       "  </thead>\n",
       "  <tbody>\n",
       "    <tr>\n",
       "      <th>count</th>\n",
       "      <td>36553.000000</td>\n",
       "      <td>36553.000000</td>\n",
       "      <td>36553.000000</td>\n",
       "      <td>36553.000000</td>\n",
       "      <td>36553.000000</td>\n",
       "      <td>36553.000000</td>\n",
       "      <td>36553.000000</td>\n",
       "      <td>36553.000000</td>\n",
       "      <td>36553.000000</td>\n",
       "      <td>3.655300e+04</td>\n",
       "      <td>36553.000000</td>\n",
       "      <td>36553.000000</td>\n",
       "    </tr>\n",
       "    <tr>\n",
       "      <th>mean</th>\n",
       "      <td>18277.000000</td>\n",
       "      <td>405.233152</td>\n",
       "      <td>4.158850</td>\n",
       "      <td>2.704535</td>\n",
       "      <td>0.966018</td>\n",
       "      <td>-0.020006</td>\n",
       "      <td>3.995651</td>\n",
       "      <td>0.063515</td>\n",
       "      <td>0.003061</td>\n",
       "      <td>7.154572e+03</td>\n",
       "      <td>1.380324</td>\n",
       "      <td>0.048286</td>\n",
       "    </tr>\n",
       "    <tr>\n",
       "      <th>std</th>\n",
       "      <td>10552.086531</td>\n",
       "      <td>6192.491909</td>\n",
       "      <td>10.509017</td>\n",
       "      <td>14.294225</td>\n",
       "      <td>1.197969</td>\n",
       "      <td>1.121793</td>\n",
       "      <td>0.827330</td>\n",
       "      <td>0.385689</td>\n",
       "      <td>1.201213</td>\n",
       "      <td>4.154374e+04</td>\n",
       "      <td>10.120495</td>\n",
       "      <td>0.214373</td>\n",
       "    </tr>\n",
       "    <tr>\n",
       "      <th>min</th>\n",
       "      <td>1.000000</td>\n",
       "      <td>-47852.000000</td>\n",
       "      <td>-8.136500</td>\n",
       "      <td>-13.554000</td>\n",
       "      <td>-4.549700</td>\n",
       "      <td>-54.464000</td>\n",
       "      <td>-0.886060</td>\n",
       "      <td>-14.894000</td>\n",
       "      <td>-76.561000</td>\n",
       "      <td>-4.714400e+05</td>\n",
       "      <td>-18.718000</td>\n",
       "      <td>0.000000</td>\n",
       "    </tr>\n",
       "    <tr>\n",
       "      <th>25%</th>\n",
       "      <td>9139.000000</td>\n",
       "      <td>0.103870</td>\n",
       "      <td>0.316730</td>\n",
       "      <td>0.609250</td>\n",
       "      <td>0.875390</td>\n",
       "      <td>0.000000</td>\n",
       "      <td>3.486000</td>\n",
       "      <td>0.009459</td>\n",
       "      <td>0.003701</td>\n",
       "      <td>3.036300e+01</td>\n",
       "      <td>0.052715</td>\n",
       "      <td>0.000000</td>\n",
       "    </tr>\n",
       "    <tr>\n",
       "      <th>50%</th>\n",
       "      <td>18277.000000</td>\n",
       "      <td>1.285400</td>\n",
       "      <td>1.991600</td>\n",
       "      <td>1.031400</td>\n",
       "      <td>0.951060</td>\n",
       "      <td>0.000000</td>\n",
       "      <td>4.003100</td>\n",
       "      <td>0.053415</td>\n",
       "      <td>0.036428</td>\n",
       "      <td>1.080000e+03</td>\n",
       "      <td>0.177510</td>\n",
       "      <td>0.000000</td>\n",
       "    </tr>\n",
       "    <tr>\n",
       "      <th>75%</th>\n",
       "      <td>27415.000000</td>\n",
       "      <td>8.412700</td>\n",
       "      <td>4.540700</td>\n",
       "      <td>1.931600</td>\n",
       "      <td>0.992550</td>\n",
       "      <td>0.086245</td>\n",
       "      <td>4.512400</td>\n",
       "      <td>0.129050</td>\n",
       "      <td>0.091395</td>\n",
       "      <td>4.958500e+03</td>\n",
       "      <td>0.663160</td>\n",
       "      <td>0.000000</td>\n",
       "    </tr>\n",
       "    <tr>\n",
       "      <th>max</th>\n",
       "      <td>36553.000000</td>\n",
       "      <td>219180.000000</td>\n",
       "      <td>337.650000</td>\n",
       "      <td>584.330000</td>\n",
       "      <td>68.705000</td>\n",
       "      <td>39.146000</td>\n",
       "      <td>7.738400</td>\n",
       "      <td>1.927700</td>\n",
       "      <td>21.386000</td>\n",
       "      <td>1.174500e+06</td>\n",
       "      <td>436.870000</td>\n",
       "      <td>1.000000</td>\n",
       "    </tr>\n",
       "  </tbody>\n",
       "</table>\n",
       "</div>"
      ],
      "text/plain": [
       "                 ID         Attr27        Attr34        Attr46        Attr58  \\\n",
       "count  36553.000000   36553.000000  36553.000000  36553.000000  36553.000000   \n",
       "mean   18277.000000     405.233152      4.158850      2.704535      0.966018   \n",
       "std    10552.086531    6192.491909     10.509017     14.294225      1.197969   \n",
       "min        1.000000  -47852.000000     -8.136500    -13.554000     -4.549700   \n",
       "25%     9139.000000       0.103870      0.316730      0.609250      0.875390   \n",
       "50%    18277.000000       1.285400      1.991600      1.031400      0.951060   \n",
       "75%    27415.000000       8.412700      4.540700      1.931600      0.992550   \n",
       "max    36553.000000  219180.000000    337.650000    584.330000     68.705000   \n",
       "\n",
       "              Attr6        Attr29        Attr56        Attr39        Attr55  \\\n",
       "count  36553.000000  36553.000000  36553.000000  36553.000000  3.655300e+04   \n",
       "mean      -0.020006      3.995651      0.063515      0.003061  7.154572e+03   \n",
       "std        1.121793      0.827330      0.385689      1.201213  4.154374e+04   \n",
       "min      -54.464000     -0.886060    -14.894000    -76.561000 -4.714400e+05   \n",
       "25%        0.000000      3.486000      0.009459      0.003701  3.036300e+01   \n",
       "50%        0.000000      4.003100      0.053415      0.036428  1.080000e+03   \n",
       "75%        0.086245      4.512400      0.129050      0.091395  4.958500e+03   \n",
       "max       39.146000      7.738400      1.927700     21.386000  1.174500e+06   \n",
       "\n",
       "             Attr40        target  \n",
       "count  36553.000000  36553.000000  \n",
       "mean       1.380324      0.048286  \n",
       "std       10.120495      0.214373  \n",
       "min      -18.718000      0.000000  \n",
       "25%        0.052715      0.000000  \n",
       "50%        0.177510      0.000000  \n",
       "75%        0.663160      0.000000  \n",
       "max      436.870000      1.000000  "
      ]
     },
     "execution_count": 84,
     "metadata": {},
     "output_type": "execute_result"
    }
   ],
   "source": [
    "data_imputed.describe()"
   ]
  },
  {
   "cell_type": "code",
   "execution_count": 85,
   "metadata": {},
   "outputs": [],
   "source": [
    "k = data_imputed\n",
    "from sklearn.preprocessing import MinMaxScaler\n",
    "scaler = MinMaxScaler(feature_range=(-500, 500))"
   ]
  },
  {
   "cell_type": "code",
   "execution_count": 54,
   "metadata": {},
   "outputs": [
    {
     "name": "stdout",
     "output_type": "stream",
     "text": [
      "Help on MinMaxScaler in module sklearn.preprocessing.data object:\n",
      "\n",
      "class MinMaxScaler(sklearn.base.BaseEstimator, sklearn.base.TransformerMixin)\n",
      " |  MinMaxScaler(feature_range=(0, 1), copy=True)\n",
      " |  \n",
      " |  Transforms features by scaling each feature to a given range.\n",
      " |  \n",
      " |  This estimator scales and translates each feature individually such\n",
      " |  that it is in the given range on the training set, i.e. between\n",
      " |  zero and one.\n",
      " |  \n",
      " |  The transformation is given by::\n",
      " |  \n",
      " |      X_std = (X - X.min(axis=0)) / (X.max(axis=0) - X.min(axis=0))\n",
      " |      X_scaled = X_std * (max - min) + min\n",
      " |  \n",
      " |  where min, max = feature_range.\n",
      " |  \n",
      " |  This transformation is often used as an alternative to zero mean,\n",
      " |  unit variance scaling.\n",
      " |  \n",
      " |  Read more in the :ref:`User Guide <preprocessing_scaler>`.\n",
      " |  \n",
      " |  Parameters\n",
      " |  ----------\n",
      " |  feature_range : tuple (min, max), default=(0, 1)\n",
      " |      Desired range of transformed data.\n",
      " |  \n",
      " |  copy : boolean, optional, default True\n",
      " |      Set to False to perform inplace row normalization and avoid a\n",
      " |      copy (if the input is already a numpy array).\n",
      " |  \n",
      " |  Attributes\n",
      " |  ----------\n",
      " |  min_ : ndarray, shape (n_features,)\n",
      " |      Per feature adjustment for minimum.\n",
      " |  \n",
      " |  scale_ : ndarray, shape (n_features,)\n",
      " |      Per feature relative scaling of the data.\n",
      " |  \n",
      " |      .. versionadded:: 0.17\n",
      " |         *scale_* attribute.\n",
      " |  \n",
      " |  data_min_ : ndarray, shape (n_features,)\n",
      " |      Per feature minimum seen in the data\n",
      " |  \n",
      " |      .. versionadded:: 0.17\n",
      " |         *data_min_*\n",
      " |  \n",
      " |  data_max_ : ndarray, shape (n_features,)\n",
      " |      Per feature maximum seen in the data\n",
      " |  \n",
      " |      .. versionadded:: 0.17\n",
      " |         *data_max_*\n",
      " |  \n",
      " |  data_range_ : ndarray, shape (n_features,)\n",
      " |      Per feature range ``(data_max_ - data_min_)`` seen in the data\n",
      " |  \n",
      " |      .. versionadded:: 0.17\n",
      " |         *data_range_*\n",
      " |  \n",
      " |  Examples\n",
      " |  --------\n",
      " |  >>> from sklearn.preprocessing import MinMaxScaler\n",
      " |  >>>\n",
      " |  >>> data = [[-1, 2], [-0.5, 6], [0, 10], [1, 18]]\n",
      " |  >>> scaler = MinMaxScaler()\n",
      " |  >>> print(scaler.fit(data))\n",
      " |  MinMaxScaler(copy=True, feature_range=(0, 1))\n",
      " |  >>> print(scaler.data_max_)\n",
      " |  [  1.  18.]\n",
      " |  >>> print(scaler.transform(data))\n",
      " |  [[ 0.    0.  ]\n",
      " |   [ 0.25  0.25]\n",
      " |   [ 0.5   0.5 ]\n",
      " |   [ 1.    1.  ]]\n",
      " |  >>> print(scaler.transform([[2, 2]]))\n",
      " |  [[ 1.5  0. ]]\n",
      " |  \n",
      " |  See also\n",
      " |  --------\n",
      " |  minmax_scale: Equivalent function without the estimator API.\n",
      " |  \n",
      " |  Notes\n",
      " |  -----\n",
      " |  For a comparison of the different scalers, transformers, and normalizers,\n",
      " |  see :ref:`examples/preprocessing/plot_all_scaling.py\n",
      " |  <sphx_glr_auto_examples_preprocessing_plot_all_scaling.py>`.\n",
      " |  \n",
      " |  Method resolution order:\n",
      " |      MinMaxScaler\n",
      " |      sklearn.base.BaseEstimator\n",
      " |      sklearn.base.TransformerMixin\n",
      " |      builtins.object\n",
      " |  \n",
      " |  Methods defined here:\n",
      " |  \n",
      " |  __init__(self, feature_range=(0, 1), copy=True)\n",
      " |      Initialize self.  See help(type(self)) for accurate signature.\n",
      " |  \n",
      " |  fit(self, X, y=None)\n",
      " |      Compute the minimum and maximum to be used for later scaling.\n",
      " |      \n",
      " |      Parameters\n",
      " |      ----------\n",
      " |      X : array-like, shape [n_samples, n_features]\n",
      " |          The data used to compute the per-feature minimum and maximum\n",
      " |          used for later scaling along the features axis.\n",
      " |  \n",
      " |  inverse_transform(self, X)\n",
      " |      Undo the scaling of X according to feature_range.\n",
      " |      \n",
      " |      Parameters\n",
      " |      ----------\n",
      " |      X : array-like, shape [n_samples, n_features]\n",
      " |          Input data that will be transformed. It cannot be sparse.\n",
      " |  \n",
      " |  partial_fit(self, X, y=None)\n",
      " |      Online computation of min and max on X for later scaling.\n",
      " |      All of X is processed as a single batch. This is intended for cases\n",
      " |      when `fit` is not feasible due to very large number of `n_samples`\n",
      " |      or because X is read from a continuous stream.\n",
      " |      \n",
      " |      Parameters\n",
      " |      ----------\n",
      " |      X : array-like, shape [n_samples, n_features]\n",
      " |          The data used to compute the mean and standard deviation\n",
      " |          used for later scaling along the features axis.\n",
      " |      \n",
      " |      y : Passthrough for ``Pipeline`` compatibility.\n",
      " |  \n",
      " |  transform(self, X)\n",
      " |      Scaling features of X according to feature_range.\n",
      " |      \n",
      " |      Parameters\n",
      " |      ----------\n",
      " |      X : array-like, shape [n_samples, n_features]\n",
      " |          Input data that will be transformed.\n",
      " |  \n",
      " |  ----------------------------------------------------------------------\n",
      " |  Methods inherited from sklearn.base.BaseEstimator:\n",
      " |  \n",
      " |  __getstate__(self)\n",
      " |  \n",
      " |  __repr__(self)\n",
      " |      Return repr(self).\n",
      " |  \n",
      " |  __setstate__(self, state)\n",
      " |  \n",
      " |  get_params(self, deep=True)\n",
      " |      Get parameters for this estimator.\n",
      " |      \n",
      " |      Parameters\n",
      " |      ----------\n",
      " |      deep : boolean, optional\n",
      " |          If True, will return the parameters for this estimator and\n",
      " |          contained subobjects that are estimators.\n",
      " |      \n",
      " |      Returns\n",
      " |      -------\n",
      " |      params : mapping of string to any\n",
      " |          Parameter names mapped to their values.\n",
      " |  \n",
      " |  set_params(self, **params)\n",
      " |      Set the parameters of this estimator.\n",
      " |      \n",
      " |      The method works on simple estimators as well as on nested objects\n",
      " |      (such as pipelines). The latter have parameters of the form\n",
      " |      ``<component>__<parameter>`` so that it's possible to update each\n",
      " |      component of a nested object.\n",
      " |      \n",
      " |      Returns\n",
      " |      -------\n",
      " |      self\n",
      " |  \n",
      " |  ----------------------------------------------------------------------\n",
      " |  Data descriptors inherited from sklearn.base.BaseEstimator:\n",
      " |  \n",
      " |  __dict__\n",
      " |      dictionary for instance variables (if defined)\n",
      " |  \n",
      " |  __weakref__\n",
      " |      list of weak references to the object (if defined)\n",
      " |  \n",
      " |  ----------------------------------------------------------------------\n",
      " |  Methods inherited from sklearn.base.TransformerMixin:\n",
      " |  \n",
      " |  fit_transform(self, X, y=None, **fit_params)\n",
      " |      Fit to data, then transform it.\n",
      " |      \n",
      " |      Fits transformer to X and y with optional parameters fit_params\n",
      " |      and returns a transformed version of X.\n",
      " |      \n",
      " |      Parameters\n",
      " |      ----------\n",
      " |      X : numpy array of shape [n_samples, n_features]\n",
      " |          Training set.\n",
      " |      \n",
      " |      y : numpy array of shape [n_samples]\n",
      " |          Target values.\n",
      " |      \n",
      " |      Returns\n",
      " |      -------\n",
      " |      X_new : numpy array of shape [n_samples, n_features_new]\n",
      " |          Transformed array.\n",
      "\n"
     ]
    }
   ],
   "source": [
    "help(scaler)"
   ]
  },
  {
   "cell_type": "code",
   "execution_count": 86,
   "metadata": {},
   "outputs": [
    {
     "data": {
      "text/html": [
       "<div>\n",
       "<style scoped>\n",
       "    .dataframe tbody tr th:only-of-type {\n",
       "        vertical-align: middle;\n",
       "    }\n",
       "\n",
       "    .dataframe tbody tr th {\n",
       "        vertical-align: top;\n",
       "    }\n",
       "\n",
       "    .dataframe thead th {\n",
       "        text-align: right;\n",
       "    }\n",
       "</style>\n",
       "<table border=\"1\" class=\"dataframe\">\n",
       "  <thead>\n",
       "    <tr style=\"text-align: right;\">\n",
       "      <th></th>\n",
       "      <th>0</th>\n",
       "    </tr>\n",
       "  </thead>\n",
       "  <tbody>\n",
       "    <tr>\n",
       "      <th>0</th>\n",
       "      <td>-212.851197</td>\n",
       "    </tr>\n",
       "    <tr>\n",
       "      <th>1</th>\n",
       "      <td>-213.572828</td>\n",
       "    </tr>\n",
       "    <tr>\n",
       "      <th>2</th>\n",
       "      <td>-209.872596</td>\n",
       "    </tr>\n",
       "    <tr>\n",
       "      <th>3</th>\n",
       "      <td>-221.840407</td>\n",
       "    </tr>\n",
       "    <tr>\n",
       "      <th>4</th>\n",
       "      <td>-213.528026</td>\n",
       "    </tr>\n",
       "    <tr>\n",
       "      <th>5</th>\n",
       "      <td>-211.731108</td>\n",
       "    </tr>\n",
       "    <tr>\n",
       "      <th>6</th>\n",
       "      <td>-211.978201</td>\n",
       "    </tr>\n",
       "    <tr>\n",
       "      <th>7</th>\n",
       "      <td>-213.690414</td>\n",
       "    </tr>\n",
       "    <tr>\n",
       "      <th>8</th>\n",
       "      <td>-211.617434</td>\n",
       "    </tr>\n",
       "    <tr>\n",
       "      <th>9</th>\n",
       "      <td>-212.046915</td>\n",
       "    </tr>\n",
       "    <tr>\n",
       "      <th>10</th>\n",
       "      <td>-213.651366</td>\n",
       "    </tr>\n",
       "    <tr>\n",
       "      <th>11</th>\n",
       "      <td>-201.322041</td>\n",
       "    </tr>\n",
       "    <tr>\n",
       "      <th>12</th>\n",
       "      <td>-212.025529</td>\n",
       "    </tr>\n",
       "    <tr>\n",
       "      <th>13</th>\n",
       "      <td>-213.220780</td>\n",
       "    </tr>\n",
       "    <tr>\n",
       "      <th>14</th>\n",
       "      <td>-213.362048</td>\n",
       "    </tr>\n",
       "    <tr>\n",
       "      <th>15</th>\n",
       "      <td>-207.330158</td>\n",
       "    </tr>\n",
       "    <tr>\n",
       "      <th>16</th>\n",
       "      <td>-213.569103</td>\n",
       "    </tr>\n",
       "    <tr>\n",
       "      <th>17</th>\n",
       "      <td>-210.064583</td>\n",
       "    </tr>\n",
       "    <tr>\n",
       "      <th>18</th>\n",
       "      <td>-214.049261</td>\n",
       "    </tr>\n",
       "    <tr>\n",
       "      <th>19</th>\n",
       "      <td>-213.539364</td>\n",
       "    </tr>\n",
       "    <tr>\n",
       "      <th>20</th>\n",
       "      <td>-211.945211</td>\n",
       "    </tr>\n",
       "    <tr>\n",
       "      <th>21</th>\n",
       "      <td>-208.270775</td>\n",
       "    </tr>\n",
       "    <tr>\n",
       "      <th>22</th>\n",
       "      <td>-213.498767</td>\n",
       "    </tr>\n",
       "    <tr>\n",
       "      <th>23</th>\n",
       "      <td>-210.947179</td>\n",
       "    </tr>\n",
       "    <tr>\n",
       "      <th>24</th>\n",
       "      <td>-213.404687</td>\n",
       "    </tr>\n",
       "    <tr>\n",
       "      <th>25</th>\n",
       "      <td>-212.826348</td>\n",
       "    </tr>\n",
       "    <tr>\n",
       "      <th>26</th>\n",
       "      <td>-213.524358</td>\n",
       "    </tr>\n",
       "    <tr>\n",
       "      <th>27</th>\n",
       "      <td>-202.766808</td>\n",
       "    </tr>\n",
       "    <tr>\n",
       "      <th>28</th>\n",
       "      <td>-213.421340</td>\n",
       "    </tr>\n",
       "    <tr>\n",
       "      <th>29</th>\n",
       "      <td>-211.511234</td>\n",
       "    </tr>\n",
       "    <tr>\n",
       "      <th>...</th>\n",
       "      <td>...</td>\n",
       "    </tr>\n",
       "    <tr>\n",
       "      <th>36523</th>\n",
       "      <td>-208.240944</td>\n",
       "    </tr>\n",
       "    <tr>\n",
       "      <th>36524</th>\n",
       "      <td>-213.294567</td>\n",
       "    </tr>\n",
       "    <tr>\n",
       "      <th>36525</th>\n",
       "      <td>-213.863762</td>\n",
       "    </tr>\n",
       "    <tr>\n",
       "      <th>36526</th>\n",
       "      <td>-202.000073</td>\n",
       "    </tr>\n",
       "    <tr>\n",
       "      <th>36527</th>\n",
       "      <td>-213.686277</td>\n",
       "    </tr>\n",
       "    <tr>\n",
       "      <th>36528</th>\n",
       "      <td>-212.007728</td>\n",
       "    </tr>\n",
       "    <tr>\n",
       "      <th>36529</th>\n",
       "      <td>-212.138535</td>\n",
       "    </tr>\n",
       "    <tr>\n",
       "      <th>36530</th>\n",
       "      <td>-209.700414</td>\n",
       "    </tr>\n",
       "    <tr>\n",
       "      <th>36531</th>\n",
       "      <td>-213.503366</td>\n",
       "    </tr>\n",
       "    <tr>\n",
       "      <th>36532</th>\n",
       "      <td>-213.842582</td>\n",
       "    </tr>\n",
       "    <tr>\n",
       "      <th>36533</th>\n",
       "      <td>-213.345802</td>\n",
       "    </tr>\n",
       "    <tr>\n",
       "      <th>36534</th>\n",
       "      <td>-212.906789</td>\n",
       "    </tr>\n",
       "    <tr>\n",
       "      <th>36535</th>\n",
       "      <td>-212.649307</td>\n",
       "    </tr>\n",
       "    <tr>\n",
       "      <th>36536</th>\n",
       "      <td>-213.118698</td>\n",
       "    </tr>\n",
       "    <tr>\n",
       "      <th>36537</th>\n",
       "      <td>-208.032310</td>\n",
       "    </tr>\n",
       "    <tr>\n",
       "      <th>36538</th>\n",
       "      <td>-212.924772</td>\n",
       "    </tr>\n",
       "    <tr>\n",
       "      <th>36539</th>\n",
       "      <td>-213.349387</td>\n",
       "    </tr>\n",
       "    <tr>\n",
       "      <th>36540</th>\n",
       "      <td>-213.685116</td>\n",
       "    </tr>\n",
       "    <tr>\n",
       "      <th>36541</th>\n",
       "      <td>-212.380463</td>\n",
       "    </tr>\n",
       "    <tr>\n",
       "      <th>36542</th>\n",
       "      <td>-213.730634</td>\n",
       "    </tr>\n",
       "    <tr>\n",
       "      <th>36543</th>\n",
       "      <td>-224.351434</td>\n",
       "    </tr>\n",
       "    <tr>\n",
       "      <th>36544</th>\n",
       "      <td>-209.808498</td>\n",
       "    </tr>\n",
       "    <tr>\n",
       "      <th>36545</th>\n",
       "      <td>-212.480832</td>\n",
       "    </tr>\n",
       "    <tr>\n",
       "      <th>36546</th>\n",
       "      <td>-201.627641</td>\n",
       "    </tr>\n",
       "    <tr>\n",
       "      <th>36547</th>\n",
       "      <td>-216.682564</td>\n",
       "    </tr>\n",
       "    <tr>\n",
       "      <th>36548</th>\n",
       "      <td>-203.995285</td>\n",
       "    </tr>\n",
       "    <tr>\n",
       "      <th>36549</th>\n",
       "      <td>-211.401205</td>\n",
       "    </tr>\n",
       "    <tr>\n",
       "      <th>36550</th>\n",
       "      <td>-209.926304</td>\n",
       "    </tr>\n",
       "    <tr>\n",
       "      <th>36551</th>\n",
       "      <td>-213.581727</td>\n",
       "    </tr>\n",
       "    <tr>\n",
       "      <th>36552</th>\n",
       "      <td>-212.597665</td>\n",
       "    </tr>\n",
       "  </tbody>\n",
       "</table>\n",
       "<p>36553 rows × 1 columns</p>\n",
       "</div>"
      ],
      "text/plain": [
       "                0\n",
       "0     -212.851197\n",
       "1     -213.572828\n",
       "2     -209.872596\n",
       "3     -221.840407\n",
       "4     -213.528026\n",
       "5     -211.731108\n",
       "6     -211.978201\n",
       "7     -213.690414\n",
       "8     -211.617434\n",
       "9     -212.046915\n",
       "10    -213.651366\n",
       "11    -201.322041\n",
       "12    -212.025529\n",
       "13    -213.220780\n",
       "14    -213.362048\n",
       "15    -207.330158\n",
       "16    -213.569103\n",
       "17    -210.064583\n",
       "18    -214.049261\n",
       "19    -213.539364\n",
       "20    -211.945211\n",
       "21    -208.270775\n",
       "22    -213.498767\n",
       "23    -210.947179\n",
       "24    -213.404687\n",
       "25    -212.826348\n",
       "26    -213.524358\n",
       "27    -202.766808\n",
       "28    -213.421340\n",
       "29    -211.511234\n",
       "...           ...\n",
       "36523 -208.240944\n",
       "36524 -213.294567\n",
       "36525 -213.863762\n",
       "36526 -202.000073\n",
       "36527 -213.686277\n",
       "36528 -212.007728\n",
       "36529 -212.138535\n",
       "36530 -209.700414\n",
       "36531 -213.503366\n",
       "36532 -213.842582\n",
       "36533 -213.345802\n",
       "36534 -212.906789\n",
       "36535 -212.649307\n",
       "36536 -213.118698\n",
       "36537 -208.032310\n",
       "36538 -212.924772\n",
       "36539 -213.349387\n",
       "36540 -213.685116\n",
       "36541 -212.380463\n",
       "36542 -213.730634\n",
       "36543 -224.351434\n",
       "36544 -209.808498\n",
       "36545 -212.480832\n",
       "36546 -201.627641\n",
       "36547 -216.682564\n",
       "36548 -203.995285\n",
       "36549 -211.401205\n",
       "36550 -209.926304\n",
       "36551 -213.581727\n",
       "36552 -212.597665\n",
       "\n",
       "[36553 rows x 1 columns]"
      ]
     },
     "execution_count": 86,
     "metadata": {},
     "output_type": "execute_result"
    }
   ],
   "source": [
    "pd.DataFrame(scaler.fit_transform(k[['Attr55']]))"
   ]
  },
  {
   "cell_type": "code",
   "execution_count": 87,
   "metadata": {},
   "outputs": [
    {
     "data": {
      "text/plain": [
       "1174500.0"
      ]
     },
     "execution_count": 87,
     "metadata": {},
     "output_type": "execute_result"
    }
   ],
   "source": [
    "data_imputed.Attr55.max()"
   ]
  },
  {
   "cell_type": "markdown",
   "metadata": {},
   "source": [
    "# Train test split"
   ]
  },
  {
   "cell_type": "code",
   "execution_count": 93,
   "metadata": {},
   "outputs": [],
   "source": [
    "from sklearn.model_selection import train_test_split\n",
    "X = data_imputed.iloc[:,:-1]\n",
    "y = data_imputed.iloc[:,-1]\n",
    "\n",
    "train_X, val_X, train_y, val_y = train_test_split(X, y,random_state = 0)"
   ]
  },
  {
   "cell_type": "markdown",
   "metadata": {},
   "source": [
    "# Build Model"
   ]
  },
  {
   "cell_type": "code",
   "execution_count": 100,
   "metadata": {},
   "outputs": [],
   "source": [
    "from sklearn.linear_model import LogisticRegression\n",
    "log_reg = LogisticRegression(random_state=0)\n",
    "log_model = log_reg.fit(train_X, train_y)\n",
    "pred_y = log_model.predict(val_X)\n"
   ]
  },
  {
   "cell_type": "markdown",
   "metadata": {},
   "source": [
    "# Metrics"
   ]
  },
  {
   "cell_type": "code",
   "execution_count": 104,
   "metadata": {},
   "outputs": [
    {
     "data": {
      "text/plain": [
       "0.9479155268628953"
      ]
     },
     "execution_count": 104,
     "metadata": {},
     "output_type": "execute_result"
    }
   ],
   "source": [
    "# R^2 score\n",
    "log_model.score(val_X, val_y)"
   ]
  },
  {
   "cell_type": "code",
   "execution_count": 105,
   "metadata": {},
   "outputs": [
    {
     "name": "stdout",
     "output_type": "stream",
     "text": [
      "[[8662    2]\n",
      " [ 474    1]]\n"
     ]
    }
   ],
   "source": [
    "# Confusion matrix\n",
    "from sklearn.metrics import confusion_matrix\n",
    "\n",
    "confusion_matrix = confusion_matrix(val_y, pred_y)\n",
    "print(confusion_matrix)"
   ]
  },
  {
   "cell_type": "code",
   "execution_count": 106,
   "metadata": {},
   "outputs": [
    {
     "data": {
      "text/plain": [
       "'             precision    recall  f1-score   support\\n\\n          0       0.95      1.00      0.97      8664\\n          1       0.33      0.00      0.00       475\\n\\navg / total       0.92      0.95      0.92      9139\\n'"
      ]
     },
     "execution_count": 106,
     "metadata": {},
     "output_type": "execute_result"
    }
   ],
   "source": [
    "from sklearn.metrics import classification_report\n",
    "\n",
    "classification_report(val_y, pred_y)"
   ]
  },
  {
   "cell_type": "code",
   "execution_count": 107,
   "metadata": {},
   "outputs": [
    {
     "name": "stdout",
     "output_type": "stream",
     "text": [
      "Help on function classification_report in module sklearn.metrics.classification:\n",
      "\n",
      "classification_report(y_true, y_pred, labels=None, target_names=None, sample_weight=None, digits=2)\n",
      "    Build a text report showing the main classification metrics\n",
      "    \n",
      "    Read more in the :ref:`User Guide <classification_report>`.\n",
      "    \n",
      "    Parameters\n",
      "    ----------\n",
      "    y_true : 1d array-like, or label indicator array / sparse matrix\n",
      "        Ground truth (correct) target values.\n",
      "    \n",
      "    y_pred : 1d array-like, or label indicator array / sparse matrix\n",
      "        Estimated targets as returned by a classifier.\n",
      "    \n",
      "    labels : array, shape = [n_labels]\n",
      "        Optional list of label indices to include in the report.\n",
      "    \n",
      "    target_names : list of strings\n",
      "        Optional display names matching the labels (same order).\n",
      "    \n",
      "    sample_weight : array-like of shape = [n_samples], optional\n",
      "        Sample weights.\n",
      "    \n",
      "    digits : int\n",
      "        Number of digits for formatting output floating point values\n",
      "    \n",
      "    Returns\n",
      "    -------\n",
      "    report : string\n",
      "        Text summary of the precision, recall, F1 score for each class.\n",
      "    \n",
      "        The reported averages are a prevalence-weighted macro-average across\n",
      "        classes (equivalent to :func:`precision_recall_fscore_support` with\n",
      "        ``average='weighted'``).\n",
      "    \n",
      "        Note that in binary classification, recall of the positive class\n",
      "        is also known as \"sensitivity\"; recall of the negative class is\n",
      "        \"specificity\".\n",
      "    \n",
      "    Examples\n",
      "    --------\n",
      "    >>> from sklearn.metrics import classification_report\n",
      "    >>> y_true = [0, 1, 2, 2, 2]\n",
      "    >>> y_pred = [0, 0, 2, 2, 1]\n",
      "    >>> target_names = ['class 0', 'class 1', 'class 2']\n",
      "    >>> print(classification_report(y_true, y_pred, target_names=target_names))\n",
      "                 precision    recall  f1-score   support\n",
      "    <BLANKLINE>\n",
      "        class 0       0.50      1.00      0.67         1\n",
      "        class 1       0.00      0.00      0.00         1\n",
      "        class 2       1.00      0.67      0.80         3\n",
      "    <BLANKLINE>\n",
      "    avg / total       0.70      0.60      0.61         5\n",
      "    <BLANKLINE>\n",
      "\n"
     ]
    }
   ],
   "source": [
    "help(classification_report)"
   ]
  }
 ],
 "metadata": {
  "kernelspec": {
   "display_name": "Python 3",
   "language": "python",
   "name": "python3"
  },
  "language_info": {
   "codemirror_mode": {
    "name": "ipython",
    "version": 3
   },
   "file_extension": ".py",
   "mimetype": "text/x-python",
   "name": "python",
   "nbconvert_exporter": "python",
   "pygments_lexer": "ipython3",
   "version": "3.7.0"
  }
 },
 "nbformat": 4,
 "nbformat_minor": 2
}
