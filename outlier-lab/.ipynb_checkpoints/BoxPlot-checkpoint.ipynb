{
 "cells": [
  {
   "cell_type": "code",
   "execution_count": 4,
   "metadata": {},
   "outputs": [],
   "source": [
    "import pandas as pd\n",
    "import numpy as np"
   ]
  },
  {
   "cell_type": "code",
   "execution_count": 5,
   "metadata": {},
   "outputs": [
    {
     "data": {
      "text/plain": [
       "(36553, 66)"
      ]
     },
     "execution_count": 5,
     "metadata": {},
     "output_type": "execute_result"
    }
   ],
   "source": [
    "bank_data =  pd.read_csv(\"Bankruptcy_data.csv\")\n",
    "bank_data.shape"
   ]
  },
  {
   "cell_type": "code",
   "execution_count": 6,
   "metadata": {},
   "outputs": [
    {
     "data": {
      "text/html": [
       "<div>\n",
       "<style scoped>\n",
       "    .dataframe tbody tr th:only-of-type {\n",
       "        vertical-align: middle;\n",
       "    }\n",
       "\n",
       "    .dataframe tbody tr th {\n",
       "        vertical-align: top;\n",
       "    }\n",
       "\n",
       "    .dataframe thead th {\n",
       "        text-align: right;\n",
       "    }\n",
       "</style>\n",
       "<table border=\"1\" class=\"dataframe\">\n",
       "  <thead>\n",
       "    <tr style=\"text-align: right;\">\n",
       "      <th></th>\n",
       "      <th>ID</th>\n",
       "      <th>Attr1</th>\n",
       "      <th>Attr2</th>\n",
       "      <th>Attr3</th>\n",
       "      <th>Attr4</th>\n",
       "      <th>Attr5</th>\n",
       "      <th>Attr6</th>\n",
       "      <th>Attr7</th>\n",
       "      <th>Attr8</th>\n",
       "      <th>Attr9</th>\n",
       "      <th>...</th>\n",
       "      <th>Attr56</th>\n",
       "      <th>Attr57</th>\n",
       "      <th>Attr58</th>\n",
       "      <th>Attr59</th>\n",
       "      <th>Attr60</th>\n",
       "      <th>Attr61</th>\n",
       "      <th>Attr62</th>\n",
       "      <th>Attr63</th>\n",
       "      <th>Attr64</th>\n",
       "      <th>target</th>\n",
       "    </tr>\n",
       "  </thead>\n",
       "  <tbody>\n",
       "    <tr>\n",
       "      <th>count</th>\n",
       "      <td>36553.000000</td>\n",
       "      <td>36545.000000</td>\n",
       "      <td>36545.000000</td>\n",
       "      <td>36545.000000</td>\n",
       "      <td>36442.000000</td>\n",
       "      <td>3.647700e+04</td>\n",
       "      <td>36545.000000</td>\n",
       "      <td>36545.000000</td>\n",
       "      <td>36474.000000</td>\n",
       "      <td>36546.000000</td>\n",
       "      <td>...</td>\n",
       "      <td>3.644000e+04</td>\n",
       "      <td>36546.000000</td>\n",
       "      <td>3.647700e+04</td>\n",
       "      <td>36546.000000</td>\n",
       "      <td>3.472000e+04</td>\n",
       "      <td>36467.000000</td>\n",
       "      <td>3.644000e+04</td>\n",
       "      <td>36442.000000</td>\n",
       "      <td>35859.000000</td>\n",
       "      <td>36553.000000</td>\n",
       "    </tr>\n",
       "    <tr>\n",
       "      <th>mean</th>\n",
       "      <td>18277.000000</td>\n",
       "      <td>0.051461</td>\n",
       "      <td>0.577743</td>\n",
       "      <td>0.127402</td>\n",
       "      <td>6.838949</td>\n",
       "      <td>-4.823320e+02</td>\n",
       "      <td>-0.030899</td>\n",
       "      <td>0.115142</td>\n",
       "      <td>12.906786</td>\n",
       "      <td>2.674919</td>\n",
       "      <td>...</td>\n",
       "      <td>-3.114462e+01</td>\n",
       "      <td>-0.017852</td>\n",
       "      <td>3.495525e+01</td>\n",
       "      <td>1.480542</td>\n",
       "      <td>4.820583e+02</td>\n",
       "      <td>17.681064</td>\n",
       "      <td>1.783960e+03</td>\n",
       "      <td>9.416529</td>\n",
       "      <td>77.345570</td>\n",
       "      <td>0.048286</td>\n",
       "    </tr>\n",
       "    <tr>\n",
       "      <th>std</th>\n",
       "      <td>10552.086531</td>\n",
       "      <td>1.670725</td>\n",
       "      <td>5.438081</td>\n",
       "      <td>4.917424</td>\n",
       "      <td>321.804895</td>\n",
       "      <td>6.617408e+04</td>\n",
       "      <td>6.518182</td>\n",
       "      <td>5.628794</td>\n",
       "      <td>520.063823</td>\n",
       "      <td>64.903626</td>\n",
       "      <td>...</td>\n",
       "      <td>5.806271e+03</td>\n",
       "      <td>14.507844</td>\n",
       "      <td>5.812797e+03</td>\n",
       "      <td>132.743470</td>\n",
       "      <td>3.509410e+04</td>\n",
       "      <td>600.955679</td>\n",
       "      <td>1.512356e+05</td>\n",
       "      <td>131.812478</td>\n",
       "      <td>2560.625896</td>\n",
       "      <td>0.214373</td>\n",
       "    </tr>\n",
       "    <tr>\n",
       "      <th>min</th>\n",
       "      <td>1.000000</td>\n",
       "      <td>-256.890000</td>\n",
       "      <td>-430.870000</td>\n",
       "      <td>-479.960000</td>\n",
       "      <td>-0.045319</td>\n",
       "      <td>-1.190300e+07</td>\n",
       "      <td>-508.410000</td>\n",
       "      <td>-517.480000</td>\n",
       "      <td>-141.410000</td>\n",
       "      <td>-3.496000</td>\n",
       "      <td>...</td>\n",
       "      <td>-1.108300e+06</td>\n",
       "      <td>-1667.300000</td>\n",
       "      <td>-1.986900e+02</td>\n",
       "      <td>-327.970000</td>\n",
       "      <td>-1.244000e+01</td>\n",
       "      <td>-12.656000</td>\n",
       "      <td>-1.496500e+04</td>\n",
       "      <td>-0.367890</td>\n",
       "      <td>-3.726500</td>\n",
       "      <td>0.000000</td>\n",
       "    </tr>\n",
       "    <tr>\n",
       "      <th>25%</th>\n",
       "      <td>9139.000000</td>\n",
       "      <td>0.003342</td>\n",
       "      <td>0.269610</td>\n",
       "      <td>0.022121</td>\n",
       "      <td>1.050625</td>\n",
       "      <td>-4.900900e+01</td>\n",
       "      <td>0.000000</td>\n",
       "      <td>0.005693</td>\n",
       "      <td>0.428970</td>\n",
       "      <td>1.018700</td>\n",
       "      <td>...</td>\n",
       "      <td>9.144250e-03</td>\n",
       "      <td>0.014675</td>\n",
       "      <td>8.751900e-01</td>\n",
       "      <td>0.000000</td>\n",
       "      <td>5.524575e+00</td>\n",
       "      <td>4.512200</td>\n",
       "      <td>4.212250e+01</td>\n",
       "      <td>3.098925</td>\n",
       "      <td>2.187150</td>\n",
       "      <td>0.000000</td>\n",
       "    </tr>\n",
       "    <tr>\n",
       "      <th>50%</th>\n",
       "      <td>18277.000000</td>\n",
       "      <td>0.049595</td>\n",
       "      <td>0.472550</td>\n",
       "      <td>0.197470</td>\n",
       "      <td>1.571500</td>\n",
       "      <td>-8.095900e-01</td>\n",
       "      <td>0.000000</td>\n",
       "      <td>0.059546</td>\n",
       "      <td>1.069300</td>\n",
       "      <td>1.199900</td>\n",
       "      <td>...</td>\n",
       "      <td>5.293650e-02</td>\n",
       "      <td>0.120480</td>\n",
       "      <td>9.508600e-01</td>\n",
       "      <td>0.005514</td>\n",
       "      <td>9.753600e+00</td>\n",
       "      <td>6.634200</td>\n",
       "      <td>7.141350e+01</td>\n",
       "      <td>5.078750</td>\n",
       "      <td>4.308900</td>\n",
       "      <td>0.000000</td>\n",
       "    </tr>\n",
       "    <tr>\n",
       "      <th>75%</th>\n",
       "      <td>27415.000000</td>\n",
       "      <td>0.130080</td>\n",
       "      <td>0.689240</td>\n",
       "      <td>0.404840</td>\n",
       "      <td>2.794200</td>\n",
       "      <td>5.104700e+01</td>\n",
       "      <td>0.086872</td>\n",
       "      <td>0.151670</td>\n",
       "      <td>2.606125</td>\n",
       "      <td>2.063000</td>\n",
       "      <td>...</td>\n",
       "      <td>1.294525e-01</td>\n",
       "      <td>0.286285</td>\n",
       "      <td>9.927100e-01</td>\n",
       "      <td>0.234970</td>\n",
       "      <td>2.016175e+01</td>\n",
       "      <td>10.379500</td>\n",
       "      <td>1.171925e+02</td>\n",
       "      <td>8.606525</td>\n",
       "      <td>9.788900</td>\n",
       "      <td>0.000000</td>\n",
       "    </tr>\n",
       "    <tr>\n",
       "      <th>max</th>\n",
       "      <td>36553.000000</td>\n",
       "      <td>94.280000</td>\n",
       "      <td>480.960000</td>\n",
       "      <td>28.336000</td>\n",
       "      <td>53433.000000</td>\n",
       "      <td>1.034100e+06</td>\n",
       "      <td>543.250000</td>\n",
       "      <td>649.230000</td>\n",
       "      <td>53432.000000</td>\n",
       "      <td>9742.300000</td>\n",
       "      <td>...</td>\n",
       "      <td>1.120200e+02</td>\n",
       "      <td>552.640000</td>\n",
       "      <td>1.108300e+06</td>\n",
       "      <td>23853.000000</td>\n",
       "      <td>4.818700e+06</td>\n",
       "      <td>108000.000000</td>\n",
       "      <td>2.501600e+07</td>\n",
       "      <td>23454.000000</td>\n",
       "      <td>294770.000000</td>\n",
       "      <td>1.000000</td>\n",
       "    </tr>\n",
       "  </tbody>\n",
       "</table>\n",
       "<p>8 rows × 66 columns</p>\n",
       "</div>"
      ],
      "text/plain": [
       "                 ID         Attr1         Attr2         Attr3         Attr4  \\\n",
       "count  36553.000000  36545.000000  36545.000000  36545.000000  36442.000000   \n",
       "mean   18277.000000      0.051461      0.577743      0.127402      6.838949   \n",
       "std    10552.086531      1.670725      5.438081      4.917424    321.804895   \n",
       "min        1.000000   -256.890000   -430.870000   -479.960000     -0.045319   \n",
       "25%     9139.000000      0.003342      0.269610      0.022121      1.050625   \n",
       "50%    18277.000000      0.049595      0.472550      0.197470      1.571500   \n",
       "75%    27415.000000      0.130080      0.689240      0.404840      2.794200   \n",
       "max    36553.000000     94.280000    480.960000     28.336000  53433.000000   \n",
       "\n",
       "              Attr5         Attr6         Attr7         Attr8         Attr9  \\\n",
       "count  3.647700e+04  36545.000000  36545.000000  36474.000000  36546.000000   \n",
       "mean  -4.823320e+02     -0.030899      0.115142     12.906786      2.674919   \n",
       "std    6.617408e+04      6.518182      5.628794    520.063823     64.903626   \n",
       "min   -1.190300e+07   -508.410000   -517.480000   -141.410000     -3.496000   \n",
       "25%   -4.900900e+01      0.000000      0.005693      0.428970      1.018700   \n",
       "50%   -8.095900e-01      0.000000      0.059546      1.069300      1.199900   \n",
       "75%    5.104700e+01      0.086872      0.151670      2.606125      2.063000   \n",
       "max    1.034100e+06    543.250000    649.230000  53432.000000   9742.300000   \n",
       "\n",
       "           ...             Attr56        Attr57        Attr58        Attr59  \\\n",
       "count      ...       3.644000e+04  36546.000000  3.647700e+04  36546.000000   \n",
       "mean       ...      -3.114462e+01     -0.017852  3.495525e+01      1.480542   \n",
       "std        ...       5.806271e+03     14.507844  5.812797e+03    132.743470   \n",
       "min        ...      -1.108300e+06  -1667.300000 -1.986900e+02   -327.970000   \n",
       "25%        ...       9.144250e-03      0.014675  8.751900e-01      0.000000   \n",
       "50%        ...       5.293650e-02      0.120480  9.508600e-01      0.005514   \n",
       "75%        ...       1.294525e-01      0.286285  9.927100e-01      0.234970   \n",
       "max        ...       1.120200e+02    552.640000  1.108300e+06  23853.000000   \n",
       "\n",
       "             Attr60         Attr61        Attr62        Attr63         Attr64  \\\n",
       "count  3.472000e+04   36467.000000  3.644000e+04  36442.000000   35859.000000   \n",
       "mean   4.820583e+02      17.681064  1.783960e+03      9.416529      77.345570   \n",
       "std    3.509410e+04     600.955679  1.512356e+05    131.812478    2560.625896   \n",
       "min   -1.244000e+01     -12.656000 -1.496500e+04     -0.367890      -3.726500   \n",
       "25%    5.524575e+00       4.512200  4.212250e+01      3.098925       2.187150   \n",
       "50%    9.753600e+00       6.634200  7.141350e+01      5.078750       4.308900   \n",
       "75%    2.016175e+01      10.379500  1.171925e+02      8.606525       9.788900   \n",
       "max    4.818700e+06  108000.000000  2.501600e+07  23454.000000  294770.000000   \n",
       "\n",
       "             target  \n",
       "count  36553.000000  \n",
       "mean       0.048286  \n",
       "std        0.214373  \n",
       "min        0.000000  \n",
       "25%        0.000000  \n",
       "50%        0.000000  \n",
       "75%        0.000000  \n",
       "max        1.000000  \n",
       "\n",
       "[8 rows x 66 columns]"
      ]
     },
     "execution_count": 6,
     "metadata": {},
     "output_type": "execute_result"
    }
   ],
   "source": [
    "bank_data.describe()"
   ]
  },
  {
   "cell_type": "code",
   "execution_count": 9,
   "metadata": {},
   "outputs": [
    {
     "data": {
      "text/plain": [
       "<matplotlib.axes._subplots.AxesSubplot at 0x2145817cf28>"
      ]
     },
     "execution_count": 9,
     "metadata": {},
     "output_type": "execute_result"
    },
    {
     "data": {
      "image/png": "[encoded data removed]",
      "text/plain": [
       "<Figure size 432x288 with 1 Axes>"
      ]
     },
     "metadata": {
      "needs_background": "light"
     },
     "output_type": "display_data"
    }
   ],
   "source": [
    "bank_data.boxplot(\"Attr1\")"
   ]
  },
  {
   "cell_type": "code",
   "execution_count": 11,
   "metadata": {},
   "outputs": [
    {
     "data": {
      "text/plain": [
       "<matplotlib.axes._subplots.AxesSubplot at 0x21458281be0>"
      ]
     },
     "execution_count": 11,
     "metadata": {},
     "output_type": "execute_result"
    },
    {
     "data": {
      "image/png": "[encoded data removed]",
      "text/plain": [
       "<Figure size 432x288 with 1 Axes>"
      ]
     },
     "metadata": {
      "needs_background": "light"
     },
     "output_type": "display_data"
    }
   ],
   "source": [
    "bank_data[\"Attr1\"] = np.where(bank_data[\"Attr1\"] > 40, np.NaN, bank_data[\"Attr1\"])\n",
    "bank_data.boxplot(\"Attr1\")"
   ]
  },
  {
   "cell_type": "code",
   "execution_count": 12,
   "metadata": {},
   "outputs": [
    {
     "data": {
      "text/plain": [
       "<matplotlib.axes._subplots.AxesSubplot at 0x214585760b8>"
      ]
     },
     "execution_count": 12,
     "metadata": {},
     "output_type": "execute_result"
    },
    {
     "data": {
      "image/png": "[encoded data removed]",
      "text/plain": [
       "<Figure size 432x288 with 1 Axes>"
      ]
     },
     "metadata": {
      "needs_background": "light"
     },
     "output_type": "display_data"
    }
   ],
   "source": [
    "bank_data[\"Attr1\"] = np.where(bank_data[\"Attr1\"] < -50, np.NaN, bank_data[\"Attr1\"])\n",
    "bank_data.boxplot(\"Attr1\")"
   ]
  },
  {
   "cell_type": "code",
   "execution_count": 13,
   "metadata": {},
   "outputs": [
    {
     "data": {
      "text/plain": [
       "<matplotlib.axes._subplots.AxesSubplot at 0x214585d5c18>"
      ]
     },
     "execution_count": 13,
     "metadata": {},
     "output_type": "execute_result"
    },
    {
     "data": {
      "image/png": "[encoded data removed]",
      "text/plain": [
       "<Figure size 432x288 with 1 Axes>"
      ]
     },
     "metadata": {
      "needs_background": "light"
     },
     "output_type": "display_data"
    }
   ],
   "source": [
    "bank_data[\"Attr1\"] = np.where(bank_data[\"Attr1\"] > 5, np.NaN, bank_data[\"Attr1\"])\n",
    "bank_data.boxplot(\"Attr1\")"
   ]
  },
  {
   "cell_type": "code",
   "execution_count": 14,
   "metadata": {},
   "outputs": [
    {
     "data": {
      "text/plain": [
       "<matplotlib.axes._subplots.AxesSubplot at 0x2145861a320>"
      ]
     },
     "execution_count": 14,
     "metadata": {},
     "output_type": "execute_result"
    },
    {
     "data": {
      "image/png": "[encoded data removed]",
      "text/plain": [
       "<Figure size 432x288 with 1 Axes>"
      ]
     },
     "metadata": {
      "needs_background": "light"
     },
     "output_type": "display_data"
    }
   ],
   "source": [
    "bank_data[\"Attr1\"] = np.where(bank_data[\"Attr1\"] < -10, np.NaN, bank_data[\"Attr1\"])\n",
    "bank_data.boxplot(\"Attr1\")"
   ]
  },
  {
   "cell_type": "code",
   "execution_count": 15,
   "metadata": {},
   "outputs": [
    {
     "data": {
      "text/plain": [
       "<matplotlib.axes._subplots.AxesSubplot at 0x21458688eb8>"
      ]
     },
     "execution_count": 15,
     "metadata": {},
     "output_type": "execute_result"
    },
    {
     "data": {
      "image/png": "[encoded data removed]",
      "text/plain": [
       "<Figure size 432x288 with 1 Axes>"
      ]
     },
     "metadata": {
      "needs_background": "light"
     },
     "output_type": "display_data"
    }
   ],
   "source": [
    "bank_data[\"Attr1\"] = np.where(bank_data[\"Attr1\"] < -6.5, np.NaN, bank_data[\"Attr1\"])\n",
    "bank_data.boxplot(\"Attr1\")"
   ]
  }
 ],
 "metadata": {
  "kernelspec": {
   "display_name": "Python 3",
   "language": "python",
   "name": "python3"
  },
  "language_info": {
   "codemirror_mode": {
    "name": "ipython",
    "version": 3
   },
   "file_extension": ".py",
   "mimetype": "text/x-python",
   "name": "python",
   "nbconvert_exporter": "python",
   "pygments_lexer": "ipython3",
   "version": "3.7.0"
  }
 },
 "nbformat": 4,
 "nbformat_minor": 2
}
